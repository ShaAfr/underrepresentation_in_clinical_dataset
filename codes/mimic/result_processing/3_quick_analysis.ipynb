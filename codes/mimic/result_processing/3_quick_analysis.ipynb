{
 "cells": [
  {
   "cell_type": "code",
   "execution_count": null,
   "metadata": {},
   "outputs": [],
   "source": [
    "from os import listdir\n",
    "from os.path import isfile, join\n",
    "import fnmatch\n",
    "import pandas as pd\n",
    "\n",
    "\n",
    "# *************** change only model name in the following line ******************** \n",
    "#model_path = r\"csv_files/decomp_dp_age30_1/test/\"\n",
    "#model_path_val = r\"csv_files/dp_black_1_test/val/\"\n",
    "model_path = r\"csv_files/original/test/\"\n",
    "\n",
    "# take the csv files in that directory\n",
    "files = [f for f in listdir(model_path) if fnmatch.fnmatch(f, '*test_isotonic*.csv')]\n",
    "#files = [f for f in listdir(model_path) if fnmatch.fnmatch(f, '*.csv')]\n",
    "\n",
    "\n",
    "print(files)"
   ]
  },
  {
   "cell_type": "code",
   "execution_count": null,
   "metadata": {},
   "outputs": [],
   "source": [
    "# add age, race information into the csv files\n",
    "\n",
    "for f in files:\n",
    "    analysis2 = pd.read_csv(model_path+f)\n",
    "    print(analysis2.shape)\n",
    "\n",
    "    output_result = 'temp_' + f\n",
    "\n",
    "    ###############################################\n",
    "    # spliting admission id values\n",
    "    ##############################################\n",
    "\n",
    "    analysis2[['id','not_needed','not_needed2']] = analysis2.stay.str.split('_',expand=True,)\n",
    "    analysis2\n",
    "\n",
    "    ################################################\n",
    "    # delete the \"not_needed\" and \"not_needed2\" part\n",
    "    ################################################\n",
    "    analysis2.drop([\"not_needed\", \"not_needed2\"],axis=1, inplace=True)\n",
    "    analysis2\n",
    "\n",
    "    analysis2.rename(columns={'id':'SUBJECT_ID'}, inplace= True)\n",
    "\n",
    "    admi = pd.read_csv(r'D:\\Google Drive\\PhD\\Dr. Daphne Yao\\Mimic Project\\JupyterNotebookFiles_new\\MIMIC\\decomp\\new\\Experiment 2\\ADMISSIONS.csv')\n",
    "\n",
    "    admi_modified = admi[['SUBJECT_ID','ETHNICITY','ADMITTIME']]\n",
    "    admi_modified.drop_duplicates(subset=[\"SUBJECT_ID\"],keep=\"first\" , inplace=True)\n",
    "    analysis2 = analysis2.astype({'SUBJECT_ID':'int64'})\n",
    "    result = pd.merge(analysis2,admi_modified,how='left', on='SUBJECT_ID')\n",
    "\n",
    "    patients = pd.read_csv(r'D:\\Google Drive\\PhD\\Dr. Daphne Yao\\Mimic Project\\JupyterNotebookFiles_new\\MIMIC\\decomp\\new\\Experiment 2\\PATIENTS.csv')\n",
    "    patients_modified = patients[['SUBJECT_ID','GENDER','DOB']]\n",
    "    patients_modified.drop_duplicates(subset=[\"SUBJECT_ID\"],keep=\"first\", inplace=True)\n",
    "\n",
    "    result2 = pd.merge(result,patients_modified,how='left', on='SUBJECT_ID')\n",
    "    result2['DOB'] = pd.to_datetime(result2.DOB)\n",
    "    result2['ADMITTIME'] = pd.to_datetime(result2.ADMITTIME)\n",
    "    result2['AGE'] = result2['ADMITTIME'].dt.year - result2['DOB'].dt.year\n",
    "    #drop unnecessary column\n",
    "    result2 = result2.drop(columns = ['DOB', 'ADMITTIME', 'SUBJECT_ID'])\n",
    "\n",
    "    result2.to_csv(model_path+output_result, index=False)\n",
    "\n",
    "\n"
   ]
  },
  {
   "cell_type": "code",
   "execution_count": null,
   "metadata": {},
   "outputs": [],
   "source": []
  },
  {
   "cell_type": "code",
   "execution_count": null,
   "metadata": {},
   "outputs": [],
   "source": []
  }
 ],
 "metadata": {
  "kernelspec": {
   "display_name": "Python 3",
   "language": "python",
   "name": "python3"
  },
  "language_info": {
   "codemirror_mode": {
    "name": "ipython",
    "version": 3
   },
   "file_extension": ".py",
   "mimetype": "text/x-python",
   "name": "python",
   "nbconvert_exporter": "python",
   "pygments_lexer": "ipython3",
   "version": "3.8.5"
  }
 },
 "nbformat": 4,
 "nbformat_minor": 2
}
