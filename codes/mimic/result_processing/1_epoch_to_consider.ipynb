{
 "cells": [
  {
   "cell_type": "markdown",
   "metadata": {},
   "source": [
    "### Input"
   ]
  },
  {
   "cell_type": "code",
   "execution_count": null,
   "metadata": {},
   "outputs": [],
   "source": [
    "#input result output file and How many training results are there\n",
    "dp_or_others = \"others\"\n",
    "filename = r\"G:\\My Drive\\PhD\\Dr. Daphne Yao\\Mimic Project\\August_2021_error_bar\\2 train_output\\sharminafrose\\multiple_original.txt\"\n",
    "HowManyTrainingResultAreHere = 3\n",
    "HowManyEpoch = 100"
   ]
  },
  {
   "cell_type": "markdown",
   "metadata": {},
   "source": [
    "### PRC max values "
   ]
  },
  {
   "cell_type": "code",
   "execution_count": null,
   "metadata": {},
   "outputs": [],
   "source": [
    "#needed\n",
    "with open(filename,'r') as f:\n",
    "    targets_PRC = [s for s in f.readlines() if \"AUC of PRC\" in s]\n",
    "    \n",
    "listofPRC = []\n",
    "for line in targets_PRC:\n",
    "    listofPRC.append(float(line[13:18]))\n",
    "len(listofPRC)\n"
   ]
  },
  {
   "cell_type": "markdown",
   "metadata": {},
   "source": [
    "### Model Names: models"
   ]
  },
  {
   "cell_type": "code",
   "execution_count": null,
   "metadata": {},
   "outputs": [],
   "source": [
    "# needed\n",
    "with open(filename,'r') as f:\n",
    "    targets_Model = [s for s in f.readlines() if \"/keras_states/\" in s]\n",
    "    \n",
    "listofModel = []\n",
    "for line in targets_Model:\n",
    "    listofModel.append(line)\n",
    "len(listofModel)"
   ]
  },
  {
   "cell_type": "markdown",
   "metadata": {},
   "source": [
    "### Model Names: Balanced Accuracy"
   ]
  },
  {
   "cell_type": "code",
   "execution_count": null,
   "metadata": {},
   "outputs": [],
   "source": [
    "#needed\n",
    "with open(filename,'r') as f:\n",
    "    targets_Recall_0 = [s for s in f.readlines() if \"recall class 0\" in s]\n",
    "    \n",
    "listofRec0 = []\n",
    "for line in targets_Recall_0:\n",
    "    listofRec0.append(float(line[17:22]))\n",
    "len(listofRec0)\n",
    "\n",
    "with open(filename,'r') as f:\n",
    "    targets_Recall_1 = [s for s in f.readlines() if \"recall class 1\" in s]\n",
    "    \n",
    "listofRec1 = []\n",
    "for line in targets_Recall_1:\n",
    "    listofRec1.append(float(line[17:22]))\n",
    "len(listofRec1)\n"
   ]
  },
  {
   "cell_type": "code",
   "execution_count": null,
   "metadata": {},
   "outputs": [],
   "source": [
    "# needed\n",
    "balancedAccuracy = []\n",
    "for i in range(len(listofRec1)):\n",
    "    balacc = (listofRec1[i] + listofRec0[i])/2\n",
    "    balancedAccuracy.append(balacc) \n",
    "\n",
    "len(balancedAccuracy)\n",
    "    "
   ]
  },
  {
   "cell_type": "code",
   "execution_count": null,
   "metadata": {},
   "outputs": [],
   "source": [
    "#calculation for graph\n",
    "import heapq\n",
    "\n",
    "upperval = HowManyEpoch*2\n",
    "lowerval= 1\n",
    "bestprcindexfinal = []\n",
    "for ran in range(HowManyTrainingResultAreHere):\n",
    "    graph_prc = []\n",
    "    graph_bal_acc = []\n",
    "    for i in range(lowerval,upperval,2):\n",
    "            graph_prc.append(listofPRC[i])\n",
    "            graph_bal_acc.append(balancedAccuracy[i])\n",
    "            \n",
    "    print(\"\\n*******information about\", str(ran + 2) , \"unit run *********\")\n",
    "    list_index = heapq.nlargest(3, range(len(graph_bal_acc)), key=graph_bal_acc.__getitem__)\n",
    "    print(list_index)\n",
    "    maximum_index = max(list_index)\n",
    "    minimum_index = min(list_index)\n",
    "    print(heapq.nlargest(3, graph_bal_acc))\n",
    "    \n",
    "    modified_Prc_List = graph_prc[minimum_index:maximum_index]\n",
    "    highestprc_idx = modified_Prc_List.index(max(modified_Prc_List))\n",
    "    original = highestprc_idx + minimum_index\n",
    "    print((original+1), \" epoch has highest prc value of \" + str(max(modified_Prc_List)))\n",
    "    bestprcindexfinal.append(original)\n",
    "    lowerval = lowerval + HowManyEpoch*2\n",
    "    upperval = upperval + HowManyEpoch*2\n"
   ]
  },
  {
   "cell_type": "code",
   "execution_count": null,
   "metadata": {},
   "outputs": [],
   "source": [
    "#considered epoch (+1 when read as index start with 0)\n",
    "bestprcindexfinal"
   ]
  },
  {
   "cell_type": "code",
   "execution_count": null,
   "metadata": {},
   "outputs": [],
   "source": [
    "# model -- prints which epoch to consider; test commands to execute and other instructions\n",
    "final_models = []\n",
    "\n",
    "for ran in range(HowManyTrainingResultAreHere):\n",
    "    final_models.append(listofModel[ran*HowManyEpoch + bestprcindexfinal[ran]])\n",
    "\n",
    "print(final_models)\n",
    "for mod in final_models:\n",
    "    print(\"python -um mimic3models.in_hospital_mortality.main --network mimic3models/keras_models/lstm.py --dim 16 --depth 2 --batch_size 8 --dropout 0.3 --timestep 1.0 --load_state mimic3models/in_hospital_mortality/keras_states/{} --mode test\".format(str(mod[77:])))\n",
    "    #print(\"python -um mimic3models.decompensation.main --network mimic3models/keras_models/lstm.py --dim 128 --depth 1 --batch_size 8 --timestep 1.0 --load_state mimic3models/decompensation/keras_states/{} --mode test\".format(str(mod[70:])))\n",
    "#model_name = 'dp_age4050_2'\n",
    "model_name = 'decomp_dp_age30_1'\n",
    "val_or_test = 'val'\n",
    "print(\"mkdir csv_files\")\n",
    "print(\"mkdir csv_files/\" + model_name)\n",
    "print(\"mkdir csv_files/\" + model_name + \"/\"+ val_or_test)\n",
    "i=2\n",
    "for mod in final_models:\n",
    "    if dp_or_others == \"others\":\n",
    "        print(\"mv test_predictions/\" + str(mod[70:])+ \".csv \" + \"csv_files/\" + model_name + \"/\"+ val_or_test)\n",
    "    else:\n",
    "        print(\"mv test_predictions/\" + str(mod[70:])+ \".csv \" + \"csv_files/\" + model_name + \"/\"+ val_or_test + \"/unit_\" + str(i)+ '.csv')\n",
    "        i = i+1\n",
    "\n",
    "    \n"
   ]
  },
  {
   "cell_type": "code",
   "execution_count": null,
   "metadata": {},
   "outputs": [],
   "source": []
  },
  {
   "cell_type": "code",
   "execution_count": null,
   "metadata": {},
   "outputs": [],
   "source": []
  },
  {
   "cell_type": "code",
   "execution_count": null,
   "metadata": {},
   "outputs": [],
   "source": []
  }
 ],
 "metadata": {
  "kernelspec": {
   "display_name": "Python 3",
   "language": "python",
   "name": "python3"
  },
  "language_info": {
   "codemirror_mode": {
    "name": "ipython",
    "version": 3
   },
   "file_extension": ".py",
   "mimetype": "text/x-python",
   "name": "python",
   "nbconvert_exporter": "python",
   "pygments_lexer": "ipython3",
   "version": "3.8.5"
  }
 },
 "nbformat": 4,
 "nbformat_minor": 2
}
