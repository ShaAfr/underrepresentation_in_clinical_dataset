{
 "cells": [
  {
   "cell_type": "markdown",
   "metadata": {},
   "source": [
    "### Input"
   ]
  },
  {
   "cell_type": "code",
   "execution_count": null,
   "metadata": {},
   "outputs": [],
   "source": [
    "#input result output file and How many training results are there\n",
    "filename = \"run_output.txt\"\n",
    "HowManyTrainingResultAreHere = 1\n",
    "HowManyEpoch = 100"
   ]
  },
  {
   "cell_type": "markdown",
   "metadata": {},
   "source": [
    "### PRC max values "
   ]
  },
  {
   "cell_type": "code",
   "execution_count": null,
   "metadata": {},
   "outputs": [],
   "source": [
    "#needed\n",
    "with open(filename,'r') as f:\n",
    "    targets_PRC = [s for s in f.readlines() if \"AUC of PRC\" in s]\n",
    "    \n",
    "listofPRC = []\n",
    "for line in targets_PRC:\n",
    "    listofPRC.append(float(line[13:18]))\n",
    "len(listofPRC)"
   ]
  },
  {
   "cell_type": "markdown",
   "metadata": {},
   "source": [
    "### Model Names: models"
   ]
  },
  {
   "cell_type": "code",
   "execution_count": null,
   "metadata": {},
   "outputs": [],
   "source": [
    "# needed\n",
    "with open(filename,'r') as f:\n",
    "    targets_Model = [s for s in f.readlines() if \"/keras_states/\" in s]\n",
    "    \n",
    "listofModel = []\n",
    "for line in targets_Model:\n",
    "    listofModel.append(line)\n",
    "len(listofModel)"
   ]
  },
  {
   "cell_type": "markdown",
   "metadata": {},
   "source": [
    "### Model Names: Balanced Accuracy"
   ]
  },
  {
   "cell_type": "code",
   "execution_count": null,
   "metadata": {},
   "outputs": [],
   "source": [
    "#needed\n",
    "with open(filename,'r') as f:\n",
    "    targets_Recall_0 = [s for s in f.readlines() if \"recall class 0\" in s]\n",
    "    \n",
    "listofRec0 = []\n",
    "for line in targets_Recall_0:\n",
    "    listofRec0.append(float(line[17:22]))\n",
    "len(listofRec0)\n",
    "\n",
    "with open(filename,'r') as f:\n",
    "    targets_Recall_1 = [s for s in f.readlines() if \"recall class 1\" in s]\n",
    "    \n",
    "listofRec1 = []\n",
    "for line in targets_Recall_1:\n",
    "    listofRec1.append(float(line[17:22]))\n",
    "len(listofRec1)\n"
   ]
  },
  {
   "cell_type": "code",
   "execution_count": null,
   "metadata": {},
   "outputs": [],
   "source": [
    "# needed\n",
    "balancedAccuracy = []\n",
    "for i in range(len(listofRec1)):\n",
    "    balacc = (listofRec1[i] + listofRec0[i])/2\n",
    "    balancedAccuracy.append(balacc) \n",
    "\n",
    "len(balancedAccuracy)\n",
    "    "
   ]
  },
  {
   "cell_type": "code",
   "execution_count": null,
   "metadata": {},
   "outputs": [],
   "source": [
    "#calculation for graph\n",
    "import heapq\n",
    "\n",
    "upperval = HowManyEpoch*2\n",
    "lowerval= 1\n",
    "bestprcindexfinal = []\n",
    "for ran in range(HowManyTrainingResultAreHere):\n",
    "    graph_prc = []\n",
    "    graph_bal_acc = []\n",
    "    for i in range(lowerval,upperval,2):\n",
    "            graph_prc.append(listofPRC[i])\n",
    "            graph_bal_acc.append(balancedAccuracy[i])\n",
    "            \n",
    "    print(\"\\n*******information about\", str(ran + 2) , \"unit run *********\")\n",
    "    list_index = heapq.nlargest(3, range(len(graph_bal_acc)), key=graph_bal_acc.__getitem__)\n",
    "    print(list_index)\n",
    "    maximum_index = max(list_index)\n",
    "    minimum_index = min(list_index)\n",
    "    print(heapq.nlargest(3, graph_bal_acc))\n",
    "    \n",
    "    modified_Prc_List = graph_prc[minimum_index:maximum_index]\n",
    "    highestprc_idx = modified_Prc_List.index(max(modified_Prc_List))\n",
    "    original = highestprc_idx + minimum_index\n",
    "    print(original, \" epoch has highest prc value of \" + str(max(modified_Prc_List)))\n",
    "    bestprcindexfinal.append(original)\n",
    "    lowerval = lowerval + HowManyEpoch*2\n",
    "    upperval = upperval + HowManyEpoch*2\n"
   ]
  },
  {
   "cell_type": "code",
   "execution_count": null,
   "metadata": {},
   "outputs": [],
   "source": [
    "#considered epoch\n",
    "bestprcindexfinal"
   ]
  }
 ],
 "metadata": {
  "kernelspec": {
   "display_name": "Python 3",
   "language": "python",
   "name": "python3"
  },
  "language_info": {
   "codemirror_mode": {
    "name": "ipython",
    "version": 3
   },
   "file_extension": ".py",
   "mimetype": "text/x-python",
   "name": "python",
   "nbconvert_exporter": "python",
   "pygments_lexer": "ipython3",
   "version": "3.8.5"
  }
 },
 "nbformat": 4,
 "nbformat_minor": 2
}
