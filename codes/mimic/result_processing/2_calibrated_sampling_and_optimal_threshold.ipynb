{
 "cells": [
  {
   "cell_type": "code",
   "execution_count": null,
   "metadata": {
    "id": "QgEM-u_ZGtXl"
   },
   "outputs": [],
   "source": [
    "from sklearn.calibration import calibration_curve\n",
    "from sklearn.metrics import brier_score_loss\n",
    "from sklearn.isotonic import IsotonicRegression as IR\n",
    "from sklearn.linear_model import LogisticRegression as LR\n",
    "import matplotlib.pyplot as plt\n",
    "import numpy as np\n",
    "import pandas as pd"
   ]
  },
  {
   "cell_type": "code",
   "execution_count": null,
   "metadata": {
    "id": "11R6j3zmH5po"
   },
   "outputs": [],
   "source": [
    "def isotonic(preds, labels, test_preds):\n",
    "    preds = np.array(preds)\n",
    "    labels = np.array(labels)\n",
    "    test_preds = np.array(test_preds)\n",
    "\n",
    "    ir = IR(out_of_bounds='clip')\n",
    "    ir.fit( preds, labels )\n",
    "\n",
    "    p_calibrated_v = ir.transform( preds )\n",
    "    p_calibrated_t = ir.transform( test_preds )   # or ir.fit( p_test ), that's the same thing\n",
    "\n",
    "    return p_calibrated_v, p_calibrated_t"
   ]
  },
  {
   "cell_type": "code",
   "execution_count": null,
   "metadata": {},
   "outputs": [],
   "source": [
    "import heapq\n",
    "from sklearn.metrics import f1_score\n",
    "from sklearn.metrics import balanced_accuracy_score\n",
    "\n",
    "def Select_Threshold(df):\n",
    "    full_threshold_list = []\n",
    "    for threshold in np.arange(0,1.05,0.05):\n",
    "        df.drop(columns = ['y_pred'])\n",
    "        df['y_pred'] = df['calibrated_prediction'].apply(lambda x: 1 if x >= threshold else 0)\n",
    "        \n",
    "        y_pred = df[\"y_pred\"].values\n",
    "        y_true = df[\"y_true\"].values\n",
    "        \n",
    "        f1_C1 = f1_score(y_true, y_pred)\n",
    "        balanced_accuracy = balanced_accuracy_score(y_true, y_pred)\n",
    "\n",
    "        \n",
    "        full_threshold_list.append([threshold, f1_C1, balanced_accuracy])\n",
    "        \n",
    "    df_varying_threshold = pd.DataFrame(full_threshold_list, columns = ['threshold', 'f1_score', 'balanced_accuracy'])\n",
    "    \n",
    "    # select three highest F1 score and the the highest balanced accuracy\n",
    "    f1_scores = df_varying_threshold[\"f1_score\"].values\n",
    "    thresholds = df_varying_threshold[\"threshold\"].values\n",
    "    bal_acc_values = list(df_varying_threshold[\"balanced_accuracy\"].values)\n",
    "    \n",
    "    #print(heapq.nlargest(3, f1_scores))\n",
    "    list_index = heapq.nlargest(3, range(len(f1_scores)), key=f1_scores.__getitem__)\n",
    "    opt_threshold = thresholds[bal_acc_values.index(max(bal_acc_values[list_index[0]], bal_acc_values[list_index[1]], bal_acc_values[list_index[2]]))]\n",
    "    \n",
    "    \n",
    "    \n",
    "    return opt_threshold, df_varying_threshold  "
   ]
  },
  {
   "cell_type": "code",
   "execution_count": null,
   "metadata": {
    "id": "wAmllDafISPI"
   },
   "outputs": [],
   "source": [
    "def generate_calibrated_preds(model_path, file, trial):\n",
    "    df_val = pd.read_csv(model_path + \"/val/\" + file)\n",
    "    df_test = pd.read_csv(model_path + \"/test/\" + file)\n",
    "\n",
    "    # calibration \n",
    "    isotonic_calibrated = isotonic(df_val['prediction'], df_val['y_true'], df_test['prediction'])\n",
    "\n",
    "    # calibrated validation\n",
    "    df_val['calibrated_prediction'] = isotonic_calibrated[0]\n",
    "    df_val['y_pred'] = (isotonic_calibrated[0] >= 0.5).astype(np.int)  # just to put for formatting. No impact\n",
    "    \n",
    "    opt_threshold, df_opt_threshold = Select_Threshold(df_val)\n",
    "    print(opt_threshold)\n",
    "    df_val.drop(columns = ['y_pred'])\n",
    "    \n",
    "    df_val.to_csv(model_path + '/val/' + 'val_isotonic_' + str(trial) +'.csv', index=False)\n",
    "    # used during subgroup_threshold\n",
    "    #df_val.to_csv(model_path + '/val/' + 'val_isotonic_' + file +'.csv', index=False)\n",
    "    df_opt_threshold.to_csv(model_path + '/val/' + 'Threshold_F1_BalAcc_' + str(trial) +'.csv', index=False)\n",
    "    # used during subgroup threshold\n",
    "    #df_opt_threshold.to_csv(model_path + '/val/' + 'Threshold_F1_BalAcc_' + file +'.csv', index=False)\n",
    "\n",
    "    # calibrated test\n",
    "    df_test['calibrated_prediction'] = isotonic_calibrated[1]\n",
    "    df_test['y_pred'] = (isotonic_calibrated[1] >= opt_threshold).astype(np.int)\n",
    "    df_test.to_csv(model_path + '/test/' + 'test_isotonic_' + str(trial) +'.csv', index=False)\n",
    "    # used during subgroup threshold\n",
    "    #df_test.to_csv(model_path + '/test/' + 'test_isotonic_' + file +'.csv', index=False)"
   ]
  },
  {
   "cell_type": "code",
   "execution_count": null,
   "metadata": {},
   "outputs": [],
   "source": [
    "from os import listdir\n",
    "from os.path import isfile, join\n",
    "import fnmatch\n",
    "\n",
    "# Put the test and validation csv files in csv_files/MODEL_NAME/test/ and csv_files/MODEL_NAME/val respectively\n",
    "# *************** change model name here ******************** \n",
    "model_path = r\"csv_files\\original\"\n",
    "mypath_val = join(model_path, \"val\")\n",
    "\n",
    "# take the csv files in that directory\n",
    "#onlyfiles = [f for f in listdir(mypath_val) if isfile(join(mypath_val, f))]\n",
    "onlyfiles = [f for f in listdir(mypath_val) if fnmatch.fnmatch(f, '*.csv')]\n",
    "print(onlyfiles)\n",
    "\n",
    "# for all csv files, compute calibration\n",
    "for trial in range(len(onlyfiles)):\n",
    "    generate_calibrated_preds(model_path, onlyfiles[trial], trial)\n"
   ]
  },
  {
   "cell_type": "code",
   "execution_count": null,
   "metadata": {},
   "outputs": [],
   "source": []
  },
  {
   "cell_type": "code",
   "execution_count": null,
   "metadata": {},
   "outputs": [],
   "source": []
  }
 ],
 "metadata": {
  "colab": {
   "collapsed_sections": [],
   "name": "calibrate_sampling.ipynb",
   "provenance": []
  },
  "kernelspec": {
   "display_name": "Python 3",
   "language": "python",
   "name": "python3"
  },
  "language_info": {
   "codemirror_mode": {
    "name": "ipython",
    "version": 3
   },
   "file_extension": ".py",
   "mimetype": "text/x-python",
   "name": "python",
   "nbconvert_exporter": "python",
   "pygments_lexer": "ipython3",
   "version": "3.8.5"
  }
 },
 "nbformat": 4,
 "nbformat_minor": 1
}
