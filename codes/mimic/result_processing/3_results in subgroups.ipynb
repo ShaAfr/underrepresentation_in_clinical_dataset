{
 "cells": [
  {
   "cell_type": "code",
   "execution_count": null,
   "metadata": {
    "colab": {},
    "colab_type": "code",
    "id": "dKT4p2Ddo62x"
   },
   "outputs": [],
   "source": [
    "import pandas as pd"
   ]
  },
  {
   "cell_type": "markdown",
   "metadata": {
    "colab_type": "text",
    "id": "ocZoI7Yjo62t"
   },
   "source": [
    "#### Load data and clean data from demographics file"
   ]
  },
  {
   "cell_type": "code",
   "execution_count": null,
   "metadata": {
    "colab": {
     "base_uri": "https://localhost:8080/",
     "height": 428
    },
    "colab_type": "code",
    "executionInfo": {
     "elapsed": 1100,
     "status": "ok",
     "timestamp": 1588132337000,
     "user": {
      "displayName": "Sharmin Afrose",
      "photoUrl": "https://lh3.googleusercontent.com/a-/AOh14GgmRI-PB90eD46vxZRw7S-OxCOZHIZFwo_EPZC7=s64",
      "userId": "11004693519912286885"
     },
     "user_tz": 240
    },
    "id": "55awFZ-ho62p",
    "outputId": "4a714e32-ec75-4316-92a5-5408e0f6b1f8"
   },
   "outputs": [],
   "source": [
    "#output from 2_quick_analysis_from_output_csv\n",
    "xyz = 'temp_unit_1.csv'\n",
    "\n",
    "xyz_result = 'result_' + xyz\n",
    "\n",
    "demographics = pd.read_csv(xyz)\n",
    "print(demographics.shape)\n",
    "demographics.head()\n"
   ]
  },
  {
   "cell_type": "code",
   "execution_count": null,
   "metadata": {
    "colab": {
     "base_uri": "https://localhost:8080/",
     "height": 334
    },
    "colab_type": "code",
    "executionInfo": {
     "elapsed": 1369,
     "status": "ok",
     "timestamp": 1588132337301,
     "user": {
      "displayName": "Sharmin Afrose",
      "photoUrl": "https://lh3.googleusercontent.com/a-/AOh14GgmRI-PB90eD46vxZRw7S-OxCOZHIZFwo_EPZC7=s64",
      "userId": "11004693519912286885"
     },
     "user_tz": 240
    },
    "id": "lIdYSjdro62Y",
    "outputId": "835e4e01-f79d-4bf0-e94c-0801bfdb507a"
   },
   "outputs": [],
   "source": [
    "#confusion matrix\n",
    "from sklearn import metrics\n",
    "from sklearn.metrics import confusion_matrix\n",
    "from sklearn.metrics import accuracy_score\n",
    "from sklearn.metrics import recall_score\n",
    "from sklearn.metrics import precision_score\n",
    "from sklearn.metrics import f1_score\n",
    "from sklearn.metrics import roc_auc_score\n",
    "from sklearn.metrics import precision_recall_curve\n",
    "import numpy as np\n",
    "\n",
    "\n",
    "def result_print(y_true,y_pred,prediction):\n",
    "  print(\"Confusion Metrix\" , confusion_matrix(y_true, y_pred))\n",
    "  accuracy = accuracy_score(y_true, y_pred)\n",
    "  print(\"Accuracy Score \", accuracy)\n",
    "  recall = recall_score(y_true, y_pred)\n",
    "  print(\"recall_score\", recall)\n",
    "  precision = precision_score(y_true, y_pred)\n",
    "  print(\"precision_score\", precision)\n",
    "  f1 = f1_score(y_true, y_pred)\n",
    "  print(\"f1_score\", f1)\n",
    "  auc_roc = roc_auc_score(y_true, prediction)\n",
    "  print(\"roc_auc_score\", auc_roc)\n",
    "  #print(\"precision_recall_curve\", precision_recall_curve(y_true, y_pred))\n",
    "\n",
    "  CM = confusion_matrix(y_true, y_pred)\n",
    "  TN = CM[0][0]\n",
    "  FN = CM[1][0]\n",
    "  TP = CM[1][1]\n",
    "  FP = CM[0][1]\n",
    "  FPR = ((FP*0.1)/(FP+TN))\n",
    "  FNR = ((FN*0.1)/(FN+TP))\n",
    "  TPR = (TP) / (TP + FN)\n",
    "  TNR = (TN) / (TN + FP)\n",
    "  print(\"Precision_score (Group 0): \", (TN/(TN+FN)))\n",
    "  precision_0 = (TN/(TN+FN))\n",
    "  print(\"recall_score (Group 0): \", (TN/(TN+FP)))\n",
    "  recall_0 = (TN/(TN+FP))\n",
    "  print(\"false_positive_rate: \", FPR)\n",
    "  print(\"false_negative_rate: \", FNR)\n",
    "  balanced_accuracy = (TPR + TNR) / 2 \n",
    "  print(\"balanced_accuracy\", balanced_accuracy)\n",
    "\n",
    "  (precisions, recalls, thresholds) = metrics.precision_recall_curve(y_true, prediction)\n",
    "\n",
    "  y_true_inverse = []\n",
    "  for i in y_true:\n",
    "    y_true_inverse.append(1-i)\n",
    "  y_true_inverse = np.array(y_true_inverse)\n",
    "\n",
    "  y_pred_inverse = []\n",
    "  for i in y_pred:\n",
    "    y_pred_inverse.append(1-i)\n",
    "  y_pred_inverse = np.array(y_pred_inverse)  \n",
    "  prediction_inverse = []\n",
    "  for i in prediction:\n",
    "    prediction_inverse.append(1-i)\n",
    "  prediction_inverse = np.array(prediction_inverse)\n",
    "\n",
    "  precision_inv = precision_score(y_true_inverse, y_pred_inverse)\n",
    "  print(\"precision_score_inv: \", precision_inv)  \n",
    "\n",
    "  f1_inverse = f1_score(y_true_inverse, y_pred_inverse)\n",
    "  print(\"f1_score (class 0): \", f1_inverse)\n",
    "\n",
    "  (precisions_inverse, recalls_inverse, thresholds_inverse) = metrics.precision_recall_curve(y_true_inverse, prediction_inverse)\n",
    "\n",
    "  auc_roc_inverse = roc_auc_score(y_true_inverse, prediction_inverse)\n",
    "  print(\"roc_auc_score (class 0)\", auc_roc_inverse)\n",
    "  \n",
    "  \n",
    "\n",
    "  (precisions_inverse, recalls_inverse, thresholds_inverse) = metrics.precision_recall_curve(y_true_inverse, prediction_inverse)\n",
    "\n",
    "\n",
    "  \n",
    "  \n",
    "  \n",
    "  \n",
    "  auprc = metrics.auc(recalls, precisions)\n",
    "  print('PR Score_class1: ', auprc)\n",
    "\n",
    "  auprc_inverse = metrics.auc(recalls_inverse, precisions_inverse)\n",
    "  print('PR Score_class0: ', auprc_inverse)\n",
    "\n",
    "  \n",
    "  result_return = []\n",
    "  k = 3\n",
    "  \n",
    "  result_return.append(round(accuracy,k))\n",
    "  result_return.append(round(balanced_accuracy,k))\n",
    "  result_return.append(round(precision,k))\n",
    "  result_return.append(round(precision_0,k))\n",
    "  result_return.append(round(recall,k))\n",
    "  result_return.append(round(recall_0,k))\n",
    "  result_return.append(round(f1,k))\n",
    "  result_return.append(round(f1_inverse,k))\n",
    "  result_return.append(round(auc_roc,k))\n",
    "  #result_return.append(round(auc_roc_inverse,k))\n",
    "  result_return.append(round(FPR,4))\n",
    "  result_return.append(round(FNR,k))\n",
    "  result_return.append(round(auprc,k))\n",
    "  result_return.append(round(auprc_inverse,k))\n",
    "\n",
    "  return result_return\n",
    "\n",
    "full_list = []\n",
    "y_pred = demographics[\"y_pred\"].values\n",
    "y_true = demographics[\"y_true\"].values\n",
    "prediction = demographics[\"prediction\"].values\n",
    "print(\"For whole group:\")\n",
    "a = result_print(y_true,y_pred, prediction)\n",
    "a = ['whole']+ [demographics.shape[0]] + a\n",
    "full_list.append(a)"
   ]
  },
  {
   "cell_type": "code",
   "execution_count": null,
   "metadata": {
    "colab": {
     "base_uri": "https://localhost:8080/",
     "height": 650
    },
    "colab_type": "code",
    "executionInfo": {
     "elapsed": 1360,
     "status": "ok",
     "timestamp": 1588132337302,
     "user": {
      "displayName": "Sharmin Afrose",
      "photoUrl": "https://lh3.googleusercontent.com/a-/AOh14GgmRI-PB90eD46vxZRw7S-OxCOZHIZFwo_EPZC7=s64",
      "userId": "11004693519912286885"
     },
     "user_tz": 240
    },
    "id": "3Red1J2co62W",
    "outputId": "b56c80df-52ce-49ea-ba38-ff5230150222"
   },
   "outputs": [],
   "source": [
    "#Male Group\n",
    "demographics_male = demographics[demographics['GENDER'] == 'M']\n",
    "print(demographics_male.shape)\n",
    "print(\"For Male Group: \")\n",
    "result_print(demographics_male[\"y_true\"].values, demographics_male[\"y_pred\"].values, demographics_male[\"prediction\"].values)\n",
    "a = result_print(demographics_male[\"y_true\"].values, demographics_male[\"y_pred\"].values, demographics_male[\"prediction\"].values)\n",
    "\n",
    "a = ['Gender_Male']+ [demographics_male.shape[0]] + a\n",
    "full_list.append(a)"
   ]
  },
  {
   "cell_type": "code",
   "execution_count": null,
   "metadata": {
    "colab": {
     "base_uri": "https://localhost:8080/",
     "height": 351
    },
    "colab_type": "code",
    "executionInfo": {
     "elapsed": 1347,
     "status": "ok",
     "timestamp": 1588132337302,
     "user": {
      "displayName": "Sharmin Afrose",
      "photoUrl": "https://lh3.googleusercontent.com/a-/AOh14GgmRI-PB90eD46vxZRw7S-OxCOZHIZFwo_EPZC7=s64",
      "userId": "11004693519912286885"
     },
     "user_tz": 240
    },
    "id": "wFU_qK7Go62U",
    "outputId": "77e08e3c-c6cf-4c53-a7d9-5b27300c4d1e"
   },
   "outputs": [],
   "source": [
    "# Female Group\n",
    "demographics_female = demographics[demographics['GENDER'] == 'F']\n",
    "print(demographics_female.shape)\n",
    "print(\"For Female Group: \")\n",
    "a = result_print(demographics_female[\"y_true\"].values, demographics_female[\"y_pred\"].values, demographics_female[\"prediction\"].values)\n",
    "a = ['Gender_Female']+ [demographics_female.shape[0]] + a\n",
    "full_list.append(a)"
   ]
  },
  {
   "cell_type": "code",
   "execution_count": null,
   "metadata": {
    "colab": {
     "base_uri": "https://localhost:8080/",
     "height": 351
    },
    "colab_type": "code",
    "executionInfo": {
     "elapsed": 1334,
     "status": "ok",
     "timestamp": 1588132337303,
     "user": {
      "displayName": "Sharmin Afrose",
      "photoUrl": "https://lh3.googleusercontent.com/a-/AOh14GgmRI-PB90eD46vxZRw7S-OxCOZHIZFwo_EPZC7=s64",
      "userId": "11004693519912286885"
     },
     "user_tz": 240
    },
    "id": "ivJiSadjo62R",
    "outputId": "b2581488-5d52-4ef3-80dd-0094a45cabfe"
   },
   "outputs": [],
   "source": [
    "# white Group\n",
    "demographics = demographics.astype({'ETHNICITY':'str'})\n",
    "demographics_white = demographics[demographics['ETHNICITY'].str.contains(\"WHITE\")]\n",
    "print(demographics_white.shape)\n",
    "print(\"For white Group: \")\n",
    "a = result_print(demographics_white[\"y_true\"].values, demographics_white[\"y_pred\"].values, demographics_white[\"prediction\"].values)\n",
    "a = ['Ethnicity_White']+ [demographics_white.shape[0]] + a\n",
    "full_list.append(a)"
   ]
  },
  {
   "cell_type": "code",
   "execution_count": null,
   "metadata": {
    "colab": {
     "base_uri": "https://localhost:8080/",
     "height": 351
    },
    "colab_type": "code",
    "executionInfo": {
     "elapsed": 1626,
     "status": "ok",
     "timestamp": 1588132337608,
     "user": {
      "displayName": "Sharmin Afrose",
      "photoUrl": "https://lh3.googleusercontent.com/a-/AOh14GgmRI-PB90eD46vxZRw7S-OxCOZHIZFwo_EPZC7=s64",
      "userId": "11004693519912286885"
     },
     "user_tz": 240
    },
    "id": "aHFSb38Eo62O",
    "outputId": "d1c8f91b-b5cf-4740-a2f1-d106f2474cbf"
   },
   "outputs": [],
   "source": [
    "# Black Group\n",
    "demographics_black = demographics[demographics['ETHNICITY'].str.contains(\"BLACK\")]\n",
    "print(\"For black Group: \")\n",
    "print(demographics_black.shape)\n",
    "a = result_print(demographics_black[\"y_true\"].values, demographics_black[\"y_pred\"].values, demographics_black[\"prediction\"].values)\n",
    "a = ['Ethnicity_Black']+ [demographics_black.shape[0]] + a\n",
    "full_list.append(a)"
   ]
  },
  {
   "cell_type": "code",
   "execution_count": null,
   "metadata": {
    "colab": {
     "base_uri": "https://localhost:8080/",
     "height": 351
    },
    "colab_type": "code",
    "executionInfo": {
     "elapsed": 1558,
     "status": "ok",
     "timestamp": 1588132337609,
     "user": {
      "displayName": "Sharmin Afrose",
      "photoUrl": "https://lh3.googleusercontent.com/a-/AOh14GgmRI-PB90eD46vxZRw7S-OxCOZHIZFwo_EPZC7=s64",
      "userId": "11004693519912286885"
     },
     "user_tz": 240
    },
    "id": "dUegOQgmo62J",
    "outputId": "e92fe005-0fc4-4423-b72f-12b7dd3b065b"
   },
   "outputs": [],
   "source": [
    "#HISPANIC Group\n",
    "demographics_hispanic = demographics[demographics['ETHNICITY'].str.contains(\"HISPANIC\")]\n",
    "print(\"For HISPANIC Group: \")\n",
    "print(demographics_hispanic.shape)\n",
    "a = result_print(demographics_hispanic[\"y_true\"].values, demographics_hispanic[\"y_pred\"].values, demographics_hispanic[\"prediction\"].values)\n",
    "a = ['Ethnicity_Hispanic']+ [demographics_hispanic.shape[0]] + a\n",
    "full_list.append(a)"
   ]
  },
  {
   "cell_type": "code",
   "execution_count": null,
   "metadata": {
    "colab": {
     "base_uri": "https://localhost:8080/",
     "height": 351
    },
    "colab_type": "code",
    "executionInfo": {
     "elapsed": 1546,
     "status": "ok",
     "timestamp": 1588132337610,
     "user": {
      "displayName": "Sharmin Afrose",
      "photoUrl": "https://lh3.googleusercontent.com/a-/AOh14GgmRI-PB90eD46vxZRw7S-OxCOZHIZFwo_EPZC7=s64",
      "userId": "11004693519912286885"
     },
     "user_tz": 240
    },
    "id": "DyP_XJq_o62H",
    "outputId": "ff0f8b04-3047-4077-e5b4-6919f7dad5bc"
   },
   "outputs": [],
   "source": [
    "#ASIAN Group\n",
    "demographics_asian = demographics[demographics['ETHNICITY'].str.contains(\"ASIAN\")]\n",
    "print(\"For asian Group: \")\n",
    "print(demographics_asian.shape)\n",
    "a = result_print(demographics_asian[\"y_true\"].values, demographics_asian[\"y_pred\"].values, demographics_asian[\"prediction\"].values)\n",
    "a = ['Ethnicity_Asian']+ [demographics_asian.shape[0]] + a\n",
    "full_list.append(a)"
   ]
  },
  {
   "cell_type": "code",
   "execution_count": null,
   "metadata": {
    "colab": {
     "base_uri": "https://localhost:8080/",
     "height": 351
    },
    "colab_type": "code",
    "executionInfo": {
     "elapsed": 1537,
     "status": "ok",
     "timestamp": 1588132337610,
     "user": {
      "displayName": "Sharmin Afrose",
      "photoUrl": "https://lh3.googleusercontent.com/a-/AOh14GgmRI-PB90eD46vxZRw7S-OxCOZHIZFwo_EPZC7=s64",
      "userId": "11004693519912286885"
     },
     "user_tz": 240
    },
    "id": "UyljUrLto62E",
    "outputId": "f38f8603-ddb1-4490-b700-f6d6faa225ca"
   },
   "outputs": [],
   "source": [
    "#AGE Group (<30)\n",
    "demographics_less30 = demographics[demographics['AGE'] < 30]\n",
    "print(\"For age less than 30 Group: \")\n",
    "print(demographics_less30.shape)\n",
    "a = result_print(demographics_less30[\"y_true\"].values, demographics_less30[\"y_pred\"].values, demographics_less30[\"prediction\"].values)\n",
    "a = ['Age<30']+ [demographics_less30.shape[0]] + a\n",
    "full_list.append(a)\n"
   ]
  },
  {
   "cell_type": "code",
   "execution_count": null,
   "metadata": {
    "colab": {
     "base_uri": "https://localhost:8080/",
     "height": 351
    },
    "colab_type": "code",
    "executionInfo": {
     "elapsed": 1526,
     "status": "ok",
     "timestamp": 1588132337611,
     "user": {
      "displayName": "Sharmin Afrose",
      "photoUrl": "https://lh3.googleusercontent.com/a-/AOh14GgmRI-PB90eD46vxZRw7S-OxCOZHIZFwo_EPZC7=s64",
      "userId": "11004693519912286885"
     },
     "user_tz": 240
    },
    "id": "Vt5QvhoHo618",
    "outputId": "b8e8fce8-4c26-47a1-ab85-8ae732411198"
   },
   "outputs": [],
   "source": [
    "#AGE Group (30<age<40)\n",
    "demographics_age_30_40 = demographics[(demographics['AGE'] >= 30) & (demographics['AGE'] < 40) ]\n",
    "print(\"For age between 30 and 40 Group: \")\n",
    "print(demographics_age_30_40.shape)\n",
    "a = result_print(demographics_age_30_40[\"y_true\"].values, demographics_age_30_40[\"y_pred\"].values, demographics_age_30_40[\"prediction\"].values)\n",
    "\n",
    "a = ['30<=age<40']+ [demographics_age_30_40.shape[0]] + a\n",
    "full_list.append(a)"
   ]
  },
  {
   "cell_type": "code",
   "execution_count": null,
   "metadata": {
    "colab": {
     "base_uri": "https://localhost:8080/",
     "height": 351
    },
    "colab_type": "code",
    "executionInfo": {
     "elapsed": 1514,
     "status": "ok",
     "timestamp": 1588132337611,
     "user": {
      "displayName": "Sharmin Afrose",
      "photoUrl": "https://lh3.googleusercontent.com/a-/AOh14GgmRI-PB90eD46vxZRw7S-OxCOZHIZFwo_EPZC7=s64",
      "userId": "11004693519912286885"
     },
     "user_tz": 240
    },
    "id": "Z3QUz1pZSVcV",
    "outputId": "b46c0b2e-83aa-45a5-bc59-0927dbe6e4fb"
   },
   "outputs": [],
   "source": [
    "#AGE Group (40<age<50)\n",
    "demographics_age_40_50 = demographics[(demographics['AGE'] >= 40) & (demographics['AGE'] < 50) ]\n",
    "print(\"For age between 40 and 50 Group: \")\n",
    "print(demographics_age_40_50.shape)\n",
    "a = result_print(demographics_age_40_50[\"y_true\"].values, demographics_age_40_50[\"y_pred\"].values, demographics_age_40_50[\"prediction\"].values)\n",
    "\n",
    "a = ['40<=age<50']+ [demographics_age_40_50.shape[0]] + a\n",
    "full_list.append(a)"
   ]
  },
  {
   "cell_type": "code",
   "execution_count": null,
   "metadata": {
    "colab": {
     "base_uri": "https://localhost:8080/",
     "height": 351
    },
    "colab_type": "code",
    "executionInfo": {
     "elapsed": 1504,
     "status": "ok",
     "timestamp": 1588132337612,
     "user": {
      "displayName": "Sharmin Afrose",
      "photoUrl": "https://lh3.googleusercontent.com/a-/AOh14GgmRI-PB90eD46vxZRw7S-OxCOZHIZFwo_EPZC7=s64",
      "userId": "11004693519912286885"
     },
     "user_tz": 240
    },
    "id": "2nh-hu8JVG_z",
    "outputId": "04cc396e-e9cb-44ea-dc23-7238892594f6"
   },
   "outputs": [],
   "source": [
    "#AGE Group (50<age<60)\n",
    "demographics_age_50_60 = demographics[(demographics['AGE'] >= 50) & (demographics['AGE'] < 60) ]\n",
    "print(\"For age between 50 and 60 Group: \")\n",
    "print(demographics_age_50_60.shape)\n",
    "a = result_print(demographics_age_50_60[\"y_true\"].values, demographics_age_50_60[\"y_pred\"].values, demographics_age_50_60[\"prediction\"].values)\n",
    "\n",
    "a = ['50<=age<60']+ [demographics_age_50_60.shape[0]] + a\n",
    "full_list.append(a)"
   ]
  },
  {
   "cell_type": "code",
   "execution_count": null,
   "metadata": {
    "colab": {
     "base_uri": "https://localhost:8080/",
     "height": 351
    },
    "colab_type": "code",
    "executionInfo": {
     "elapsed": 1492,
     "status": "ok",
     "timestamp": 1588132337612,
     "user": {
      "displayName": "Sharmin Afrose",
      "photoUrl": "https://lh3.googleusercontent.com/a-/AOh14GgmRI-PB90eD46vxZRw7S-OxCOZHIZFwo_EPZC7=s64",
      "userId": "11004693519912286885"
     },
     "user_tz": 240
    },
    "id": "ZuimOgYaVgfs",
    "outputId": "4765d7ab-605e-4a9e-9d18-17c886899d8d"
   },
   "outputs": [],
   "source": [
    "#AGE Group (60<age<70)\n",
    "demographics_age_60_70 = demographics[(demographics['AGE'] >= 60) & (demographics['AGE'] < 70) ]\n",
    "print(\"For age between 60 and 70 Group: \")\n",
    "print(demographics_age_60_70.shape)\n",
    "a = result_print(demographics_age_60_70[\"y_true\"].values, demographics_age_60_70[\"y_pred\"].values, demographics_age_60_70[\"prediction\"].values)\n",
    "\n",
    "a = ['60<=age<70']+ [demographics_age_60_70.shape[0]] + a\n",
    "full_list.append(a)"
   ]
  },
  {
   "cell_type": "code",
   "execution_count": null,
   "metadata": {
    "colab": {
     "base_uri": "https://localhost:8080/",
     "height": 351
    },
    "colab_type": "code",
    "executionInfo": {
     "elapsed": 1481,
     "status": "ok",
     "timestamp": 1588132337613,
     "user": {
      "displayName": "Sharmin Afrose",
      "photoUrl": "https://lh3.googleusercontent.com/a-/AOh14GgmRI-PB90eD46vxZRw7S-OxCOZHIZFwo_EPZC7=s64",
      "userId": "11004693519912286885"
     },
     "user_tz": 240
    },
    "id": "JUAMXIfoVz8z",
    "outputId": "106de02f-12ff-48ba-b5d2-bdcd6b3201cf"
   },
   "outputs": [],
   "source": [
    "#AGE Group (70<age<80)\n",
    "demographics_age_70_80 = demographics[(demographics['AGE'] >= 70) & (demographics['AGE'] < 80) ]\n",
    "print(\"For age between 60 and 70 Group: \")\n",
    "print(demographics_age_70_80.shape)\n",
    "a = result_print(demographics_age_70_80[\"y_true\"].values, demographics_age_70_80[\"y_pred\"].values, demographics_age_70_80[\"prediction\"].values)\n",
    "\n",
    "a = ['70<=age<80']+ [demographics_age_70_80.shape[0]] + a\n",
    "full_list.append(a)"
   ]
  },
  {
   "cell_type": "code",
   "execution_count": null,
   "metadata": {
    "colab": {
     "base_uri": "https://localhost:8080/",
     "height": 351
    },
    "colab_type": "code",
    "executionInfo": {
     "elapsed": 1738,
     "status": "ok",
     "timestamp": 1588132337901,
     "user": {
      "displayName": "Sharmin Afrose",
      "photoUrl": "https://lh3.googleusercontent.com/a-/AOh14GgmRI-PB90eD46vxZRw7S-OxCOZHIZFwo_EPZC7=s64",
      "userId": "11004693519912286885"
     },
     "user_tz": 240
    },
    "id": "wU0qCWdrWvxY",
    "outputId": "0cfed3e6-e6aa-47ea-f47e-4aef19131c2d"
   },
   "outputs": [],
   "source": [
    "#AGE Group (80<age<90)\n",
    "demographics_age_80_90 = demographics[(demographics['AGE'] >= 80) & (demographics['AGE'] < 90) ]\n",
    "print(\"For age between 60 and 70 Group: \")\n",
    "print(demographics_age_80_90.shape)\n",
    "a = result_print(demographics_age_80_90[\"y_true\"].values, demographics_age_80_90[\"y_pred\"].values, demographics_age_80_90[\"prediction\"].values)\n",
    "\n",
    "a = ['80<=age<90']+ [demographics_age_80_90.shape[0]] + a\n",
    "full_list.append(a)"
   ]
  },
  {
   "cell_type": "code",
   "execution_count": null,
   "metadata": {
    "colab": {
     "base_uri": "https://localhost:8080/",
     "height": 351
    },
    "colab_type": "code",
    "executionInfo": {
     "elapsed": 1722,
     "status": "ok",
     "timestamp": 1588132337901,
     "user": {
      "displayName": "Sharmin Afrose",
      "photoUrl": "https://lh3.googleusercontent.com/a-/AOh14GgmRI-PB90eD46vxZRw7S-OxCOZHIZFwo_EPZC7=s64",
      "userId": "11004693519912286885"
     },
     "user_tz": 240
    },
    "id": "Ma8abw-Jo61u",
    "outputId": "e2066fad-3100-40e2-d6aa-e221dd2233a2"
   },
   "outputs": [],
   "source": [
    "#AGE Group (age>90)\n",
    "demographics_age_more_90 = demographics[(demographics['AGE'] >= 90)]\n",
    "print(\"For age more than 90 Group: \")\n",
    "print(demographics_age_more_90.shape)\n",
    "a = result_print(demographics_age_more_90[\"y_true\"].values, demographics_age_more_90[\"y_pred\"].values, demographics_age_more_90[\"prediction\"].values)\n",
    "a = ['age>90']+ [demographics_age_more_90.shape[0]] + a\n",
    "full_list.append(a)"
   ]
  },
  {
   "cell_type": "code",
   "execution_count": null,
   "metadata": {
    "colab": {
     "base_uri": "https://localhost:8080/",
     "height": 512
    },
    "colab_type": "code",
    "executionInfo": {
     "elapsed": 1710,
     "status": "ok",
     "timestamp": 1588132337902,
     "user": {
      "displayName": "Sharmin Afrose",
      "photoUrl": "https://lh3.googleusercontent.com/a-/AOh14GgmRI-PB90eD46vxZRw7S-OxCOZHIZFwo_EPZC7=s64",
      "userId": "11004693519912286885"
     },
     "user_tz": 240
    },
    "id": "bGk-ffFR5Evl",
    "outputId": "d1135d04-bb2a-4fd9-ff61-b2a1696cc69e"
   },
   "outputs": [],
   "source": [
    "df = pd.DataFrame(full_list)\n",
    "df"
   ]
  },
  {
   "cell_type": "code",
   "execution_count": null,
   "metadata": {
    "colab": {},
    "colab_type": "code",
    "id": "m9KMcNna5FjM"
   },
   "outputs": [],
   "source": [
    "df.columns = [\"Group\", \"Test_data\", \"Accuracy\", \"Balanced_Accuracy\", \"Precision_C1\", \"Precision_C0\", \"Recall_C1\",\"Recall_C0\", \"F1_C1\",\"F1_C0\", \"AUC_ROC\", \"FPR\", \"FNR\",\"AUC_PR_C1\", \"AUC_PR_C0\"]\n",
    "df.to_csv(xyz_result, index=False)"
   ]
  }
 ],
 "metadata": {
  "colab": {
   "collapsed_sections": [
    "YbeBQ38oJ8BV",
    "4zFx6N6n-sab"
   ],
   "name": "automated_analysis_on_table_ihm.ipynb",
   "provenance": []
  },
  "kernelspec": {
   "display_name": "Python 3",
   "language": "python",
   "name": "python3"
  },
  "language_info": {
   "codemirror_mode": {
    "name": "ipython",
    "version": 3
   },
   "file_extension": ".py",
   "mimetype": "text/x-python",
   "name": "python",
   "nbconvert_exporter": "python",
   "pygments_lexer": "ipython3",
   "version": "3.8.5"
  }
 },
 "nbformat": 4,
 "nbformat_minor": 1
}
