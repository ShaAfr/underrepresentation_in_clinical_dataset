{
 "cells": [
  {
   "cell_type": "code",
   "execution_count": 6,
   "id": "adult-thailand",
   "metadata": {},
   "outputs": [],
   "source": [
    "from sklearn.metrics import confusion_matrix\n",
    "from sklearn import metrics\n",
    "\n",
    "def result_performance(y_true,y_pred,prediction):\n",
    "    CM = confusion_matrix(y_true, y_pred)\n",
    "    TN = CM[0][0]\n",
    "    FN = CM[1][0]\n",
    "    TP = CM[1][1]\n",
    "    FP = CM[0][1]\n",
    "    FPR = ((FP*0.1)/(FP+TN))\n",
    "    FNR = ((FN*0.1)/(FN+TP))\n",
    "    TPR = (TP) / (TP + FN)\n",
    "    TNR = (TN) / (TN + FP)\n",
    "    balanced_accuracy = (TPR + TNR) / 2 \n",
    "\n",
    "    (precisions, recalls, thresholds) = metrics.precision_recall_curve(y_true, prediction)\n",
    "    auprc = metrics.auc(recalls, precisions)\n",
    "    k=3\n",
    "    \n",
    "    res_per = []\n",
    "    res_per.append(round(balanced_accuracy,k))\n",
    "    res_per.append(round(auprc,k))\n",
    "    \n",
    "    return res_per\n"
   ]
  },
  {
   "cell_type": "markdown",
   "id": "immediate-manhattan",
   "metadata": {},
   "source": [
    "### change parameters here"
   ]
  },
  {
   "cell_type": "code",
   "execution_count": 7,
   "id": "consecutive-stupid",
   "metadata": {},
   "outputs": [
    {
     "name": "stdout",
     "output_type": "stream",
     "text": [
      "['temp_test_isotonic_0.csv', 'temp_test_isotonic_1.csv', 'temp_test_isotonic_2.csv']\n"
     ]
    }
   ],
   "source": [
    "from os import listdir\n",
    "from os.path import isfile, join\n",
    "import fnmatch\n",
    "import pandas as pd\n",
    "\n",
    "\n",
    "# *************** change only model name and group in the following line ******************** \n",
    "model_path = r\"csv_files/dp_age90_4/test/\"\n",
    "model_choice = \"age90\"  # \"black\", \"age90\", \"asian\", \"age30\", \"hispanic\", \"white\", \"age8090\"\n",
    "\n",
    "# take the csv files in that directory\n",
    "files = [f for f in listdir(model_path) if fnmatch.fnmatch(f, '*temp_test_isotonic*.csv')]\n",
    "print(files)"
   ]
  },
  {
   "cell_type": "code",
   "execution_count": 8,
   "id": "aware-species",
   "metadata": {},
   "outputs": [
    {
     "name": "stdout",
     "output_type": "stream",
     "text": [
      "   bal_acc  AUC_PR_C1                     Files\n",
      "0    0.670      0.461  temp_test_isotonic_0.csv\n",
      "1    0.647      0.460  temp_test_isotonic_1.csv\n",
      "2    0.666      0.381  temp_test_isotonic_2.csv\n",
      "[0, 2, 1]\n",
      "[0.67, 0.666, 0.647]\n",
      "temp_test_isotonic_0.csv\n"
     ]
    }
   ],
   "source": [
    "import heapq\n",
    "\n",
    "full_metrics_list = []\n",
    "for f in files:\n",
    "    df = pd.read_csv(model_path + f)\n",
    "    if model_choice == 'black':\n",
    "        df = df[df['ETHNICITY'].str.contains(\"BLACK\")]\n",
    "    elif model_choice == 'asian':\n",
    "        df = df[df['ETHNICITY'].str.contains(\"ASIAN\")]\n",
    "    elif model_choice == 'white':\n",
    "        df = df[df['ETHNICITY'].str.contains(\"WHITE\")]\n",
    "    elif model_choice == 'hispanic':\n",
    "        df = df[df['ETHNICITY'].str.contains(\"HISPANIC\")]\n",
    "    elif model_choice == 'age90':\n",
    "        df = df[df['AGE'] >= 90]\n",
    "    elif model_choice == 'age30':\n",
    "        df = df[df['AGE'] < 30]\n",
    "    elif model_choice == 'age4050':\n",
    "        df = df[(df['AGE'] >= 40) & (df['AGE'] < 50)]\n",
    "    elif model_choice == 'age3040':\n",
    "        df = df[(df['AGE'] >= 30) & (df['AGE'] < 40)]\n",
    "    elif model_choice == 'age8090':\n",
    "        df = df[(df['AGE'] >= 80) & (df['AGE'] < 90)]\n",
    "    else:\n",
    "        print(\"ERROR!!!!\")\n",
    "    \n",
    "    y_pred = df[\"y_pred\"].values\n",
    "    y_true = df[\"y_true\"].values\n",
    "    prediction = df[\"calibrated_prediction\"].values\n",
    "    \n",
    "    full_metrics_list.append(result_performance(y_true,y_pred, prediction))\n",
    "    \n",
    "df_full_metrics = pd.DataFrame(full_metrics_list, columns = ['bal_acc', 'AUC_PR_C1']) \n",
    "df_full_metrics['Files'] = files\n",
    "print(df_full_metrics)\n",
    "\n",
    "bal_acc = df_full_metrics[\"bal_acc\"].values\n",
    "AUC_PR_C1 = list(df_full_metrics[\"AUC_PR_C1\"].values)\n",
    "\n",
    " \n",
    "list_index = heapq.nlargest(3, range(len(bal_acc)), key=bal_acc.__getitem__)\n",
    "print(list_index)\n",
    "print(heapq.nlargest(3, bal_acc))\n",
    "selected_file = files[AUC_PR_C1.index(max(AUC_PR_C1[list_index[0]], AUC_PR_C1[list_index[1]], AUC_PR_C1[list_index[2]]))]\n",
    "\n",
    "print(selected_file)\n",
    "\n",
    "    \n",
    "    "
   ]
  },
  {
   "cell_type": "code",
   "execution_count": null,
   "id": "convenient-berlin",
   "metadata": {},
   "outputs": [],
   "source": []
  },
  {
   "cell_type": "code",
   "execution_count": null,
   "id": "soviet-title",
   "metadata": {},
   "outputs": [],
   "source": []
  }
 ],
 "metadata": {
  "kernelspec": {
   "display_name": "Python 3",
   "language": "python",
   "name": "python3"
  },
  "language_info": {
   "codemirror_mode": {
    "name": "ipython",
    "version": 3
   },
   "file_extension": ".py",
   "mimetype": "text/x-python",
   "name": "python",
   "nbconvert_exporter": "python",
   "pygments_lexer": "ipython3",
   "version": "3.8.5"
  }
 },
 "nbformat": 4,
 "nbformat_minor": 5
}
