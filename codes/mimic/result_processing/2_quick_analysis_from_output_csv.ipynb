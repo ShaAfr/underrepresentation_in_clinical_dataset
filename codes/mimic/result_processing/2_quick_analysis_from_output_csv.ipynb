{
 "cells": [
  {
   "cell_type": "code",
   "execution_count": null,
   "metadata": {},
   "outputs": [],
   "source": [
    "import pandas as pd\n",
    "files = [\"unit_1.csv\",\"unit_2.csv\", \"unit_3.csv\",\"unit_4.csv\",\"unit_5.csv\", \"unit_6.csv\",\"unit_7.csv\",\"unit_8.csv\", \"unit_9.csv\",\"unit_10.csv\", \"unit_12.csv\",\"unit_14.csv\", \"unit_16.csv\",\"unit_18.csv\", \"unit_20.csv\"]"
   ]
  },
  {
   "cell_type": "code",
   "execution_count": null,
   "metadata": {},
   "outputs": [],
   "source": [
    "for f in files:\n",
    "    analysis2 = pd.read_csv(f)\n",
    "    print(analysis2.shape)\n",
    "    print(analysis2.head())\n",
    "\n",
    "    output_result = 'temp_' + f\n",
    "\n",
    "    ###############################################\n",
    "    # spliting admission id values\n",
    "    ##############################################\n",
    "\n",
    "    analysis2[['id','not_needed','not_needed2']] = analysis2.stay.str.split('_',expand=True,)\n",
    "    analysis2\n",
    "\n",
    "    ################################################\n",
    "    # delete the \"not_needed\" and \"not_needed2\" part\n",
    "    ################################################\n",
    "    analysis2.drop([\"not_needed\", \"not_needed2\"],axis=1, inplace=True)\n",
    "    analysis2\n",
    "\n",
    "    analysis2.rename(columns={'id':'SUBJECT_ID'}, inplace= True)\n",
    "\n",
    "    admi = pd.read_csv('ADMISSIONS.csv')\n",
    "\n",
    "    admi_modified = admi[['SUBJECT_ID','ETHNICITY','ADMITTIME']]\n",
    "    admi_modified.drop_duplicates(subset=\"SUBJECT_ID\",keep=\"first\", inplace=True)\n",
    "    analysis2 = analysis2.astype({'SUBJECT_ID':'int64'})\n",
    "    result = pd.merge(analysis2,admi_modified,how='left', on='SUBJECT_ID')\n",
    "\n",
    "    patients = pd.read_csv('PATIENTS.csv')\n",
    "    patients_modified = patients[['SUBJECT_ID','GENDER','DOB']]\n",
    "    patients_modified.drop_duplicates(subset=\"SUBJECT_ID\",keep=\"first\", inplace=True)\n",
    "\n",
    "    result2 = pd.merge(result,patients_modified,how='left', on='SUBJECT_ID')\n",
    "    result2['DOB'] = pd.to_datetime(result2.DOB)\n",
    "    result2['ADMITTIME'] = pd.to_datetime(result2.ADMITTIME)\n",
    "    result2['AGE'] = result2['ADMITTIME'].dt.year - result2['DOB'].dt.year\n",
    "    result2['y_pred'] = result2['prediction'].apply(lambda x: 1 if x >=0.5 else 0)\n",
    "\n",
    "    result2.to_csv(output_result)\n",
    "\n",
    "\n"
   ]
  },
  {
   "cell_type": "code",
   "execution_count": null,
   "metadata": {},
   "outputs": [],
   "source": []
  }
 ],
 "metadata": {
  "kernelspec": {
   "display_name": "Python 3",
   "language": "python",
   "name": "python3"
  },
  "language_info": {
   "codemirror_mode": {
    "name": "ipython",
    "version": 3
   },
   "file_extension": ".py",
   "mimetype": "text/x-python",
   "name": "python",
   "nbconvert_exporter": "python",
   "pygments_lexer": "ipython3",
   "version": "3.8.5"
  }
 },
 "nbformat": 4,
 "nbformat_minor": 2
}
