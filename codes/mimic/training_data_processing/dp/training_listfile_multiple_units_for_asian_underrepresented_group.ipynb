{
 "cells": [
  {
   "cell_type": "code",
   "execution_count": null,
   "metadata": {
    "colab": {},
    "colab_type": "code",
    "id": "nMKX5Xjo-sZ5"
   },
   "outputs": [],
   "source": [
    "import pandas as pd"
   ]
  },
  {
   "cell_type": "markdown",
   "metadata": {
    "colab_type": "text",
    "id": "bzFOZAD5-sZ8"
   },
   "source": [
    "#### Load data train"
   ]
  },
  {
   "cell_type": "code",
   "execution_count": null,
   "metadata": {
    "colab": {
     "base_uri": "https://localhost:8080/",
     "height": 221
    },
    "colab_type": "code",
    "executionInfo": {
     "elapsed": 803,
     "status": "ok",
     "timestamp": 1575218352364,
     "user": {
      "displayName": "Sharmin Afrose",
      "photoUrl": "https://lh3.googleusercontent.com/a-/AAuE7mBnpuLC2kj-w-tZpI48AfA500HRIHM8CG7i_Sgz=s64",
      "userId": "11004693519912286885"
     },
     "user_tz": 300
    },
    "id": "o9tFRYYU-sZ9",
    "outputId": "8fa6b621-ba1a-4791-fe97-3594fae5fae7"
   },
   "outputs": [],
   "source": [
    "file = \"train_listfile.csv\"\n",
    "analysis2 = pd.read_csv(file)\n",
    "print(analysis2.shape)\n",
    "analysis2.head()\n"
   ]
  },
  {
   "cell_type": "code",
   "execution_count": null,
   "metadata": {
    "colab": {
     "base_uri": "https://localhost:8080/",
     "height": 402
    },
    "colab_type": "code",
    "executionInfo": {
     "elapsed": 835,
     "status": "ok",
     "timestamp": 1578353066893,
     "user": {
      "displayName": "Sharmin Afrose",
      "photoUrl": "https://lh3.googleusercontent.com/a-/AAuE7mBnpuLC2kj-w-tZpI48AfA500HRIHM8CG7i_Sgz=s64",
      "userId": "11004693519912286885"
     },
     "user_tz": 300
    },
    "id": "aSnR8HgJVVzK",
    "outputId": "a5983725-4d16-4fbd-c844-68c879bf1957"
   },
   "outputs": [],
   "source": [
    "###############################################\n",
    "# spliting admission id values\n",
    "##############################################\n",
    "\n",
    "analysis2[['id','not_needed','not_needed2']] = analysis2.stay.str.split('_',expand=True,)\n",
    "analysis2"
   ]
  },
  {
   "cell_type": "code",
   "execution_count": null,
   "metadata": {
    "colab": {
     "base_uri": "https://localhost:8080/",
     "height": 402
    },
    "colab_type": "code",
    "executionInfo": {
     "elapsed": 1219,
     "status": "ok",
     "timestamp": 1578353068976,
     "user": {
      "displayName": "Sharmin Afrose",
      "photoUrl": "https://lh3.googleusercontent.com/a-/AAuE7mBnpuLC2kj-w-tZpI48AfA500HRIHM8CG7i_Sgz=s64",
      "userId": "11004693519912286885"
     },
     "user_tz": 300
    },
    "id": "smINaBKIl3zQ",
    "outputId": "9dac4b7b-fad4-438d-eaa2-f7721ae16fd1"
   },
   "outputs": [],
   "source": [
    "################################################\n",
    "# delete the \"not_needed\" and \"not_needed2\" part\n",
    "################################################\n",
    "analysis2.drop([\"not_needed\", \"not_needed2\"],axis=1, inplace=True)\n",
    "analysis2\n"
   ]
  },
  {
   "cell_type": "code",
   "execution_count": null,
   "metadata": {
    "colab": {},
    "colab_type": "code",
    "id": "e0hEShBQ1TOt"
   },
   "outputs": [],
   "source": [
    "analysis2.rename(columns={'id':'SUBJECT_ID'}, inplace= True)"
   ]
  },
  {
   "cell_type": "code",
   "execution_count": null,
   "metadata": {
    "colab": {
     "base_uri": "https://localhost:8080/",
     "height": 402
    },
    "colab_type": "code",
    "executionInfo": {
     "elapsed": 595,
     "status": "ok",
     "timestamp": 1578353071373,
     "user": {
      "displayName": "Sharmin Afrose",
      "photoUrl": "https://lh3.googleusercontent.com/a-/AAuE7mBnpuLC2kj-w-tZpI48AfA500HRIHM8CG7i_Sgz=s64",
      "userId": "11004693519912286885"
     },
     "user_tz": 300
    },
    "id": "ipIoosMJ2I3A",
    "outputId": "ac05c1fc-11f7-4d03-d790-6e4a15c083b6"
   },
   "outputs": [],
   "source": [
    "analysis2"
   ]
  },
  {
   "cell_type": "code",
   "execution_count": null,
   "metadata": {
    "colab": {},
    "colab_type": "code",
    "id": "VNrFFpdfodEZ"
   },
   "outputs": [],
   "source": [
    "#######################################################################################################\n",
    "# ADMISSION.csv file, taking only unique admission id and take the race. Join the table #\n",
    "#######################################################################################################"
   ]
  },
  {
   "cell_type": "code",
   "execution_count": null,
   "metadata": {
    "colab": {
     "base_uri": "https://localhost:8080/",
     "height": 383
    },
    "colab_type": "code",
    "executionInfo": {
     "elapsed": 1206,
     "status": "ok",
     "timestamp": 1578353074430,
     "user": {
      "displayName": "Sharmin Afrose",
      "photoUrl": "https://lh3.googleusercontent.com/a-/AAuE7mBnpuLC2kj-w-tZpI48AfA500HRIHM8CG7i_Sgz=s64",
      "userId": "11004693519912286885"
     },
     "user_tz": 300
    },
    "id": "lD04uC4fo9qz",
    "outputId": "4c551212-91f8-47c3-f32b-3d5890e17f92"
   },
   "outputs": [],
   "source": [
    "admi = pd.read_csv('ADMISSIONS.csv')\n",
    "admi.head()"
   ]
  },
  {
   "cell_type": "code",
   "execution_count": null,
   "metadata": {
    "colab": {
     "base_uri": "https://localhost:8080/",
     "height": 195
    },
    "colab_type": "code",
    "executionInfo": {
     "elapsed": 278,
     "status": "ok",
     "timestamp": 1578353074658,
     "user": {
      "displayName": "Sharmin Afrose",
      "photoUrl": "https://lh3.googleusercontent.com/a-/AAuE7mBnpuLC2kj-w-tZpI48AfA500HRIHM8CG7i_Sgz=s64",
      "userId": "11004693519912286885"
     },
     "user_tz": 300
    },
    "id": "R-rnkGhZqJ-K",
    "outputId": "25e4baef-a5af-4ebe-ba17-26267c84fe3a"
   },
   "outputs": [],
   "source": [
    "admi_modified = admi[['SUBJECT_ID','ETHNICITY']]\n",
    "admi_modified.head()"
   ]
  },
  {
   "cell_type": "code",
   "execution_count": null,
   "metadata": {
    "colab": {
     "base_uri": "https://localhost:8080/",
     "height": 402
    },
    "colab_type": "code",
    "executionInfo": {
     "elapsed": 826,
     "status": "ok",
     "timestamp": 1578353076271,
     "user": {
      "displayName": "Sharmin Afrose",
      "photoUrl": "https://lh3.googleusercontent.com/a-/AAuE7mBnpuLC2kj-w-tZpI48AfA500HRIHM8CG7i_Sgz=s64",
      "userId": "11004693519912286885"
     },
     "user_tz": 300
    },
    "id": "tOfLx-gHsBAj",
    "outputId": "1ac41466-8085-47bd-becb-90f4368d9028"
   },
   "outputs": [],
   "source": [
    "admi_modified"
   ]
  },
  {
   "cell_type": "code",
   "execution_count": null,
   "metadata": {
    "colab": {
     "base_uri": "https://localhost:8080/",
     "height": 34
    },
    "colab_type": "code",
    "executionInfo": {
     "elapsed": 1067,
     "status": "ok",
     "timestamp": 1578353077851,
     "user": {
      "displayName": "Sharmin Afrose",
      "photoUrl": "https://lh3.googleusercontent.com/a-/AAuE7mBnpuLC2kj-w-tZpI48AfA500HRIHM8CG7i_Sgz=s64",
      "userId": "11004693519912286885"
     },
     "user_tz": 300
    },
    "id": "tMDwouP7sEU7",
    "outputId": "a2289205-5278-4ba6-c371-4ca7f9d5ee58"
   },
   "outputs": [],
   "source": [
    "len(admi_modified.SUBJECT_ID.unique())"
   ]
  },
  {
   "cell_type": "code",
   "execution_count": null,
   "metadata": {
    "colab": {
     "base_uri": "https://localhost:8080/",
     "height": 101
    },
    "colab_type": "code",
    "executionInfo": {
     "elapsed": 457,
     "status": "ok",
     "timestamp": 1578353078436,
     "user": {
      "displayName": "Sharmin Afrose",
      "photoUrl": "https://lh3.googleusercontent.com/a-/AAuE7mBnpuLC2kj-w-tZpI48AfA500HRIHM8CG7i_Sgz=s64",
      "userId": "11004693519912286885"
     },
     "user_tz": 300
    },
    "id": "asj9dweFy3Zi",
    "outputId": "8aa96475-6019-4f7b-d35f-2d036d9027b1"
   },
   "outputs": [],
   "source": [
    "admi_modified.drop_duplicates(subset=\"SUBJECT_ID\",keep=\"first\", inplace=True)"
   ]
  },
  {
   "cell_type": "code",
   "execution_count": null,
   "metadata": {
    "colab": {
     "base_uri": "https://localhost:8080/",
     "height": 402
    },
    "colab_type": "code",
    "executionInfo": {
     "elapsed": 722,
     "status": "ok",
     "timestamp": 1578353079887,
     "user": {
      "displayName": "Sharmin Afrose",
      "photoUrl": "https://lh3.googleusercontent.com/a-/AAuE7mBnpuLC2kj-w-tZpI48AfA500HRIHM8CG7i_Sgz=s64",
      "userId": "11004693519912286885"
     },
     "user_tz": 300
    },
    "id": "VVyr4niHzhF9",
    "outputId": "36688144-be48-4210-82c9-ebdbcdb83433"
   },
   "outputs": [],
   "source": [
    "admi_modified"
   ]
  },
  {
   "cell_type": "code",
   "execution_count": null,
   "metadata": {
    "colab": {
     "base_uri": "https://localhost:8080/",
     "height": 202
    },
    "colab_type": "code",
    "executionInfo": {
     "elapsed": 927,
     "status": "ok",
     "timestamp": 1578353081384,
     "user": {
      "displayName": "Sharmin Afrose",
      "photoUrl": "https://lh3.googleusercontent.com/a-/AAuE7mBnpuLC2kj-w-tZpI48AfA500HRIHM8CG7i_Sgz=s64",
      "userId": "11004693519912286885"
     },
     "user_tz": 300
    },
    "id": "hAY2hwrV2SbI",
    "outputId": "d6b1bb00-a725-48a7-b69c-02883cc34e69"
   },
   "outputs": [],
   "source": [
    "############################\n",
    "# Merging...\n",
    "###########################\n",
    "print(analysis2.dtypes)\n",
    "print(admi_modified.dtypes)\n",
    "\n",
    "\n"
   ]
  },
  {
   "cell_type": "code",
   "execution_count": null,
   "metadata": {
    "colab": {},
    "colab_type": "code",
    "id": "GEGBSqm464gG"
   },
   "outputs": [],
   "source": [
    "analysis2 = analysis2.astype({'SUBJECT_ID':'int64'})"
   ]
  },
  {
   "cell_type": "code",
   "execution_count": null,
   "metadata": {
    "colab": {
     "base_uri": "https://localhost:8080/",
     "height": 402
    },
    "colab_type": "code",
    "executionInfo": {
     "elapsed": 826,
     "status": "ok",
     "timestamp": 1578353084036,
     "user": {
      "displayName": "Sharmin Afrose",
      "photoUrl": "https://lh3.googleusercontent.com/a-/AAuE7mBnpuLC2kj-w-tZpI48AfA500HRIHM8CG7i_Sgz=s64",
      "userId": "11004693519912286885"
     },
     "user_tz": 300
    },
    "id": "vyDQkfkQ6fVe",
    "outputId": "8ff06d04-469f-472b-b98a-99b5d6020914"
   },
   "outputs": [],
   "source": [
    "result = pd.merge(analysis2,admi_modified,how='left', on='SUBJECT_ID')\n",
    "result"
   ]
  },
  {
   "cell_type": "code",
   "execution_count": null,
   "metadata": {},
   "outputs": [],
   "source": [
    "samples_C1 = result[(result['ETHNICITY'].str.contains(\"ASIAN\")) & (result['y_true'] == 1)]\n",
    "samples_C0 = result[(result['ETHNICITY'].str.contains(\"ASIAN\")) & (result['y_true'] == 0)]\n",
    "print(samples_C1.shape)\n",
    "print(samples_C0.shape)\n",
    "print(\"percentage: \", (samples_C1.shape[0] * 100/ samples_C0.shape[0]))"
   ]
  },
  {
   "cell_type": "code",
   "execution_count": null,
   "metadata": {},
   "outputs": [],
   "source": [
    "black_samples_C1"
   ]
  },
  {
   "cell_type": "code",
   "execution_count": null,
   "metadata": {},
   "outputs": [],
   "source": [
    "full_list_two_unit_added = pd.concat([result, samples_C1])\n",
    "full_list_three_unit_added = pd.concat([full_list_two_unit_added, samples_C1])\n",
    "full_list_four_unit_added = pd.concat([full_list_three_unit_added, samples_C1])\n",
    "full_list_five_unit_added = pd.concat([full_list_four_unit_added, samples_C1])\n",
    "\n"
   ]
  },
  {
   "cell_type": "code",
   "execution_count": null,
   "metadata": {},
   "outputs": [],
   "source": [
    "full_list_six_unit_added = pd.concat([full_list_five_unit_added, samples_C1])\n",
    "full_list_seven_unit_added = pd.concat([full_list_six_unit_added, samples_C1])\n",
    "full_list_eight_unit_added = pd.concat([full_list_seven_unit_added, samples_C1])\n",
    "full_list_nine_unit_added = pd.concat([full_list_eight_unit_added, samples_C1])\n",
    "full_list_ten_unit_added = pd.concat([full_list_nine_unit_added, samples_C1])\n"
   ]
  },
  {
   "cell_type": "code",
   "execution_count": null,
   "metadata": {},
   "outputs": [],
   "source": [
    "full_list_11_unit_added = pd.concat([full_list_ten_unit_added, samples_C1])\n",
    "full_list_12_unit_added = pd.concat([full_list_11_unit_added, samples_C1])\n",
    "full_list_13_unit_added = pd.concat([full_list_12_unit_added, samples_C1])\n",
    "full_list_14_unit_added = pd.concat([full_list_13_unit_added, samples_C1])\n",
    "full_list_15_unit_added = pd.concat([full_list_14_unit_added, samples_C1])\n",
    "full_list_16_unit_added = pd.concat([full_list_15_unit_added, samples_C1])\n",
    "full_list_17_unit_added = pd.concat([full_list_16_unit_added, samples_C1])\n",
    "full_list_18_unit_added = pd.concat([full_list_17_unit_added, samples_C1])\n",
    "full_list_19_unit_added = pd.concat([full_list_18_unit_added, samples_C1])\n",
    "full_list_20_unit_added = pd.concat([full_list_19_unit_added, samples_C1])"
   ]
  },
  {
   "cell_type": "code",
   "execution_count": null,
   "metadata": {},
   "outputs": [],
   "source": [
    "full_list_two_unit_added.drop([\"SUBJECT_ID\", \"ETHNICITY\"],axis=1, inplace=True)\n",
    "full_list_two_unit_added"
   ]
  },
  {
   "cell_type": "code",
   "execution_count": null,
   "metadata": {},
   "outputs": [],
   "source": [
    "full_list_three_unit_added.drop([\"SUBJECT_ID\", \"ETHNICITY\"],axis=1, inplace=True)\n",
    "full_list_three_unit_added"
   ]
  },
  {
   "cell_type": "code",
   "execution_count": null,
   "metadata": {},
   "outputs": [],
   "source": [
    "full_list_four_unit_added.drop([\"SUBJECT_ID\", \"ETHNICITY\"],axis=1, inplace=True)\n",
    "full_list_four_unit_added"
   ]
  },
  {
   "cell_type": "code",
   "execution_count": null,
   "metadata": {},
   "outputs": [],
   "source": [
    "full_list_five_unit_added.drop([\"SUBJECT_ID\", \"ETHNICITY\"],axis=1, inplace=True)\n",
    "full_list_five_unit_added"
   ]
  },
  {
   "cell_type": "code",
   "execution_count": null,
   "metadata": {},
   "outputs": [],
   "source": [
    "full_list_six_unit_added.drop([\"SUBJECT_ID\", \"ETHNICITY\"],axis=1, inplace=True)\n",
    "full_list_seven_unit_added.drop([\"SUBJECT_ID\", \"ETHNICITY\"],axis=1, inplace=True)\n",
    "full_list_eight_unit_added.drop([\"SUBJECT_ID\", \"ETHNICITY\"],axis=1, inplace=True)\n",
    "full_list_nine_unit_added.drop([\"SUBJECT_ID\", \"ETHNICITY\"],axis=1, inplace=True)\n",
    "full_list_ten_unit_added.drop([\"SUBJECT_ID\", \"ETHNICITY\"],axis=1, inplace=True)"
   ]
  },
  {
   "cell_type": "code",
   "execution_count": null,
   "metadata": {},
   "outputs": [],
   "source": [
    "print(full_list_six_unit_added.shape)\n",
    "print(full_list_seven_unit_added.shape)\n",
    "print(full_list_eight_unit_added.shape)\n",
    "print(full_list_nine_unit_added.shape)\n",
    "print(full_list_ten_unit_added.shape)"
   ]
  },
  {
   "cell_type": "code",
   "execution_count": null,
   "metadata": {},
   "outputs": [],
   "source": [
    "full_list_12_unit_added.drop([\"SUBJECT_ID\", \"ETHNICITY\"],axis=1, inplace=True)\n",
    "full_list_14_unit_added.drop([\"SUBJECT_ID\", \"ETHNICITY\"],axis=1, inplace=True)\n",
    "full_list_16_unit_added.drop([\"SUBJECT_ID\", \"ETHNICITY\"],axis=1, inplace=True)\n",
    "full_list_18_unit_added.drop([\"SUBJECT_ID\", \"ETHNICITY\"],axis=1, inplace=True)\n",
    "full_list_20_unit_added.drop([\"SUBJECT_ID\", \"ETHNICITY\"],axis=1, inplace=True)"
   ]
  },
  {
   "cell_type": "code",
   "execution_count": null,
   "metadata": {},
   "outputs": [],
   "source": [
    "print(full_list_12_unit_added.shape)\n",
    "print(full_list_14_unit_added.shape)\n",
    "print(full_list_16_unit_added.shape)\n",
    "print(full_list_18_unit_added.shape)\n",
    "print(full_list_20_unit_added.shape)"
   ]
  },
  {
   "cell_type": "code",
   "execution_count": null,
   "metadata": {},
   "outputs": [],
   "source": [
    "full_list_two_unit_added.to_csv('train_full_list_two_unit_added.csv', index = False)\n",
    "full_list_three_unit_added.to_csv('train_full_list_three_unit_added.csv', index = False)\n",
    "full_list_four_unit_added.to_csv('train_full_list_four_unit_added.csv', index = False)\n",
    "full_list_five_unit_added.to_csv('train_full_list_five_unit_added.csv', index = False)"
   ]
  },
  {
   "cell_type": "code",
   "execution_count": null,
   "metadata": {},
   "outputs": [],
   "source": [
    "full_list_six_unit_added.to_csv('train_full_list_six_unit_added.csv', index = False)\n",
    "full_list_seven_unit_added.to_csv('train_full_list_seven_unit_added.csv', index = False)\n",
    "full_list_eight_unit_added.to_csv('train_full_list_eight_unit_added.csv', index = False)\n",
    "full_list_nine_unit_added.to_csv('train_full_list_nine_unit_added.csv', index = False)\n",
    "full_list_ten_unit_added.to_csv('train_full_list_ten_unit_added.csv', index = False)"
   ]
  },
  {
   "cell_type": "code",
   "execution_count": null,
   "metadata": {},
   "outputs": [],
   "source": [
    "full_list_12_unit_added.to_csv('train_full_list_12_unit_added.csv', index = False)\n",
    "full_list_14_unit_added.to_csv('train_full_list_14_unit_added.csv', index = False)\n",
    "full_list_16_unit_added.to_csv('train_full_list_16_unit_added.csv', index = False)\n",
    "full_list_18_unit_added.to_csv('train_full_list_18_unit_added.csv', index = False)\n",
    "full_list_20_unit_added.to_csv('train_full_list_20_unit_added.csv', index = False)"
   ]
  },
  {
   "cell_type": "code",
   "execution_count": null,
   "metadata": {},
   "outputs": [],
   "source": []
  }
 ],
 "metadata": {
  "colab": {
   "collapsed_sections": [
    "YbeBQ38oJ8BV"
   ],
   "name": "analysis.ipynb",
   "provenance": []
  },
  "kernelspec": {
   "display_name": "Python 3",
   "language": "python",
   "name": "python3"
  },
  "language_info": {
   "codemirror_mode": {
    "name": "ipython",
    "version": 3
   },
   "file_extension": ".py",
   "mimetype": "text/x-python",
   "name": "python",
   "nbconvert_exporter": "python",
   "pygments_lexer": "ipython3",
   "version": "3.8.5"
  }
 },
 "nbformat": 4,
 "nbformat_minor": 1
}
