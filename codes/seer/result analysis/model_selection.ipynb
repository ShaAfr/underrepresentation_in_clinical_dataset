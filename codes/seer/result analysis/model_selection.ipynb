{
 "cells": [
  {
   "cell_type": "code",
   "execution_count": 1,
   "id": "1690b892",
   "metadata": {},
   "outputs": [],
   "source": [
    "import numpy as np\n",
    "import pandas as pd"
   ]
  },
  {
   "cell_type": "code",
   "execution_count": 2,
   "id": "37270417",
   "metadata": {},
   "outputs": [],
   "source": [
    "from evaluate import calibrate_results, generate_everything_all_epochs"
   ]
  },
  {
   "cell_type": "code",
   "execution_count": 8,
   "id": "281848d1",
   "metadata": {},
   "outputs": [],
   "source": [
    "############################################\n",
    "# select best model/epoch based on whole group performance\n",
    "############################################\n",
    "\n",
    "def select_model(exp_folder_name, epochs):\n",
    "    \"\"\"\n",
    "    select model based on bal_acc and pr c1\n",
    "    \n",
    "    exp_folder_name: the output directory for the experiment\n",
    "    there should be one file containing the model prediction \n",
    "    on the validation set and one file containing prediction \n",
    "    on the test set for each epoch/model\n",
    "    \n",
    "    cancer: type of cancer. bcs and lcs have different minority class\n",
    "    \"\"\"\n",
    "    all_epochs = []\n",
    "    \n",
    "    for e in range(1, epochs+1):\n",
    "        # select based on validation set, whole group threshold\n",
    "        df = pd.read_csv(exp_folder_name + '/epo ' + str(e) + '/valid_whole_group_threshold_summary.csv')\n",
    "        # base on whole group for now\n",
    "        all_epochs.append(df.loc[df['Unnamed: 0'] == 'Whole'].values[0])\n",
    "        \n",
    "    cols = ['Group', 'Rec_C1', 'Prec_C1', 'PR_C1', 'F1_C1', 'Rec_C0', 'Prec_C0', 'PR_C0', 'F1_C0', 'Acc', 'Bal_Acc', 'ROC', 'threshold']\n",
    "    df_all_epochs = pd.DataFrame(data=all_epochs, index=range(1, epochs+1), columns=cols)\n",
    "    df_all_epochs.to_csv(exp_folder_name + '/all_epoch_metrics.csv')\n",
    "    \n",
    "    df_top_3 = df_all_epochs.nlargest(3, 'Bal_Acc')\n",
    "    #print(df_top_3)\n",
    "    df_best = df_top_3.nlargest(1, 'PR_C1')\n",
    "    #print(df_best)\n",
    "    best_index = df_best.index.tolist()[0]\n",
    "    output = open(exp_folder_name + '/best_epoch_number.txt', 'w')\n",
    "    output.write(str(best_index))\n",
    "    output.close()"
   ]
  },
  {
   "cell_type": "code",
   "execution_count": null,
   "id": "68d10324",
   "metadata": {},
   "outputs": [],
   "source": [
    "def average_5_runs(folder_name):\n",
    "    \"\"\"\n",
    "    average the performance of 5 runs of each experiment and calculate std\n",
    "    folder_name: the folder containing the files for each of the 5 runs\n",
    "    \"\"\"\n",
    "    valid_arr = []\n",
    "    test_arr = []\n",
    "    \n",
    "    for i in range(1, 6):\n",
    "        current_folder = folder_name + '/' + folder_name.split('/')[-1] + '-' + str(i)\n",
    "        \n",
    "        file = open(current_folder + '/best_epoch_number.txt', 'r')\n",
    "        best_epo = file.read()\n",
    "        df = pd.read_csv(current_folder + '/epo ' + best_epo + '/valid_whole_group_threshold_summary.csv')\n",
    "        df_test = pd.read_csv(current_folder + '/epo ' + best_epo + '/test_whole_group_threshold_summary.csv')\n",
    "        \n",
    "        df = df.drop(columns=['Unnamed: 0'])\n",
    "        df_test = df_test.drop(columns=['Unnamed: 0'])\n",
    "        \n",
    "        valid_arr.append(df.values.flatten())\n",
    "        test_arr.append(df_test.values.flatten())\n",
    "        \n",
    "    valid_mean = np.mean(valid_arr, axis=0)\n",
    "    #valid_max = np.amax(valid_arr, axis=0)\n",
    "    #valid_min = np.amin(valid_arr, axis=0)\n",
    "    valid_std = np.std(valid_arr, axis=0)\n",
    "\n",
    "    valid_mean = valid_mean.reshape(15, 12)\n",
    "    #valid_max = valid_max.reshape(3, 12)\n",
    "    #valid_min = valid_min.reshape(3, 12)\n",
    "    valid_std = valid_std.reshape(15, 12)\n",
    "    \n",
    "    test_mean = np.mean(test_arr, axis=0)\n",
    "    #test_max = np.amax(test_arr, axis=0)\n",
    "    #test_min = np.amin(test_arr, axis=0)\n",
    "    test_std = np.std(test_arr, axis=0)\n",
    "\n",
    "    test_mean = test_mean.reshape(15, 12)\n",
    "    #test_max = test_max.reshape(3, 12)\n",
    "    #test_min = test_min.reshape(3, 12)\n",
    "    test_std = test_std.reshape(15, 12)\n",
    "\n",
    "    cols = ['Rec_C1', 'Prec_C1', 'PR_C1', 'F1_C1', 'Rec_C0', 'Prec_C0', 'PR_C0', 'F1_C0', 'Acc', 'Bal_Acc', 'ROC', 'threshold']\n",
    "    rows = ['Whole', 'Gender_Male', 'Gender_Female', 'Ethnicity_White', 'Ethnicity_Black',\\\n",
    "             'Ethnicity_Hispanic', 'Ethnicity_Asian',\\\n",
    "             'Age<30', '30<=Age<40', '40<=Age<50',\\\n",
    "             '50<=Age<60', '60<=Age<70',\\\n",
    "             '70<=Age<80', '80<=Age<90', 'Age>=90']\n",
    "\n",
    "    df_valid_mean = pd.DataFrame(data=valid_mean, index=rows, columns=cols)\n",
    "    df_valid_std = pd.DataFrame(data=valid_std, index=rows, columns=cols)\n",
    "    df_test_mean = pd.DataFrame(data=test_mean, index=rows, columns=cols)\n",
    "    df_test_std = pd.DataFrame(data=test_std, index=rows, columns=cols)\n",
    "\n",
    "    df_valid_mean.to_csv(folder_name + '/valid_whole_group_threshold_summary_mean.csv')\n",
    "    df_valid_std.to_csv(folder_name + '/valid_whole_group_threshold_summary_std.csv')\n",
    "    df_test_mean.to_csv(folder_name + '/test_whole_group_threshold_summary_mean.csv')\n",
    "    df_test_std.to_csv(folder_name + '/test_whole_group_threshold_summary_std.csv')"
   ]
  },
  {
   "cell_type": "code",
   "execution_count": null,
   "id": "c4819a52",
   "metadata": {},
   "outputs": [],
   "source": [
    "def average_5_runs_subgroup(folder_name):\n",
    "    \"\"\"\n",
    "    average the performance of 5 runs of each experiment and calculate std\n",
    "    folder_name: the folder containing the files for each of the 5 runs\n",
    "    \"\"\"\n",
    "    valid_arr = []\n",
    "    test_arr = []\n",
    "    \n",
    "    for i in range(1, 6):\n",
    "        current_folder = folder_name + '/' + folder_name.split('/')[-1] + '-' + str(i)\n",
    "        \n",
    "        file = open(current_folder + '/best_epoch_number.txt', 'r')\n",
    "        best_epo = file.read()\n",
    "        df = pd.read_csv(current_folder + '/epo ' + best_epo + '/valid_subgroup_threshold_summary.csv')\n",
    "        df_test = pd.read_csv(current_folder + '/epo ' + best_epo + '/test_subgroup_threshold_summary.csv')\n",
    "        \n",
    "        df = df.drop(columns=['Unnamed: 0'])\n",
    "        df_test = df_test.drop(columns=['Unnamed: 0'])\n",
    "        \n",
    "        valid_arr.append(df.values.flatten())\n",
    "        test_arr.append(df_test.values.flatten())\n",
    "        \n",
    "    valid_mean = np.mean(valid_arr, axis=0)\n",
    "    valid_std = np.std(valid_arr, axis=0)\n",
    "\n",
    "    valid_mean = valid_mean.reshape(15, 12)\n",
    "    valid_std = valid_std.reshape(15, 12)\n",
    "    \n",
    "    test_mean = np.mean(test_arr, axis=0)\n",
    "    test_std = np.std(test_arr, axis=0)\n",
    "\n",
    "    test_mean = test_mean.reshape(15, 12)\n",
    "    test_std = test_std.reshape(15, 12)\n",
    "\n",
    "    cols = ['Rec_C1', 'Prec_C1', 'PR_C1', 'F1_C1', 'Rec_C0', 'Prec_C0', 'PR_C0', 'F1_C0', 'Acc', 'Bal_Acc', 'ROC', 'threshold']\n",
    "    rows = ['Whole', 'Gender_Male', 'Gender_Female', 'Ethnicity_White', 'Ethnicity_Black',\\\n",
    "             'Ethnicity_Hispanic', 'Ethnicity_Asian',\\\n",
    "             'Age<30', '30<=Age<40', '40<=Age<50',\\\n",
    "             '50<=Age<60', '60<=Age<70',\\\n",
    "             '70<=Age<80', '80<=Age<90', 'Age>=90']\n",
    "\n",
    "    df_valid_mean = pd.DataFrame(data=valid_mean, index=rows, columns=cols)\n",
    "    df_valid_std = pd.DataFrame(data=valid_std, index=rows, columns=cols)\n",
    "    df_test_mean = pd.DataFrame(data=test_mean, index=rows, columns=cols)\n",
    "    df_test_std = pd.DataFrame(data=test_std, index=rows, columns=cols)\n",
    "\n",
    "    df_valid_mean.to_csv(folder_name + '/valid_subgroup_threshold_summary_mean.csv')\n",
    "    df_valid_std.to_csv(folder_name + '/valid_subgroup_threshold_summary_std.csv')\n",
    "    df_test_mean.to_csv(folder_name + '/test_subgroup_threshold_summary_mean.csv')\n",
    "    df_test_std.to_csv(folder_name + '/test_subgroup_threshold_summary_std.csv')"
   ]
  },
  {
   "cell_type": "code",
   "execution_count": 6,
   "id": "65b3a32c",
   "metadata": {},
   "outputs": [],
   "source": [
    "def output_5_runs(folder_name):\n",
    "    \"\"\"\n",
    "    put results of each individual runs into 1 file\n",
    "    folder_name: the folder containing the files for each of the 5 runs\n",
    "    \"\"\"\n",
    "    valid_arr = []\n",
    "    test_arr = []\n",
    "    \n",
    "    for i in range(1, 6):\n",
    "        current_folder = folder_name + '/' + folder_name.split('/')[-1] + '-' + str(i)\n",
    "        \n",
    "        file = open(current_folder + '/best_epoch_number.txt', 'r')\n",
    "        best_epo = file.read()\n",
    "        file.close()\n",
    "        \n",
    "        with open(current_folder + '/epo ' + best_epo + '/valid_whole_group_threshold_summary.csv', 'r') as v:\n",
    "            valid_arr.append(v.read())\n",
    "        with open(current_folder + '/epo ' + best_epo + '/test_whole_group_threshold_summary.csv', 'r') as t:\n",
    "            test_arr.append(t.read())\n",
    "        \n",
    "    with open(folder_name + '/valid_5_run_results.csv', 'w') as vout:\n",
    "        vout.write('\\n\\n'.join(valid_arr))\n",
    "        \n",
    "    with open(folder_name + '/test_5_run_results.csv', 'w') as tout:\n",
    "        tout.write('\\n\\n'.join(test_arr))"
   ]
  },
  {
   "cell_type": "code",
   "execution_count": 9,
   "id": "803b0164",
   "metadata": {},
   "outputs": [],
   "source": [
    "def output_5_runs_subgroup(folder_name):\n",
    "    \"\"\"\n",
    "    put results of each individual runs into 1 file\n",
    "    folder_name: the folder containing the files for each of the 5 runs\n",
    "    \"\"\"\n",
    "    valid_arr = []\n",
    "    test_arr = []\n",
    "    \n",
    "    for i in range(1, 6):\n",
    "        current_folder = folder_name + '/' + folder_name.split('/')[-1] + '-' + str(i)\n",
    "        \n",
    "        file = open(current_folder + '/best_epoch_number.txt', 'r')\n",
    "        best_epo = file.read()\n",
    "        file.close()\n",
    "        \n",
    "        with open(current_folder + '/epo ' + best_epo + '/valid_subgroup_threshold_summary.csv', 'r') as v:\n",
    "            valid_arr.append(v.read())\n",
    "        with open(current_folder + '/epo ' + best_epo + '/test_subgroup_threshold_summary.csv', 'r') as t:\n",
    "            test_arr.append(t.read())\n",
    "        \n",
    "    with open(folder_name + '/valid_5_run_results_subgroup.csv', 'w') as vout:\n",
    "        vout.write('\\n\\n'.join(valid_arr))\n",
    "        \n",
    "    with open(folder_name + '/test_5_run_results_subgroup.csv', 'w') as tout:\n",
    "        tout.write('\\n\\n'.join(test_arr))"
   ]
  },
  {
   "cell_type": "code",
   "execution_count": null,
   "id": "3cc2caa2",
   "metadata": {},
   "outputs": [],
   "source": []
  },
  {
   "cell_type": "code",
   "execution_count": null,
   "id": "4040d13d",
   "metadata": {},
   "outputs": [],
   "source": []
  },
  {
   "cell_type": "code",
   "execution_count": null,
   "id": "ab2efc6b",
   "metadata": {},
   "outputs": [],
   "source": []
  },
  {
   "cell_type": "code",
   "execution_count": null,
   "id": "df960f89",
   "metadata": {},
   "outputs": [],
   "source": [
    "\"\"\"\n",
    "\n",
    "def average_disparity_whole_group(folder_name):\n",
    "    race_arr = []\n",
    "    age_arr = []\n",
    "    \n",
    "    for i in range(1, 6):\n",
    "        current_folder = folder_name + '/' + folder_name.split('/')[-1] + '-' + str(i)\n",
    "        \n",
    "        file = open(current_folder + '/best_epoch_number.txt', 'r')\n",
    "        best_epo = file.read()\n",
    "        df = pd.read_csv(current_folder + '/epo ' + best_epo + '/test_whole_group_threshold_summary.csv')\n",
    "        \n",
    "        df.set_index(\"Unnamed: 0\", inplace=True)\n",
    "        \n",
    "        df_race = df.loc[[\"Ethnicity_White\", \"Ethnicity_Black\", \"Ethnicitiy_Hispanic\", \"Ethnicity_Asian\"]]\n",
    "        df_age = df.loc[['Age<30', '30<=Age<40', '40<=Age<50', '50<=Age<60', '60<=Age<70', '70<=Age<80', '80<=Age<90', 'Age>=90']]\n",
    "        \n",
    "        race_ratio = []\n",
    "        age_ratio = []\n",
    "        for m in ['Rec_C1', 'Prec_C1', 'PR_C1', 'F1_C1', 'Rec_C0', 'Prec_C0', 'PR_C0', 'F1_C0', 'Acc', 'Bal_Acc', 'ROC']:\n",
    "            race_ratio.append(df_race[m].max() / df_race[m].min())\n",
    "            age_ratio.append(df_age[m].max() / df_age[m].min())\n",
    "            \n",
    "        race_arr.append(race_ratio)\n",
    "        age_arr.append(age_ratio)\n",
    "        \n",
    "    race_ratio_mean = np.mean(race_arr, axis=0)\n",
    "    race_ratio_std = np.mean(race_arr, axis=0)\n",
    "    age_ratio_mean = np.mean(age_arr, axis=0)\n",
    "    age_ratio_std = np.mean(age_arr, axis=0)\n",
    "        \n",
    "    cols = ['Rec_C1', 'Prec_C1', 'PR_C1', 'F1_C1', 'Rec_C0', 'Prec_C0', 'PR_C0', 'F1_C0', 'Acc', 'Bal_Acc', 'ROC']\n",
    "    rows = ['Race', 'Age']\n",
    "\n",
    "    df_mean = pd.DataFrame(data=[race_ratio_mean, age_ratio_mean], index=rows, columns=cols)\n",
    "    df_std = pd.DataFrame(data=[race_ratio_std, age_ratio_std], index=rows, columns=cols)\n",
    "    \n",
    "    df_mean.to_csv(folder_name + '/disparity_mean.csv')\n",
    "    df_std.to_csv(folder_name + '/disparity_std.csv')\n",
    "\"\"\""
   ]
  },
  {
   "cell_type": "code",
   "execution_count": 7,
   "id": "70178429",
   "metadata": {},
   "outputs": [],
   "source": [
    "output_5_runs('../experiments/bcs-original')"
   ]
  },
  {
   "cell_type": "code",
   "execution_count": 10,
   "id": "d1f332b2",
   "metadata": {},
   "outputs": [],
   "source": [
    "output_5_runs_subgroup('../experiments/bcs-original')"
   ]
  },
  {
   "cell_type": "code",
   "execution_count": 8,
   "id": "d3f31712",
   "metadata": {},
   "outputs": [],
   "source": [
    "output_5_runs('../experiments/bcs-smote')\n",
    "output_5_runs('../experiments/bcs-under')"
   ]
  },
  {
   "cell_type": "code",
   "execution_count": 11,
   "id": "a589dd22",
   "metadata": {},
   "outputs": [],
   "source": [
    "output_5_runs('../experiments/bcs-adasyn')\n",
    "output_5_runs('../experiments/bcs-gamma')\n",
    "output_5_runs('../experiments/bcs-over')\n",
    "output_5_runs('../experiments/bcs-nearmiss1')\n",
    "output_5_runs('../experiments/bcs-nearmiss3')\n",
    "output_5_runs('../experiments/bcs-distant')"
   ]
  },
  {
   "cell_type": "code",
   "execution_count": 13,
   "id": "d028a9b4",
   "metadata": {},
   "outputs": [],
   "source": [
    "output_5_runs('../experiments/lcs-original')\n",
    "output_5_runs_subgroup('../experiments/lcs-original')\n",
    "output_5_runs('../experiments/lcs-smote')\n",
    "output_5_runs('../experiments/lcs-under')\n",
    "output_5_runs('../experiments/lcs-adasyn')\n",
    "output_5_runs('../experiments/lcs-gamma')\n",
    "output_5_runs('../experiments/lcs-over')\n",
    "output_5_runs('../experiments/lcs-nearmiss1')\n",
    "output_5_runs('../experiments/lcs-nearmiss3')\n",
    "output_5_runs('../experiments/lcs-distant')"
   ]
  },
  {
   "cell_type": "code",
   "execution_count": null,
   "id": "b1f032c7",
   "metadata": {},
   "outputs": [],
   "source": []
  },
  {
   "cell_type": "code",
   "execution_count": 14,
   "id": "304bc4a0",
   "metadata": {},
   "outputs": [],
   "source": [
    "output_5_runs('../experiments/lcs-reweight')"
   ]
  },
  {
   "cell_type": "code",
   "execution_count": 12,
   "id": "37d9e8ba",
   "metadata": {},
   "outputs": [],
   "source": [
    "output_5_runs('../experiments/bcs-reweight')"
   ]
  },
  {
   "cell_type": "code",
   "execution_count": null,
   "id": "b8f09898",
   "metadata": {},
   "outputs": [],
   "source": [
    "# debugging and running"
   ]
  },
  {
   "cell_type": "code",
   "execution_count": null,
   "id": "bbb09dd8",
   "metadata": {},
   "outputs": [],
   "source": [
    "folder = '../experiments/bcs-smote-for-loss'\n",
    "calibrate_results(folder, 25)\n",
    "generate_everything_all_epochs(folder, 25, 'breast')\n",
    "select_model(folder, 25)"
   ]
  },
  {
   "cell_type": "code",
   "execution_count": 7,
   "id": "174eb54f",
   "metadata": {},
   "outputs": [
    {
     "name": "stdout",
     "output_type": "stream",
     "text": [
      "   Group    Rec_C1   Prec_C1     PR_C1     F1_C1    Rec_C0   Prec_C0  \\\n",
      "2  Whole  0.642449  0.549227  0.655363  0.592192  0.923491  0.946810   \n",
      "7  Whole  0.668464  0.484591  0.623770  0.561867  0.896837  0.949091   \n",
      "1  Whole  0.611358  0.586606  0.663839  0.598726  0.937486  0.943261   \n",
      "\n",
      "      PR_C0     F1_C0       Acc   Bal_Acc       ROC  threshold  \n",
      "2  0.978219  0.935005  0.887879  0.782970  0.887582       0.25  \n",
      "7  0.974571  0.922225  0.867899  0.782651  0.872706       0.20  \n",
      "1  0.980231  0.940364  0.896161  0.774422  0.894143       0.25  \n",
      "   Group    Rec_C1   Prec_C1     PR_C1     F1_C1    Rec_C0   Prec_C0  \\\n",
      "1  Whole  0.611358  0.586606  0.663839  0.598726  0.937486  0.943261   \n",
      "\n",
      "      PR_C0     F1_C0       Acc   Bal_Acc       ROC  threshold  \n",
      "1  0.980231  0.940364  0.896161  0.774422  0.894143       0.25  \n"
     ]
    }
   ],
   "source": [
    "select_model(folder, 25)"
   ]
  },
  {
   "cell_type": "code",
   "execution_count": null,
   "id": "d887af58",
   "metadata": {},
   "outputs": [],
   "source": [
    "folder = '../experiments/lcs-smote-for-loss'\n",
    "calibrate_results(folder, 25)\n",
    "generate_everything_all_epochs(folder, 25, 'lung')\n",
    "select_model(folder, 25)"
   ]
  },
  {
   "cell_type": "code",
   "execution_count": null,
   "id": "7274abcd",
   "metadata": {},
   "outputs": [],
   "source": [
    "for i in range(1, 6):\n",
    "    folder = '../experiments/bcs-adasyn/bcs-adasyn-' + str(i)\n",
    "    calibrate_results(folder, 25)\n",
    "    generate_everything_all_epochs(folder, 25, 'breast')\n",
    "    select_model(folder, 25)"
   ]
  },
  {
   "cell_type": "code",
   "execution_count": null,
   "id": "3e501846",
   "metadata": {},
   "outputs": [],
   "source": [
    "for i in range(1, 6):\n",
    "    folder = '../experiments/bcs-over/bcs-over-' + str(i)\n",
    "    calibrate_results(folder, 25)\n",
    "    generate_everything_all_epochs(folder, 25, 'breast')\n",
    "    select_model(folder, 25)"
   ]
  },
  {
   "cell_type": "code",
   "execution_count": null,
   "id": "7522ff5e",
   "metadata": {},
   "outputs": [],
   "source": [
    "for i in range(1, 6):\n",
    "    folder = '../experiments/bcs-smote/bcs-smote-' + str(i)\n",
    "    calibrate_results(folder, 25)\n",
    "    generate_everything_all_epochs(folder, 25, 'breast')\n",
    "    select_model(folder, 25)"
   ]
  },
  {
   "cell_type": "code",
   "execution_count": null,
   "id": "aae9a461",
   "metadata": {},
   "outputs": [],
   "source": [
    "for i in range(1, 6):\n",
    "    folder = '../experiments/bcs-under/bcs-under-' + str(i)\n",
    "    calibrate_results(folder, 25)\n",
    "    generate_everything_all_epochs(folder, 25, 'breast')\n",
    "    select_model(folder, 25)"
   ]
  },
  {
   "cell_type": "code",
   "execution_count": null,
   "id": "ee8dd688",
   "metadata": {},
   "outputs": [],
   "source": [
    "for i in range(1, 6):\n",
    "    folder = '../experiments/bcs-nearmiss1/bcs-nearmiss1-' + str(i)\n",
    "    calibrate_results(folder, 25)\n",
    "    generate_everything_all_epochs(folder, 25, 'breast')\n",
    "    select_model(folder, 25)"
   ]
  },
  {
   "cell_type": "code",
   "execution_count": null,
   "id": "4759a1ed",
   "metadata": {},
   "outputs": [],
   "source": [
    "for i in range(1, 6):\n",
    "    folder = '../experiments/bcs-nearmiss3/bcs-nearmiss3-' + str(i)\n",
    "    calibrate_results(folder, 25)\n",
    "    generate_everything_all_epochs(folder, 25, 'breast')\n",
    "    select_model(folder, 25)"
   ]
  },
  {
   "cell_type": "code",
   "execution_count": null,
   "id": "adc3bb60",
   "metadata": {},
   "outputs": [],
   "source": [
    "for i in range(1, 6):\n",
    "    folder = '../experiments/bcs-distant/bcs-distant-' + str(i)\n",
    "    calibrate_results(folder, 25)\n",
    "    generate_everything_all_epochs(folder, 25, 'breast')\n",
    "    select_model(folder, 25)"
   ]
  },
  {
   "cell_type": "code",
   "execution_count": null,
   "id": "8c17413f",
   "metadata": {},
   "outputs": [],
   "source": [
    "for i in range(4, 6):\n",
    "    folder = '../experiments/bcs-nearmiss3/bcs-nearmiss3-' + str(i)\n",
    "    calibrate_results(folder, 25)\n",
    "    generate_everything_all_epochs(folder, 25, 'breast')\n",
    "    select_model(folder, 25)"
   ]
  },
  {
   "cell_type": "code",
   "execution_count": null,
   "id": "bead99bb",
   "metadata": {},
   "outputs": [],
   "source": [
    "average_5_runs('../experiments/bcs-distant')"
   ]
  },
  {
   "cell_type": "code",
   "execution_count": null,
   "id": "000ac1b8",
   "metadata": {},
   "outputs": [],
   "source": [
    "average_5_runs('../experiments/bcs-under')\n",
    "average_5_runs('../experiments/bcs-over')\n",
    "average_5_runs('../experiments/bcs-smote')\n",
    "average_5_runs('../experiments/bcs-adasyn')\n",
    "average_5_runs('../experiments/bcs-nearmiss1')\n",
    "average_5_runs('../experiments/bcs-nearmiss3')"
   ]
  },
  {
   "cell_type": "code",
   "execution_count": null,
   "id": "e47b9e2b",
   "metadata": {},
   "outputs": [],
   "source": [
    "average_5_runs('../experiments/bcs-nearmiss3')"
   ]
  },
  {
   "cell_type": "code",
   "execution_count": null,
   "id": "2a34fea7",
   "metadata": {},
   "outputs": [],
   "source": [
    "folder = '../experiments/bcs-original/bcs-original-1'\n",
    "calibrate_results(folder, 100)\n",
    "generate_everything_all_epochs(folder, 100, 'breast')\n",
    "select_model(folder, 100)"
   ]
  },
  {
   "cell_type": "code",
   "execution_count": null,
   "id": "be0b6434",
   "metadata": {},
   "outputs": [],
   "source": [
    "average_5_runs('../experiments/bcs-original')"
   ]
  },
  {
   "cell_type": "code",
   "execution_count": null,
   "id": "40a24380",
   "metadata": {},
   "outputs": [],
   "source": [
    "for i in range(1, 6):\n",
    "    folder = '../experiments/lcs-under/lcs-under-' + str(i)\n",
    "    calibrate_results(folder, 25)\n",
    "    generate_everything_all_epochs(folder, 25, 'lung')\n",
    "    select_model(folder, 25)"
   ]
  },
  {
   "cell_type": "code",
   "execution_count": null,
   "id": "37644c89",
   "metadata": {},
   "outputs": [],
   "source": [
    "for i in range(1, 6):\n",
    "    folder = '../experiments/lcs-over/lcs-over-' + str(i)\n",
    "    calibrate_results(folder, 25)\n",
    "    generate_everything_all_epochs(folder, 25, 'lung')\n",
    "    select_model(folder, 25)"
   ]
  },
  {
   "cell_type": "code",
   "execution_count": null,
   "id": "c8c7c10d",
   "metadata": {},
   "outputs": [],
   "source": [
    "for i in range(1, 6):\n",
    "    folder = '../experiments/lcs-nearmiss1/lcs-nearmiss1-' + str(i)\n",
    "    calibrate_results(folder, 25)\n",
    "    generate_everything_all_epochs(folder, 25, 'lung')\n",
    "    select_model(folder, 25)"
   ]
  },
  {
   "cell_type": "code",
   "execution_count": null,
   "id": "c6bc4ca8",
   "metadata": {},
   "outputs": [],
   "source": [
    "for i in range(1, 6):\n",
    "    folder = '../experiments/lcs-nearmiss3/lcs-nearmiss3-' + str(i)\n",
    "    calibrate_results(folder, 25)\n",
    "    generate_everything_all_epochs(folder, 25, 'lung')\n",
    "    select_model(folder, 25)"
   ]
  },
  {
   "cell_type": "code",
   "execution_count": null,
   "id": "16ec52f4",
   "metadata": {},
   "outputs": [],
   "source": [
    "average_5_runs('../experiments/lcs-under')\n",
    "average_5_runs('../experiments/lcs-over')"
   ]
  },
  {
   "cell_type": "code",
   "execution_count": null,
   "id": "12668fb6",
   "metadata": {},
   "outputs": [],
   "source": []
  },
  {
   "cell_type": "code",
   "execution_count": null,
   "id": "43507246",
   "metadata": {},
   "outputs": [],
   "source": [
    "for i in range(1, 6):\n",
    "    folder = '../experiments/lcs-smote/lcs-smote-' + str(i)\n",
    "    calibrate_results(folder, 25)\n",
    "    generate_everything_all_epochs(folder, 25, 'lung')\n",
    "    select_model(folder, 25)"
   ]
  },
  {
   "cell_type": "code",
   "execution_count": null,
   "id": "a4226e3a",
   "metadata": {},
   "outputs": [],
   "source": [
    "for i in range(1, 6):\n",
    "    folder = '../experiments/lcs-adasyn/lcs-adasyn-' + str(i)\n",
    "    calibrate_results(folder, 25)\n",
    "    generate_everything_all_epochs(folder, 25, 'lung')\n",
    "    select_model(folder, 25)"
   ]
  },
  {
   "cell_type": "code",
   "execution_count": null,
   "id": "1441421b",
   "metadata": {},
   "outputs": [],
   "source": [
    "average_5_runs('../experiments/lcs-nearmiss1')\n",
    "average_5_runs('../experiments/lcs-nearmiss3')\n",
    "average_5_runs('../experiments/lcs-smote')\n",
    "average_5_runs('../experiments/lcs-adasyn')"
   ]
  },
  {
   "cell_type": "code",
   "execution_count": null,
   "id": "0facd2e4",
   "metadata": {},
   "outputs": [],
   "source": [
    "for i in range(1, 6):\n",
    "    folder = '../experiments/lcs-original/lcs-original-' + str(i)\n",
    "    calibrate_results(folder, 25)\n",
    "    generate_everything_all_epochs(folder, 25, 'lung')\n",
    "    select_model(folder, 25)"
   ]
  },
  {
   "cell_type": "code",
   "execution_count": null,
   "id": "9d3ca8d8",
   "metadata": {},
   "outputs": [],
   "source": [
    "for i in range(1, 6):\n",
    "    folder = '../experiments/lcs-distant/lcs-distant-' + str(i)\n",
    "    calibrate_results(folder, 25)\n",
    "    generate_everything_all_epochs(folder, 25, 'lung')\n",
    "    select_model(folder, 25)"
   ]
  },
  {
   "cell_type": "code",
   "execution_count": null,
   "id": "ebb1848f",
   "metadata": {},
   "outputs": [],
   "source": [
    "average_5_runs('../experiments/lcs-original')\n",
    "average_5_runs('../experiments/lcs-distant')"
   ]
  },
  {
   "cell_type": "code",
   "execution_count": null,
   "id": "221ab213",
   "metadata": {},
   "outputs": [],
   "source": [
    "for i in range(1, 6):\n",
    "    folder = '../experiments/lcs-gamma/lcs-gamma-' + str(i)\n",
    "    calibrate_results(folder, 25)\n",
    "    generate_everything_all_epochs(folder, 25, 'lung')\n",
    "    select_model(folder, 25)"
   ]
  },
  {
   "cell_type": "code",
   "execution_count": null,
   "id": "9e5f7959",
   "metadata": {},
   "outputs": [],
   "source": [
    "for i in range(1, 6):\n",
    "    folder = '../experiments/bcs-gamma/bcs-gamma-' + str(i)\n",
    "    calibrate_results(folder, 25)\n",
    "    generate_everything_all_epochs(folder, 25, 'breast')\n",
    "    select_model(folder, 25)"
   ]
  },
  {
   "cell_type": "code",
   "execution_count": null,
   "id": "c007b751",
   "metadata": {},
   "outputs": [],
   "source": [
    "average_5_runs('../experiments/lcs-gamma')\n",
    "average_5_runs('../experiments/bcs-gamma')"
   ]
  },
  {
   "cell_type": "code",
   "execution_count": null,
   "id": "9b6ab234",
   "metadata": {},
   "outputs": [],
   "source": [
    "average_5_runs_subgroup('../experiments/bcs-original')"
   ]
  },
  {
   "cell_type": "code",
   "execution_count": null,
   "id": "04cdddb2",
   "metadata": {},
   "outputs": [],
   "source": [
    "average_5_runs_subgroup('../experiments/lcs-original')"
   ]
  },
  {
   "cell_type": "code",
   "execution_count": null,
   "id": "29fe46e3",
   "metadata": {},
   "outputs": [],
   "source": []
  },
  {
   "cell_type": "code",
   "execution_count": null,
   "id": "a77ee644",
   "metadata": {},
   "outputs": [],
   "source": []
  },
  {
   "cell_type": "code",
   "execution_count": null,
   "id": "3ee18085",
   "metadata": {},
   "outputs": [],
   "source": [
    "# lcs different param eval\n",
    "for w in ['30', '50']:\n",
    "    for i in range(1, 6):\n",
    "        folder = '../experiments/lcs-original-different-parameters/lcs-original-2-' + w + '-0.1/lcs-original-2-' + w + '-0.1-' + str(i)\n",
    "        calibrate_results(folder, 25)\n",
    "        generate_everything_all_epochs(folder, 25, 'lung')\n",
    "        select_model(folder, 25)\n",
    "    average_5_runs('../experiments/lcs-original-different-parameters/lcs-original-2-' + w + '-0.1')"
   ]
  },
  {
   "cell_type": "code",
   "execution_count": null,
   "id": "d67b64b9",
   "metadata": {},
   "outputs": [],
   "source": [
    "for l in ['5', '10']:\n",
    "    for w in ['20', '30', '50']:\n",
    "        for i in range(1, 6):\n",
    "            folder = '../experiments/lcs-original-different-parameters/lcs-original-' + l + '-' + w + '-0.1/lcs-original-' + l + '-' + w + '-0.1-' + str(i)\n",
    "            calibrate_results(folder, 25)\n",
    "            generate_everything_all_epochs(folder, 25, 'lung')\n",
    "            select_model(folder, 25)"
   ]
  },
  {
   "cell_type": "code",
   "execution_count": null,
   "id": "471717f0",
   "metadata": {},
   "outputs": [],
   "source": [
    "for l in ['2', '5', '10']:\n",
    "    for w in ['20', '30', '50']:\n",
    "        for i in range(1, 6):\n",
    "            folder = '../experiments/lcs-original-different-parameters/lcs-original-' + l + '-' + w + '-0.2/lcs-original-' + l + '-' + w + '-0.2-' + str(i)\n",
    "            calibrate_results(folder, 25)\n",
    "            generate_everything_all_epochs(folder, 25, 'lung')\n",
    "            select_model(folder, 25)"
   ]
  },
  {
   "cell_type": "code",
   "execution_count": null,
   "id": "43302db3",
   "metadata": {},
   "outputs": [],
   "source": [
    "for l in ['2', '5', '10']:\n",
    "    for w in ['20', '30', '50']:\n",
    "        for i in range(1, 6):\n",
    "            folder = '../experiments/lcs-original-different-parameters/lcs-original-' + l + '-' + w + '-0.3/lcs-original-' + l + '-' + w + '-0.3-' + str(i)\n",
    "            calibrate_results(folder, 25)\n",
    "            generate_everything_all_epochs(folder, 25, 'lung')\n",
    "            select_model(folder, 25)"
   ]
  },
  {
   "cell_type": "code",
   "execution_count": null,
   "id": "66db57e0",
   "metadata": {},
   "outputs": [],
   "source": []
  },
  {
   "cell_type": "code",
   "execution_count": null,
   "id": "08632562",
   "metadata": {},
   "outputs": [],
   "source": [
    "# bcs \n",
    "for w in ['30', '50']:\n",
    "    for i in range(1, 6):\n",
    "        folder = '../experiments/bcs-original-different-parameters/bcs-original-10-' + w + '-0.3/bcs-original-10-' + w + '-0.3-' + str(i)\n",
    "        calibrate_results(folder, 25)\n",
    "        generate_everything_all_epochs(folder, 25, 'breast')\n",
    "        select_model(folder, 25)\n",
    "    average_5_runs('../experiments/bcs-original-different-parameters/bcs-original-10-' + w + '-0.3')"
   ]
  },
  {
   "cell_type": "code",
   "execution_count": null,
   "id": "f32096dd",
   "metadata": {},
   "outputs": [],
   "source": [
    "average_5_runs('../experiments/bcs-original-different-parameters/bcs-original-10-30-0.3')"
   ]
  },
  {
   "cell_type": "code",
   "execution_count": null,
   "id": "3f9bdaae",
   "metadata": {},
   "outputs": [],
   "source": [
    "for i in range(1, 6):\n",
    "    folder = '../experiments/bcs-original-different-parameters/bcs-original-10-50-0.3/bcs-original-10-50-0.3-' + str(i)\n",
    "    calibrate_results(folder, 25)\n",
    "    generate_everything_all_epochs(folder, 25, 'breast')\n",
    "    select_model(folder, 25)\n",
    "average_5_runs('../experiments/bcs-original-different-parameters/bcs-original-10-50-0.3')"
   ]
  },
  {
   "cell_type": "code",
   "execution_count": null,
   "id": "13709be0",
   "metadata": {},
   "outputs": [],
   "source": [
    "for i in range(1, 6):\n",
    "    folder = '../experiments/bcs-reweight/bcs-reweight-' + str(i)\n",
    "    calibrate_results(folder, 25)\n",
    "    generate_everything_all_epochs(folder, 25, 'breast')\n",
    "    select_model(folder, 25)\n",
    "average_5_runs('../experiments/bcs-reweight')"
   ]
  },
  {
   "cell_type": "code",
   "execution_count": null,
   "id": "927d132c",
   "metadata": {},
   "outputs": [],
   "source": [
    "for i in range(1, 6):\n",
    "    folder = '../experiments/lcs-reweight/lcs-reweight-' + str(i)\n",
    "    calibrate_results(folder, 25)\n",
    "    generate_everything_all_epochs(folder, 25, 'lung')\n",
    "    select_model(folder, 25)\n",
    "average_5_runs('../experiments/lcs-reweight')"
   ]
  },
  {
   "cell_type": "code",
   "execution_count": null,
   "id": "3e20fdc0",
   "metadata": {},
   "outputs": [],
   "source": []
  },
  {
   "cell_type": "code",
   "execution_count": null,
   "id": "8ec72118",
   "metadata": {},
   "outputs": [],
   "source": [
    "folder = '../experiments/bcs-dpreweight-asian'\n",
    "calibrate_results(folder, 25)\n",
    "generate_everything_all_epochs(folder, 25, 'breast')\n",
    "select_model(folder, 25)"
   ]
  },
  {
   "cell_type": "code",
   "execution_count": null,
   "id": "99aeb07e",
   "metadata": {},
   "outputs": [],
   "source": []
  }
 ],
 "metadata": {
  "kernelspec": {
   "display_name": "Python 3",
   "language": "python",
   "name": "python3"
  },
  "language_info": {
   "codemirror_mode": {
    "name": "ipython",
    "version": 3
   },
   "file_extension": ".py",
   "mimetype": "text/x-python",
   "name": "python",
   "nbconvert_exporter": "python",
   "pygments_lexer": "ipython3",
   "version": "3.9.7"
  }
 },
 "nbformat": 4,
 "nbformat_minor": 5
}
