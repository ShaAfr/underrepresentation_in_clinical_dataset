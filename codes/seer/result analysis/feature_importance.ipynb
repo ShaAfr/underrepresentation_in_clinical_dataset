{
 "cells": [
  {
   "cell_type": "code",
   "execution_count": 2,
   "id": "76df066e",
   "metadata": {},
   "outputs": [],
   "source": [
    "#SHAP\n",
    "import shap\n",
    "import keras.models\n",
    "from keras.layers import Dense, Dropout, Input, Conv1D, Concatenate, Flatten\n",
    "import numpy as np\n",
    "import tensorflow as tf\n",
    "import pandas as pd"
   ]
  },
  {
   "cell_type": "code",
   "execution_count": null,
   "id": "386acff0",
   "metadata": {},
   "outputs": [],
   "source": [
    "# def mlp_model(input_dim, width, depth, dropout):\n",
    "#     \"\"\" Function to create the MLP model. \"\"\"\n",
    "#     model = keras.models.Sequential()\n",
    "\n",
    "#     for i in range(0, depth):\n",
    "#         model.add(Dense(units=width, input_dim=input_dim, kernel_initializer='normal', activation='relu'))\n",
    "#         model.add(Dropout(dropout))\n",
    "\n",
    "#     model.add(Dense(1, kernel_initializer='normal', activation='sigmoid'))\n",
    "\n",
    "#     model.compile(loss='binary_crossentropy', optimizer='adam', metrics=['accuracy'])\n",
    "#     return model"
   ]
  },
  {
   "cell_type": "code",
   "execution_count": null,
   "id": "228bd92d",
   "metadata": {},
   "outputs": [],
   "source": [
    "# def mlp_model_reweight(input_dim, width, depth, dropout, weight_vector):\n",
    "#     \"\"\" Function to create the MLP model with reweighting. \"\"\"\n",
    "#     model = keras.models.Sequential()\n",
    "\n",
    "#     for i in range(0, depth):\n",
    "#         model.add(Dense(units=width, input_dim=input_dim, kernel_initializer='normal', activation='relu'))\n",
    "#         model.add(Dropout(dropout))\n",
    "\n",
    "#     model.add(Dense(1, kernel_initializer='normal', activation='sigmoid'))\n",
    "\n",
    "\n",
    "#     loss = reweighted_binary_crossentropy(weight_vector)\n",
    "#     model.compile(loss=loss, optimizer='adam', metrics=['accuracy'])\n",
    "\n",
    "#     return model"
   ]
  },
  {
   "cell_type": "code",
   "execution_count": null,
   "id": "00cb42a3",
   "metadata": {},
   "outputs": [],
   "source": []
  },
  {
   "cell_type": "code",
   "execution_count": null,
   "id": "ef88e50a",
   "metadata": {},
   "outputs": [],
   "source": []
  },
  {
   "cell_type": "code",
   "execution_count": 3,
   "id": "0abe0b7a",
   "metadata": {},
   "outputs": [],
   "source": [
    "def load_selected_model(folder_name):\n",
    "    \n",
    "    with open(folder_name + '/best_epoch_number.txt', 'r') as file:\n",
    "        best_epo = int(file.read())\n",
    "    \n",
    "    model = tf.keras.models.load_model(folder_name + '/checkpoint/cp-{epoch:04d}.ckpt'.format(epoch=best_epo))\n",
    "    #model.load_weights(folder_name + '/checkpoint/cp-{epoch:04d}.ckpt'.format(epoch=best_epo) + '/variables')\n",
    "    \n",
    "    return model"
   ]
  },
  {
   "cell_type": "code",
   "execution_count": 4,
   "id": "4d1d3669",
   "metadata": {},
   "outputs": [],
   "source": [
    "def load_selected_model_dp(folder_name, group_name):        \n",
    "        \n",
    "        \n",
    "    with open(folder_name + '/best_dp_unit_number_whole_group_threshold.txt', 'r') as file:\n",
    "        best_unit = file.read().split(' ')[0] # number only\n",
    "\n",
    "    if best_unit == '1':\n",
    "        print('best unit is 1 (original)')\n",
    "        return \n",
    "\n",
    "    else:\n",
    "        folder_name += '/' + folder_name.split('/')[-2] + '-' + best_unit + 'u'\n",
    "\n",
    "        with open(folder_name + '/best_epoch_number_whole_group_thre_' + group_name + '.txt', 'r') as file:\n",
    "            best_epo = file.read()\n",
    "    \n",
    "    model = tf.keras.models.load_model(folder_name + '/checkpoint/cp-{epoch:04d}.ckpt'.format(epoch=int(best_epo)))\n",
    "    \n",
    "    return model"
   ]
  },
  {
   "cell_type": "code",
   "execution_count": 5,
   "id": "31512a37",
   "metadata": {},
   "outputs": [],
   "source": [
    "def load_selected_model_dp_reweight(folder_name, group_name):        \n",
    "        \n",
    "        \n",
    "    with open(folder_name + '/best_dp_unit_number_whole_group_threshold.txt', 'r') as file:\n",
    "        best_unit = file.read().split(' ')[0] # number only\n",
    "\n",
    "    if best_unit == '1':\n",
    "        print('best unit is 1 (original)')\n",
    "        return \n",
    "\n",
    "    else:\n",
    "        folder_name += '/' + folder_name.split('/')[-2] + '-' + best_unit + 'u'\n",
    "\n",
    "        with open(folder_name + '/best_epoch_number_whole_group_thre_' + group_name + '.txt', 'r') as file:\n",
    "            best_epo = file.read()\n",
    "    \n",
    "    model = tf.keras.models.load_model(folder_name + '/checkpoint/cp-{epoch:04d}.ckpt'.format(epoch=int(best_epo)))\n",
    "    \n",
    "    return model"
   ]
  },
  {
   "cell_type": "code",
   "execution_count": 6,
   "id": "02983b36",
   "metadata": {},
   "outputs": [],
   "source": [
    "def load_data(cancer):\n",
    "    if cancer == 'breast':\n",
    "        X_train = np.load('../experiments/data-bcs/X_train_normalized.npy')\n",
    "        X_test = np.load('../experiments/data-bcs/X_test_normalized.npy')\n",
    "    else:\n",
    "        X_train = np.load('../experiments/data-lcs/X_train_normalized.npy')\n",
    "        X_test = np.load('../experiments/data-lcs/X_test_normalized.npy')\n",
    "    \n",
    "    np.random.seed(0)\n",
    "    X_train_100 = X_train[np.random.choice(X_train.shape[0], 100)]\n",
    "    X_test_100 = X_test[np.random.choice(X_test.shape[0], 100)]\n",
    "    \n",
    "    return X_train_100, X_test_100"
   ]
  },
  {
   "cell_type": "code",
   "execution_count": 7,
   "id": "36637846",
   "metadata": {},
   "outputs": [],
   "source": [
    "def read_columns(filename):\n",
    "    with open(filename, 'r') as f:\n",
    "        lines = f.readlines();\n",
    "        #print(len(lines))\n",
    "        variables = []\n",
    "        variable_names = []\n",
    "        previous = ''\n",
    "        count = 0\n",
    "        for i in range(len(lines)):\n",
    "            l = lines[i]\n",
    "#             if 'continuous' in l:\n",
    "#                 variables.append((i, 1))\n",
    "#                 #print(l)\n",
    "#                 #count = 1\n",
    "#             else:\n",
    "            current = \" \".join(l.split(\" \")[:-1]) # remove the number at the end\n",
    "            if previous == current: # same variable\n",
    "                count += 1\n",
    "            else: # previous != current including previous == '', new variable\n",
    "                # append the count for previous \n",
    "                if previous != '':\n",
    "                    variables.append((i-count, count))\n",
    "                    variable_names.append(previous)\n",
    "                # start new\n",
    "                count = 1\n",
    "            previous = current\n",
    "\n",
    "        variables.sort(key = lambda x: x[0]) \n",
    "        #variables = np.array(variables).astype(int)\n",
    "\n",
    "    #return np.array(lines)[variables[:0]], variables\n",
    "    return variable_names, variables"
   ]
  },
  {
   "cell_type": "code",
   "execution_count": 8,
   "id": "cf641d3c",
   "metadata": {},
   "outputs": [],
   "source": [
    "def calculate_shap_values(model, background, test):\n",
    "    \n",
    "    print(\"data loaded\")\n",
    "    explainer = shap.KernelExplainer(model, background)\n",
    "    print(\"explainer created\")\n",
    "    shap_values = explainer.shap_values(test)\n",
    "    print(\"shap values calculated\")\n",
    "    \n",
    "    shap_values = np.array(shap_values)\n",
    "    shap_values = shap_values.reshape(test.shape) # 3 dimentional, only need (sample, feature) 2d array\n",
    "    \n",
    "    shap_values_mean = np.mean(np.abs(shap_values), axis=0)\n",
    "    \n",
    "    return shap_values_mean"
   ]
  },
  {
   "cell_type": "code",
   "execution_count": 9,
   "id": "6b540471",
   "metadata": {},
   "outputs": [],
   "source": [
    "def feature_importance_to_file(folder_name, col_filename, shap_values_mean):\n",
    "    \n",
    "    feature_name, feature_index = read_columns(col_filename)\n",
    "    \n",
    "    # sum importance\n",
    "    sum_values = []\n",
    "    for i in feature_index:\n",
    "        sum_values.append(np.sum(shap_values_mean[i[0]:i[0]+i[1]]))\n",
    "        \n",
    "    sum_sorted_index = np.argsort(sum_values)[::-1]\n",
    "    \n",
    "    sum_data = np.array([np.array(feature_name)[sum_sorted_index], np.array(sum_values)[sum_sorted_index]])\n",
    "    \n",
    "    df_sum = pd.DataFrame(data=np.transpose(sum_data),\n",
    "                         columns=['Feature', 'Importance'], )\n",
    "    \n",
    "    df_sum.to_csv(folder_name + '/SHAP_feature_importance_sum.csv', index=False)\n",
    "    \n",
    "    # average importance\n",
    "    mean_values = []\n",
    "    for i in feature_index:\n",
    "        mean_values.append(np.mean(shap_values_mean[i[0]:i[0]+i[1]]))\n",
    "        \n",
    "    mean_sorted_index = np.argsort(mean_values)[::-1]\n",
    "    \n",
    "    mean_data = np.array([np.array(feature_name)[mean_sorted_index], np.array(mean_values)[mean_sorted_index]])\n",
    "    \n",
    "    df_mean = pd.DataFrame(data=np.transpose(mean_data),\n",
    "                         columns=['Feature', 'Importance'], )\n",
    "    \n",
    "    df_mean.to_csv(folder_name + '/SHAP_feature_importance_mean.csv', index=False)"
   ]
  },
  {
   "cell_type": "code",
   "execution_count": 10,
   "id": "3279264d",
   "metadata": {},
   "outputs": [],
   "source": [
    "def generate_importance(folder_name, col_filename, cancer):\n",
    "\n",
    "    model = load_selected_model(folder_name)\n",
    "    X_train_100, X_test = load_data(cancer)\n",
    "    \n",
    "    shap_values = calculate_shap_values(model, X_train_100, X_test)\n",
    "    \n",
    "    feature_importance_to_file(folder_name, col_filename, shap_values)"
   ]
  },
  {
   "cell_type": "code",
   "execution_count": 11,
   "id": "5a315b95",
   "metadata": {},
   "outputs": [],
   "source": [
    "def generate_importance_dp(folder_name, col_filename, cancer, group_name):\n",
    "\n",
    "    model = load_selected_model_dp(folder_name, group_name)\n",
    "    X_train_100, X_test = load_data(cancer)\n",
    "    \n",
    "    shap_values = calculate_shap_values(model, X_train_100, X_test)\n",
    "    \n",
    "    feature_importance_to_file(folder_name, col_filename, shap_values)"
   ]
  },
  {
   "cell_type": "code",
   "execution_count": null,
   "id": "1fc5ca36",
   "metadata": {},
   "outputs": [],
   "source": []
  },
  {
   "cell_type": "code",
   "execution_count": null,
   "id": "2b5e57af",
   "metadata": {},
   "outputs": [],
   "source": [
    "######## debug and run"
   ]
  },
  {
   "cell_type": "code",
   "execution_count": 10,
   "id": "02bec130",
   "metadata": {},
   "outputs": [
    {
     "name": "stdout",
     "output_type": "stream",
     "text": [
      "data loaded\n",
      "explainer created\n"
     ]
    },
    {
     "data": {
      "application/vnd.jupyter.widget-view+json": {
       "model_id": "06bf04dd550f4f208943d5567f5e798b",
       "version_major": 2,
       "version_minor": 0
      },
      "text/plain": [
       "  0%|          | 0/100 [00:00<?, ?it/s]"
      ]
     },
     "metadata": {},
     "output_type": "display_data"
    },
    {
     "name": "stdout",
     "output_type": "stream",
     "text": [
      "shap values calculated\n"
     ]
    }
   ],
   "source": [
    "# bcs original\n",
    "generate_importance('../experiments/bcs-original/bcs-original-2', '../experiments/bcs_input_columns.txt', 'breast')"
   ]
  },
  {
   "cell_type": "code",
   "execution_count": 11,
   "id": "cb001cd4",
   "metadata": {},
   "outputs": [
    {
     "name": "stdout",
     "output_type": "stream",
     "text": [
      "data loaded\n",
      "explainer created\n"
     ]
    },
    {
     "data": {
      "application/vnd.jupyter.widget-view+json": {
       "model_id": "5642f541c9444b368bd69f58ca15a163",
       "version_major": 2,
       "version_minor": 0
      },
      "text/plain": [
       "  0%|          | 0/100 [00:00<?, ?it/s]"
      ]
     },
     "metadata": {},
     "output_type": "display_data"
    },
    {
     "name": "stdout",
     "output_type": "stream",
     "text": [
      "shap values calculated\n"
     ]
    }
   ],
   "source": [
    "# lcs original\n",
    "generate_importance('../experiments/lcs-original/lcs-original-2', '../experiments/lcs_input_columns.txt', 'lung')"
   ]
  },
  {
   "cell_type": "code",
   "execution_count": 12,
   "id": "72c78b8b",
   "metadata": {},
   "outputs": [
    {
     "name": "stdout",
     "output_type": "stream",
     "text": [
      "data loaded\n",
      "explainer created\n"
     ]
    },
    {
     "data": {
      "application/vnd.jupyter.widget-view+json": {
       "model_id": "ed16d555f7bb4f3ea4967c52b17848b9",
       "version_major": 2,
       "version_minor": 0
      },
      "text/plain": [
       "  0%|          | 0/100 [00:00<?, ?it/s]"
      ]
     },
     "metadata": {},
     "output_type": "display_data"
    },
    {
     "name": "stdout",
     "output_type": "stream",
     "text": [
      "shap values calculated\n",
      "data loaded\n",
      "explainer created\n"
     ]
    },
    {
     "data": {
      "application/vnd.jupyter.widget-view+json": {
       "model_id": "730a528705b24cba9b5ca294cd556a1c",
       "version_major": 2,
       "version_minor": 0
      },
      "text/plain": [
       "  0%|          | 0/100 [00:00<?, ?it/s]"
      ]
     },
     "metadata": {},
     "output_type": "display_data"
    },
    {
     "name": "stdout",
     "output_type": "stream",
     "text": [
      "shap values calculated\n"
     ]
    }
   ],
   "source": [
    "# bcs dp\n",
    "generate_importance_dp('../experiments/bcs-dp-asian/bcs-dp-asian-2', '../experiments/bcs_input_columns.txt', 'breast', 'Ethnicity_Asian')\n",
    "generate_importance_dp('../experiments/bcs-dp-4050/bcs-dp-4050-2', '../experiments/bcs_input_columns.txt', 'breast', '40<=Age<50')"
   ]
  },
  {
   "cell_type": "code",
   "execution_count": 13,
   "id": "01caa685",
   "metadata": {},
   "outputs": [
    {
     "name": "stdout",
     "output_type": "stream",
     "text": [
      "data loaded\n",
      "explainer created\n"
     ]
    },
    {
     "data": {
      "application/vnd.jupyter.widget-view+json": {
       "model_id": "c4e87d5e7aa0454b8b92567c2591d161",
       "version_major": 2,
       "version_minor": 0
      },
      "text/plain": [
       "  0%|          | 0/100 [00:00<?, ?it/s]"
      ]
     },
     "metadata": {},
     "output_type": "display_data"
    },
    {
     "name": "stdout",
     "output_type": "stream",
     "text": [
      "shap values calculated\n",
      "data loaded\n",
      "explainer created\n"
     ]
    },
    {
     "data": {
      "application/vnd.jupyter.widget-view+json": {
       "model_id": "59521eb5ac5c4b07ae2e0e0e3dbef278",
       "version_major": 2,
       "version_minor": 0
      },
      "text/plain": [
       "  0%|          | 0/100 [00:00<?, ?it/s]"
      ]
     },
     "metadata": {},
     "output_type": "display_data"
    },
    {
     "name": "stdout",
     "output_type": "stream",
     "text": [
      "shap values calculated\n"
     ]
    }
   ],
   "source": [
    "# lcs dp\n",
    "generate_importance_dp('../experiments/lcs-dp-black/lcs-dp-black-2', '../experiments/lcs_input_columns.txt', 'lung', 'Ethnicity_Black')\n",
    "generate_importance_dp('../experiments/lcs-dp-age90/lcs-dp-age90-2', '../experiments/lcs_input_columns.txt', 'lung', 'Age>=90')"
   ]
  },
  {
   "cell_type": "code",
   "execution_count": 12,
   "id": "a180a885",
   "metadata": {},
   "outputs": [
    {
     "name": "stdout",
     "output_type": "stream",
     "text": [
      "data loaded\n",
      "explainer created\n"
     ]
    },
    {
     "data": {
      "application/vnd.jupyter.widget-view+json": {
       "model_id": "ee9f749b259c42f0a25120f53f91d52d",
       "version_major": 2,
       "version_minor": 0
      },
      "text/plain": [
       "  0%|          | 0/100 [00:00<?, ?it/s]"
      ]
     },
     "metadata": {},
     "output_type": "display_data"
    },
    {
     "name": "stdout",
     "output_type": "stream",
     "text": [
      "shap values calculated\n",
      "data loaded\n",
      "explainer created\n"
     ]
    },
    {
     "data": {
      "application/vnd.jupyter.widget-view+json": {
       "model_id": "716a24ca5e0d43a2bfc4164b8cbcedf6",
       "version_major": 2,
       "version_minor": 0
      },
      "text/plain": [
       "  0%|          | 0/100 [00:00<?, ?it/s]"
      ]
     },
     "metadata": {},
     "output_type": "display_data"
    },
    {
     "name": "stdout",
     "output_type": "stream",
     "text": [
      "shap values calculated\n"
     ]
    }
   ],
   "source": [
    "generate_importance_dp('../experiments/lcs-dp-black/lcs-dp-black-3', '../experiments/lcs_input_columns.txt', 'lung', 'Ethnicity_Black')\n",
    "generate_importance_dp('../experiments/lcs-dp-age90/lcs-dp-age90-3', '../experiments/lcs_input_columns.txt', 'lung', 'Age>=90')"
   ]
  },
  {
   "cell_type": "code",
   "execution_count": 13,
   "id": "e3f3caab",
   "metadata": {},
   "outputs": [
    {
     "name": "stdout",
     "output_type": "stream",
     "text": [
      "data loaded\n",
      "explainer created\n"
     ]
    },
    {
     "data": {
      "application/vnd.jupyter.widget-view+json": {
       "model_id": "ec703b8f45924c99b7e14821ea46fed0",
       "version_major": 2,
       "version_minor": 0
      },
      "text/plain": [
       "  0%|          | 0/100 [00:00<?, ?it/s]"
      ]
     },
     "metadata": {},
     "output_type": "display_data"
    },
    {
     "name": "stdout",
     "output_type": "stream",
     "text": [
      "shap values calculated\n"
     ]
    }
   ],
   "source": [
    "generate_importance_dp('../experiments/lcs-dp-8090/lcs-dp-8090-2', '../experiments/lcs_input_columns.txt', 'lung', '80<=Age<90')"
   ]
  },
  {
   "cell_type": "code",
   "execution_count": 14,
   "id": "8bbb0a3b",
   "metadata": {},
   "outputs": [
    {
     "name": "stdout",
     "output_type": "stream",
     "text": [
      "data loaded\n",
      "explainer created\n"
     ]
    },
    {
     "data": {
      "application/vnd.jupyter.widget-view+json": {
       "model_id": "3af5e74d9e6d4289b686ca916ebc2a86",
       "version_major": 2,
       "version_minor": 0
      },
      "text/plain": [
       "  0%|          | 0/100 [00:00<?, ?it/s]"
      ]
     },
     "metadata": {},
     "output_type": "display_data"
    },
    {
     "name": "stdout",
     "output_type": "stream",
     "text": [
      "shap values calculated\n"
     ]
    }
   ],
   "source": [
    "# bcs reweight\n",
    "generate_importance('../experiments/bcs-reweight/bcs-reweight-2', '../experiments/bcs_input_columns.txt', 'breast')"
   ]
  },
  {
   "cell_type": "code",
   "execution_count": 15,
   "id": "2957fbf2",
   "metadata": {},
   "outputs": [
    {
     "name": "stdout",
     "output_type": "stream",
     "text": [
      "data loaded\n",
      "explainer created\n"
     ]
    },
    {
     "data": {
      "application/vnd.jupyter.widget-view+json": {
       "model_id": "24b9cf7da13a4ad9a5ec7ec59b961adc",
       "version_major": 2,
       "version_minor": 0
      },
      "text/plain": [
       "  0%|          | 0/100 [00:00<?, ?it/s]"
      ]
     },
     "metadata": {},
     "output_type": "display_data"
    },
    {
     "name": "stdout",
     "output_type": "stream",
     "text": [
      "shap values calculated\n"
     ]
    }
   ],
   "source": [
    "# lcs reweight\n",
    "generate_importance('../experiments/lcs-reweight/lcs-reweight-2', '../experiments/lcs_input_columns.txt', 'lung')"
   ]
  },
  {
   "cell_type": "code",
   "execution_count": 16,
   "id": "85d0c844",
   "metadata": {},
   "outputs": [
    {
     "name": "stdout",
     "output_type": "stream",
     "text": [
      "data loaded\n",
      "explainer created\n"
     ]
    },
    {
     "data": {
      "application/vnd.jupyter.widget-view+json": {
       "model_id": "c03b0687c3104aceaf3919d83793be77",
       "version_major": 2,
       "version_minor": 0
      },
      "text/plain": [
       "  0%|          | 0/100 [00:00<?, ?it/s]"
      ]
     },
     "metadata": {},
     "output_type": "display_data"
    },
    {
     "name": "stdout",
     "output_type": "stream",
     "text": [
      "shap values calculated\n",
      "data loaded\n",
      "explainer created\n"
     ]
    },
    {
     "data": {
      "application/vnd.jupyter.widget-view+json": {
       "model_id": "be543a416e11446b9ee99ea77e9a232d",
       "version_major": 2,
       "version_minor": 0
      },
      "text/plain": [
       "  0%|          | 0/100 [00:00<?, ?it/s]"
      ]
     },
     "metadata": {},
     "output_type": "display_data"
    },
    {
     "name": "stdout",
     "output_type": "stream",
     "text": [
      "shap values calculated\n"
     ]
    }
   ],
   "source": [
    "# bcs dp reweight\n",
    "generate_importance_dp('../experiments/bcs-dpreweight-asian/bcs-dpreweight-asian-1', '../experiments/bcs_input_columns.txt', 'breast', 'Ethnicity_Asian')\n",
    "generate_importance_dp('../experiments/bcs-dpreweight-4050/bcs-dpreweight-4050-1', '../experiments/bcs_input_columns.txt', 'breast', '40<=Age<50')"
   ]
  },
  {
   "cell_type": "code",
   "execution_count": null,
   "id": "8f592426",
   "metadata": {},
   "outputs": [],
   "source": []
  },
  {
   "cell_type": "code",
   "execution_count": 25,
   "id": "9e875f4b",
   "metadata": {},
   "outputs": [],
   "source": [
    "### debug\n",
    "filename = '../experiments/bcs_input_columns.txt'\n",
    "feature_name, feature_index = read_columns(filename)"
   ]
  },
  {
   "cell_type": "code",
   "execution_count": 5,
   "id": "e26c26ff",
   "metadata": {},
   "outputs": [
    {
     "name": "stdout",
     "output_type": "stream",
     "text": [
      "data loaded\n",
      "explainer created\n"
     ]
    },
    {
     "data": {
      "application/vnd.jupyter.widget-view+json": {
       "model_id": "521a365a1aca442db43b26d59c260a0f",
       "version_major": 2,
       "version_minor": 0
      },
      "text/plain": [
       "  0%|          | 0/1000 [00:00<?, ?it/s]"
      ]
     },
     "metadata": {},
     "output_type": "display_data"
    },
    {
     "name": "stdout",
     "output_type": "stream",
     "text": [
      "shap values calculated\n"
     ]
    }
   ],
   "source": [
    "shap_values = calculate_shap_values('breast', '../experiments/bcs-original/bcs-original-2')"
   ]
  },
  {
   "cell_type": "code",
   "execution_count": 6,
   "id": "ad1c28e6",
   "metadata": {},
   "outputs": [
    {
     "data": {
      "text/plain": [
       "1000"
      ]
     },
     "execution_count": 6,
     "metadata": {},
     "output_type": "execute_result"
    }
   ],
   "source": [
    "len(shap_values[0])"
   ]
  },
  {
   "cell_type": "code",
   "execution_count": 7,
   "id": "47538159",
   "metadata": {},
   "outputs": [
    {
     "data": {
      "text/plain": [
       "1418"
      ]
     },
     "execution_count": 7,
     "metadata": {},
     "output_type": "execute_result"
    }
   ],
   "source": [
    "len(shap_values[0][0])"
   ]
  },
  {
   "cell_type": "code",
   "execution_count": 10,
   "id": "5fa8b088",
   "metadata": {},
   "outputs": [],
   "source": [
    "np.save('../experiments/bcs-original/bcs-original-2/shap_values_1000.npy', np.array(shap_values))"
   ]
  },
  {
   "cell_type": "code",
   "execution_count": 90,
   "id": "1962bbb1",
   "metadata": {},
   "outputs": [],
   "source": [
    "shao_vales = np.load('../experiments/bcs-original/bcs-original-2/shap_values_1000.npy')"
   ]
  },
  {
   "cell_type": "code",
   "execution_count": 91,
   "id": "ebf7cd28",
   "metadata": {},
   "outputs": [],
   "source": [
    "shap_values = np.array(shap_values)"
   ]
  },
  {
   "cell_type": "code",
   "execution_count": 92,
   "id": "b797d7f8",
   "metadata": {},
   "outputs": [
    {
     "data": {
      "text/plain": [
       "(100, 1418)"
      ]
     },
     "execution_count": 92,
     "metadata": {},
     "output_type": "execute_result"
    }
   ],
   "source": [
    "shap_values.shape"
   ]
  },
  {
   "cell_type": "code",
   "execution_count": 20,
   "id": "1e4768be",
   "metadata": {},
   "outputs": [],
   "source": [
    "shap_values_mean = np.mean(np.abs(shap_values), axis=0)"
   ]
  },
  {
   "cell_type": "code",
   "execution_count": 21,
   "id": "275cc302",
   "metadata": {},
   "outputs": [
    {
     "data": {
      "text/plain": [
       "(1418,)"
      ]
     },
     "execution_count": 21,
     "metadata": {},
     "output_type": "execute_result"
    }
   ],
   "source": [
    "shap_values_mean.shape"
   ]
  },
  {
   "cell_type": "code",
   "execution_count": 22,
   "id": "93e2f1b0",
   "metadata": {},
   "outputs": [
    {
     "data": {
      "text/plain": [
       "array([9.59678878e-03, 9.98602008e-03, 1.61895978e-03, 1.91449599e-02,\n",
       "       2.66662141e-04, 1.50743645e-04, 1.10340761e-02, 7.25920761e-04,\n",
       "       1.34909806e-02, 0.00000000e+00, 5.10857126e-04, 0.00000000e+00,\n",
       "       1.29582616e-04, 4.10512926e-05, 5.96067829e-04, 1.80015142e-02,\n",
       "       0.00000000e+00, 1.97619834e-04, 0.00000000e+00, 8.07333686e-05])"
      ]
     },
     "execution_count": 22,
     "metadata": {},
     "output_type": "execute_result"
    }
   ],
   "source": [
    "shap_values_mean[:20]"
   ]
  },
  {
   "cell_type": "code",
   "execution_count": 26,
   "id": "b2cfd8a5",
   "metadata": {},
   "outputs": [],
   "source": [
    "merged_values = []\n",
    "for i in feature_index:\n",
    "    merged_values.append(np.sum(shap_values_mean[i[0]:i[0]+i[1]]))"
   ]
  },
  {
   "cell_type": "code",
   "execution_count": 27,
   "id": "ce48bb73",
   "metadata": {},
   "outputs": [
    {
     "data": {
      "text/plain": [
       "56"
      ]
     },
     "execution_count": 27,
     "metadata": {},
     "output_type": "execute_result"
    }
   ],
   "source": [
    "len(merged_values)"
   ]
  },
  {
   "cell_type": "code",
   "execution_count": 28,
   "id": "5a940343",
   "metadata": {},
   "outputs": [
    {
     "data": {
      "text/plain": [
       "56"
      ]
     },
     "execution_count": 28,
     "metadata": {},
     "output_type": "execute_result"
    }
   ],
   "source": [
    "len(feature_name)"
   ]
  },
  {
   "cell_type": "code",
   "execution_count": 31,
   "id": "5be5e10b",
   "metadata": {},
   "outputs": [],
   "source": [
    "sorted_index = np.argsort(merged_values)[::-1]"
   ]
  },
  {
   "cell_type": "code",
   "execution_count": 32,
   "id": "377fe6d3",
   "metadata": {},
   "outputs": [
    {
     "data": {
      "text/plain": [
       "array(['State-county recode', 'EOD 10 - positive lymph nodes examined',\n",
       "       'Grade', 'CS Tumor size', 'CS Site-Specific Factor 3',\n",
       "       'EOD 10 - number of lymph nodes examined', 'SEER registry',\n",
       "       'Derived AJCC T', 'Adjusted AJCC 6th T (1988+)', 'Year of birth',\n",
       "       'Age at diagnosis', 'Derived AJCC N', 'Historic SSG 2000 Stage',\n",
       "       'Adjusted AJCC 6th Stage (1988+)', 'Recode ICD-O-2 to 9',\n",
       "       'Histologic Type ICD-O-2', 'Derived AJCC Stage Group',\n",
       "       'Histologic Type ICD-O-3', 'Derived SS1977',\n",
       "       'CS Site-Specific Factor 1', 'Derived SS2000',\n",
       "       'SEER historic stage A', 'ER Status Recode Breast Cancer (1990+)',\n",
       "       'Insurance Recode (2007+)', 'CS Lymph Nodes',\n",
       "       'CS Site-Specific Factor 4', 'CS Site-Specific Factor 2',\n",
       "       'Month of diagnosis', 'Marital status at diagnosis',\n",
       "       'PR Status Recode Breast Cancer (1990+)',\n",
       "       'CS Version Input Original', 'Adjusted AJCC 6th M (1988+)',\n",
       "       'Race/ethnicity', 'CS Site-Specific Factor 5',\n",
       "       'CS Site-Specific Factor 6', 'CS Mets at DX',\n",
       "       'CS Version Input Current', 'Age recode <1 year olds',\n",
       "       'CS Extension', 'Year of diagnosis', 'Derived AJCC M',\n",
       "       'Broad Histology recode', 'NHIA Derived Hisp Origin',\n",
       "       'Type of reporting source', 'Adjusted AJCC 6th N (1988+)',\n",
       "       'Race recode A', 'Laterality', 'Origin Recode NHIA',\n",
       "       'Race recode Y', 'ICCC site rec extended ICD-O-3/ WHO 2008', 'Sex',\n",
       "       'ICCC site recode ICD-O-3/WHO 2008', 'IHS link',\n",
       "       'AYA site recode/WHO 2008', 'Behavior Code ICD-O-2',\n",
       "       'Recode ICD-O-2 to 10'], dtype='<U40')"
      ]
     },
     "execution_count": 32,
     "metadata": {},
     "output_type": "execute_result"
    }
   ],
   "source": [
    "np.array(feature_name)[sorted_index]"
   ]
  },
  {
   "cell_type": "code",
   "execution_count": 33,
   "id": "7e2fc995",
   "metadata": {},
   "outputs": [],
   "source": [
    "merged_values2 = []\n",
    "for i in feature_index:\n",
    "    merged_values2.append(np.mean(shap_values_mean[i[0]:i[0]+i[1]]))"
   ]
  },
  {
   "cell_type": "code",
   "execution_count": 34,
   "id": "a4abc2ba",
   "metadata": {},
   "outputs": [],
   "source": [
    "sorted_index2 = np.argsort(merged_values2)[::-1]"
   ]
  },
  {
   "cell_type": "code",
   "execution_count": 35,
   "id": "5b63885b",
   "metadata": {},
   "outputs": [
    {
     "data": {
      "text/plain": [
       "array(['Year of birth', 'Age at diagnosis',\n",
       "       'EOD 10 - positive lymph nodes examined', 'Grade',\n",
       "       'EOD 10 - number of lymph nodes examined',\n",
       "       'Age recode <1 year olds', 'Historic SSG 2000 Stage',\n",
       "       'CS Tumor size', 'Year of diagnosis', 'SEER historic stage A',\n",
       "       'ER Status Recode Breast Cancer (1990+)', 'Derived SS1977',\n",
       "       'Derived SS2000', 'PR Status Recode Breast Cancer (1990+)',\n",
       "       'CS Site-Specific Factor 1', 'CS Site-Specific Factor 4',\n",
       "       'Insurance Recode (2007+)', 'Derived AJCC T',\n",
       "       'Adjusted AJCC 6th M (1988+)', 'SEER registry',\n",
       "       'Adjusted AJCC 6th Stage (1988+)', 'Adjusted AJCC 6th T (1988+)',\n",
       "       'CS Site-Specific Factor 2', 'Derived AJCC Stage Group',\n",
       "       'Marital status at diagnosis', 'CS Site-Specific Factor 5',\n",
       "       'Origin Recode NHIA', 'CS Version Input Current', 'Derived AJCC N',\n",
       "       'Recode ICD-O-2 to 9', 'Derived AJCC M', 'Month of diagnosis',\n",
       "       'Race recode A', 'CS Site-Specific Factor 6', 'CS Mets at DX',\n",
       "       'CS Site-Specific Factor 3', 'Type of reporting source',\n",
       "       'Adjusted AJCC 6th N (1988+)', 'Laterality',\n",
       "       'CS Version Input Original', 'Race recode Y',\n",
       "       'NHIA Derived Hisp Origin', 'CS Lymph Nodes', 'Race/ethnicity',\n",
       "       'Sex', 'Histologic Type ICD-O-2', 'Broad Histology recode',\n",
       "       'State-county recode', 'Histologic Type ICD-O-3', 'CS Extension',\n",
       "       'IHS link', 'ICCC site recode ICD-O-3/WHO 2008',\n",
       "       'ICCC site rec extended ICD-O-3/ WHO 2008',\n",
       "       'AYA site recode/WHO 2008', 'Behavior Code ICD-O-2',\n",
       "       'Recode ICD-O-2 to 10'], dtype='<U40')"
      ]
     },
     "execution_count": 35,
     "metadata": {},
     "output_type": "execute_result"
    }
   ],
   "source": [
    "np.array(feature_name)[sorted_index2]"
   ]
  },
  {
   "cell_type": "code",
   "execution_count": null,
   "id": "e3dc6472",
   "metadata": {},
   "outputs": [],
   "source": []
  },
  {
   "cell_type": "code",
   "execution_count": 38,
   "id": "319ca9e5",
   "metadata": {},
   "outputs": [
    {
     "name": "stdout",
     "output_type": "stream",
     "text": [
      "data loaded\n",
      "explainer created\n"
     ]
    },
    {
     "data": {
      "application/vnd.jupyter.widget-view+json": {
       "model_id": "127c113a0e274b68a8a35446d79da974",
       "version_major": 2,
       "version_minor": 0
      },
      "text/plain": [
       "  0%|          | 0/100 [00:00<?, ?it/s]"
      ]
     },
     "metadata": {},
     "output_type": "display_data"
    },
    {
     "name": "stdout",
     "output_type": "stream",
     "text": [
      "shap values calculated\n"
     ]
    }
   ],
   "source": [
    "# test difference between using 100 samples and 1000 samples\n",
    "# using only 100 test samples\n",
    "# much faster\n",
    "shap_values = calculate_shap_values('breast', '../experiments/bcs-original/bcs-original-2')[0]"
   ]
  },
  {
   "cell_type": "code",
   "execution_count": 47,
   "id": "97221706",
   "metadata": {},
   "outputs": [],
   "source": [
    "shap_values_mean = np.mean(np.abs(shap_values)[0], axis=0)"
   ]
  },
  {
   "cell_type": "code",
   "execution_count": 48,
   "id": "30e92734",
   "metadata": {},
   "outputs": [
    {
     "data": {
      "text/plain": [
       "(1418,)"
      ]
     },
     "execution_count": 48,
     "metadata": {},
     "output_type": "execute_result"
    }
   ],
   "source": [
    "shap_values_mean.shape"
   ]
  },
  {
   "cell_type": "code",
   "execution_count": 49,
   "id": "3680d24b",
   "metadata": {},
   "outputs": [],
   "source": [
    "merged_values = []\n",
    "for i in feature_index:\n",
    "    merged_values.append(np.sum(shap_values_mean[i[0]:i[0]+i[1]]))"
   ]
  },
  {
   "cell_type": "code",
   "execution_count": 50,
   "id": "96ae063d",
   "metadata": {},
   "outputs": [
    {
     "data": {
      "text/plain": [
       "array(['State-county recode', 'EOD 10 - positive lymph nodes examined',\n",
       "       'CS Tumor size', 'Grade', 'CS Site-Specific Factor 3',\n",
       "       'EOD 10 - number of lymph nodes examined', 'Derived AJCC T',\n",
       "       'SEER registry', 'Adjusted AJCC 6th T (1988+)', 'Derived AJCC N',\n",
       "       'Age at diagnosis', 'Year of birth',\n",
       "       'Adjusted AJCC 6th Stage (1988+)', 'Historic SSG 2000 Stage',\n",
       "       'Recode ICD-O-2 to 9', 'Derived AJCC Stage Group',\n",
       "       'Histologic Type ICD-O-2', 'Histologic Type ICD-O-3',\n",
       "       'CS Site-Specific Factor 1', 'Derived SS1977', 'Derived SS2000',\n",
       "       'ER Status Recode Breast Cancer (1990+)', 'SEER historic stage A',\n",
       "       'CS Lymph Nodes', 'Insurance Recode (2007+)',\n",
       "       'Marital status at diagnosis', 'CS Site-Specific Factor 4',\n",
       "       'CS Site-Specific Factor 2', 'Month of diagnosis',\n",
       "       'CS Version Input Original',\n",
       "       'PR Status Recode Breast Cancer (1990+)', 'Race/ethnicity',\n",
       "       'CS Site-Specific Factor 6', 'Adjusted AJCC 6th M (1988+)',\n",
       "       'CS Site-Specific Factor 5', 'Type of reporting source',\n",
       "       'CS Extension', 'CS Mets at DX', 'Adjusted AJCC 6th N (1988+)',\n",
       "       'Age recode <1 year olds', 'CS Version Input Current',\n",
       "       'Race recode A', 'Broad Histology recode', 'Year of diagnosis',\n",
       "       'Derived AJCC M', 'Race recode Y', 'Laterality',\n",
       "       'NHIA Derived Hisp Origin', 'Origin Recode NHIA',\n",
       "       'ICCC site recode ICD-O-3/WHO 2008',\n",
       "       'ICCC site rec extended ICD-O-3/ WHO 2008', 'IHS link',\n",
       "       'AYA site recode/WHO 2008', 'Sex', 'Behavior Code ICD-O-2',\n",
       "       'Recode ICD-O-2 to 10'], dtype='<U40')"
      ]
     },
     "execution_count": 50,
     "metadata": {},
     "output_type": "execute_result"
    }
   ],
   "source": [
    "sorted_index = np.argsort(merged_values)[::-1]\n",
    "np.array(feature_name)[sorted_index]"
   ]
  },
  {
   "cell_type": "code",
   "execution_count": null,
   "id": "77612272",
   "metadata": {},
   "outputs": [],
   "source": [
    "merged_values2 = []\n",
    "for i in feature_index:\n",
    "    #print(i)\n",
    "    #print(shap_values_mean[i[0]:i[0]+i[1]])\n",
    "    merged_values2.append(np.mean(shap_values_mean[i[0]:i[0]+i[1]]))"
   ]
  },
  {
   "cell_type": "code",
   "execution_count": 52,
   "id": "865e05b5",
   "metadata": {},
   "outputs": [
    {
     "data": {
      "text/plain": [
       "array(['Age at diagnosis', 'Year of birth',\n",
       "       'EOD 10 - positive lymph nodes examined', 'Grade',\n",
       "       'EOD 10 - number of lymph nodes examined',\n",
       "       'Historic SSG 2000 Stage', 'CS Tumor size',\n",
       "       'Age recode <1 year olds',\n",
       "       'ER Status Recode Breast Cancer (1990+)', 'Year of diagnosis',\n",
       "       'SEER historic stage A', 'Derived SS1977', 'Derived SS2000',\n",
       "       'CS Site-Specific Factor 4', 'CS Site-Specific Factor 1',\n",
       "       'PR Status Recode Breast Cancer (1990+)',\n",
       "       'Insurance Recode (2007+)', 'Derived AJCC T',\n",
       "       'Marital status at diagnosis', 'SEER registry',\n",
       "       'Adjusted AJCC 6th Stage (1988+)', 'Adjusted AJCC 6th T (1988+)',\n",
       "       'Adjusted AJCC 6th M (1988+)', 'Derived AJCC Stage Group',\n",
       "       'CS Site-Specific Factor 5', 'CS Site-Specific Factor 2',\n",
       "       'Derived AJCC N', 'Race recode A', 'Type of reporting source',\n",
       "       'Recode ICD-O-2 to 9', 'CS Site-Specific Factor 6',\n",
       "       'Derived AJCC M', 'Month of diagnosis', 'CS Version Input Current',\n",
       "       'Adjusted AJCC 6th N (1988+)', 'Race recode Y',\n",
       "       'CS Site-Specific Factor 3', 'CS Version Input Original',\n",
       "       'Origin Recode NHIA', 'CS Mets at DX', 'Laterality',\n",
       "       'CS Lymph Nodes', 'Race/ethnicity', 'NHIA Derived Hisp Origin',\n",
       "       'Broad Histology recode', 'Histologic Type ICD-O-2',\n",
       "       'State-county recode', 'Histologic Type ICD-O-3', 'CS Extension',\n",
       "       'ICCC site recode ICD-O-3/WHO 2008',\n",
       "       'ICCC site rec extended ICD-O-3/ WHO 2008', 'Sex',\n",
       "       'Behavior Code ICD-O-2', 'IHS link', 'AYA site recode/WHO 2008',\n",
       "       'Recode ICD-O-2 to 10'], dtype='<U40')"
      ]
     },
     "execution_count": 52,
     "metadata": {},
     "output_type": "execute_result"
    }
   ],
   "source": [
    "sorted_index2 = np.argsort(merged_values2)[::-1]\n",
    "np.array(feature_name)[sorted_index2]"
   ]
  },
  {
   "cell_type": "code",
   "execution_count": 57,
   "id": "9153456d",
   "metadata": {},
   "outputs": [
    {
     "data": {
      "text/plain": [
       "array([9.42595707e-03, 9.03502303e-03, 6.97935795e-03, 4.74283720e-03,\n",
       "       2.36299495e-03, 2.04961309e-03, 1.86677071e-03, 1.85209400e-03,\n",
       "       1.56083309e-03, 1.52983179e-03, 1.52572651e-03, 1.17412265e-03,\n",
       "       1.13868212e-03, 1.01285032e-03, 1.01240789e-03, 9.68949048e-04,\n",
       "       9.05275645e-04, 8.49123500e-04, 7.60363204e-04, 7.51704565e-04,\n",
       "       7.47676941e-04, 7.20892535e-04, 6.95032880e-04, 6.78525126e-04,\n",
       "       6.66718098e-04, 6.58981059e-04, 4.73109997e-04, 4.44510320e-04,\n",
       "       4.41093774e-04, 4.25051805e-04, 3.87176415e-04, 3.59396513e-04,\n",
       "       3.58035047e-04, 3.56723560e-04, 3.20371128e-04, 2.63412597e-04,\n",
       "       2.57473623e-04, 2.48571613e-04, 2.31875634e-04, 2.30875532e-04,\n",
       "       1.62312388e-04, 1.43310817e-04, 1.18853711e-04, 8.52497051e-05,\n",
       "       6.83040652e-05, 6.48976016e-05, 5.88269631e-05, 5.58503689e-05,\n",
       "       5.37541335e-05, 3.35759736e-05, 6.00677710e-06, 0.00000000e+00,\n",
       "       0.00000000e+00, 0.00000000e+00, 0.00000000e+00, 0.00000000e+00])"
      ]
     },
     "execution_count": 57,
     "metadata": {},
     "output_type": "execute_result"
    }
   ],
   "source": [
    "np.array(merged_values2)[sorted_index2]"
   ]
  },
  {
   "cell_type": "code",
   "execution_count": null,
   "id": "6c17b6b0",
   "metadata": {},
   "outputs": [],
   "source": []
  },
  {
   "cell_type": "code",
   "execution_count": null,
   "id": "9ddcb1f5",
   "metadata": {},
   "outputs": [],
   "source": []
  },
  {
   "cell_type": "code",
   "execution_count": 43,
   "id": "19331255",
   "metadata": {},
   "outputs": [
    {
     "data": {
      "text/plain": [
       "array([ 0.14054207,  0.12365059, -0.06090906, ..., -0.03224274,\n",
       "        0.        ,  0.01971833])"
      ]
     },
     "execution_count": 43,
     "metadata": {},
     "output_type": "execute_result"
    }
   ],
   "source": [
    "sum(shap_values[0])"
   ]
  },
  {
   "cell_type": "code",
   "execution_count": 37,
   "id": "c73a0f79",
   "metadata": {},
   "outputs": [
    {
     "name": "stdout",
     "output_type": "stream",
     "text": [
      "Model: \"sequential\"\n",
      "_________________________________________________________________\n",
      "Layer (type)                 Output Shape              Param #   \n",
      "=================================================================\n",
      "dense (Dense)                (None, 20)                28380     \n",
      "_________________________________________________________________\n",
      "dropout (Dropout)            (None, 20)                0         \n",
      "_________________________________________________________________\n",
      "dense_1 (Dense)              (None, 20)                420       \n",
      "_________________________________________________________________\n",
      "dropout_1 (Dropout)          (None, 20)                0         \n",
      "_________________________________________________________________\n",
      "dense_2 (Dense)              (None, 1)                 21        \n",
      "=================================================================\n",
      "Total params: 28,821\n",
      "Trainable params: 28,821\n",
      "Non-trainable params: 0\n",
      "_________________________________________________________________\n"
     ]
    }
   ],
   "source": [
    "model = load_selected_model('../experiments/bcs-original/bcs-original-2')\n",
    "X_test = np.load('../experiments/data-bcs/X_test_normalized.npy')\n",
    "\n",
    "model.summary()"
   ]
  },
  {
   "cell_type": "code",
   "execution_count": 39,
   "id": "9cb1bad2",
   "metadata": {},
   "outputs": [
    {
     "data": {
      "text/plain": [
       "array([[0.9631458 ],\n",
       "       [0.9709036 ],\n",
       "       [0.9916557 ],\n",
       "       [0.9958331 ],\n",
       "       [0.99936086],\n",
       "       [0.6076393 ],\n",
       "       [0.86075497],\n",
       "       [0.8749577 ],\n",
       "       [0.91563714],\n",
       "       [0.99698657],\n",
       "       [0.9549452 ],\n",
       "       [0.79491955],\n",
       "       [0.96708804],\n",
       "       [0.6817847 ],\n",
       "       [0.9787516 ],\n",
       "       [0.9947973 ],\n",
       "       [0.9974389 ],\n",
       "       [0.9080742 ],\n",
       "       [0.8800338 ],\n",
       "       [0.9676145 ],\n",
       "       [0.982733  ],\n",
       "       [0.9645707 ],\n",
       "       [0.94979453],\n",
       "       [0.95160455],\n",
       "       [0.9973189 ],\n",
       "       [0.60796523],\n",
       "       [0.79957056],\n",
       "       [0.34953058],\n",
       "       [0.9942006 ],\n",
       "       [0.96433914],\n",
       "       [0.8669462 ],\n",
       "       [0.9941037 ],\n",
       "       [0.96265846],\n",
       "       [0.6630537 ],\n",
       "       [0.9327435 ],\n",
       "       [0.8435414 ],\n",
       "       [0.9224866 ],\n",
       "       [0.10364173],\n",
       "       [0.98194   ],\n",
       "       [0.9150522 ],\n",
       "       [0.9960603 ],\n",
       "       [0.8547274 ],\n",
       "       [0.9877537 ],\n",
       "       [0.8417863 ],\n",
       "       [0.9993305 ],\n",
       "       [0.97906953],\n",
       "       [0.9935514 ],\n",
       "       [0.9825341 ],\n",
       "       [0.9702955 ],\n",
       "       [0.98329747],\n",
       "       [0.9990766 ],\n",
       "       [0.29550782],\n",
       "       [0.9922563 ],\n",
       "       [0.9976261 ],\n",
       "       [0.09810917],\n",
       "       [0.9935766 ],\n",
       "       [0.09438133],\n",
       "       [0.7397085 ],\n",
       "       [0.06942943],\n",
       "       [0.98417413],\n",
       "       [0.9722615 ],\n",
       "       [0.68184066],\n",
       "       [0.9987631 ],\n",
       "       [0.99402434],\n",
       "       [0.9706743 ],\n",
       "       [0.9925368 ],\n",
       "       [0.99756634],\n",
       "       [0.9554706 ],\n",
       "       [0.9870929 ],\n",
       "       [0.9699921 ],\n",
       "       [0.99389315],\n",
       "       [0.10120405],\n",
       "       [0.39635372],\n",
       "       [0.9858344 ],\n",
       "       [0.97947824],\n",
       "       [0.9866889 ],\n",
       "       [0.9326994 ],\n",
       "       [0.9617509 ],\n",
       "       [0.2555328 ],\n",
       "       [0.9051125 ],\n",
       "       [0.99375385],\n",
       "       [0.9981267 ],\n",
       "       [0.9964814 ],\n",
       "       [0.97021693],\n",
       "       [0.9332958 ],\n",
       "       [0.85919935],\n",
       "       [0.962906  ],\n",
       "       [0.99601537],\n",
       "       [0.9332526 ],\n",
       "       [0.6268572 ],\n",
       "       [0.9438757 ],\n",
       "       [0.03160557],\n",
       "       [0.9931009 ],\n",
       "       [0.9948795 ],\n",
       "       [0.98098207],\n",
       "       [0.26338568],\n",
       "       [0.94359887],\n",
       "       [0.99213916],\n",
       "       [0.9984328 ],\n",
       "       [0.9905487 ]], dtype=float32)"
      ]
     },
     "execution_count": 39,
     "metadata": {},
     "output_type": "execute_result"
    }
   ],
   "source": [
    "model.predict(X_test[100:200])"
   ]
  },
  {
   "cell_type": "code",
   "execution_count": 38,
   "id": "6e7734c8",
   "metadata": {},
   "outputs": [
    {
     "data": {
      "text/plain": [
       "array([-0.46882305,  0.46435207, -0.31052175, ...,  0.        ,\n",
       "        0.        ,  0.        ], dtype=float32)"
      ]
     },
     "execution_count": 38,
     "metadata": {},
     "output_type": "execute_result"
    }
   ],
   "source": [
    "X_test[0]"
   ]
  },
  {
   "cell_type": "code",
   "execution_count": 113,
   "id": "79a1a33f",
   "metadata": {},
   "outputs": [],
   "source": [
    "b = np.array([0.2, 0.3, 0.5])\n",
    "w = np.array([1, 3, 1])"
   ]
  },
  {
   "cell_type": "code",
   "execution_count": 114,
   "id": "e12efeb1",
   "metadata": {},
   "outputs": [
    {
     "ename": "ValueError",
     "evalue": "operands could not be broadcast together with shapes (3,) (4,) ",
     "output_type": "error",
     "traceback": [
      "\u001b[0;31m------------------------------------------------\u001b[0m",
      "\u001b[0;31mValueError\u001b[0m     Traceback (most recent call last)",
      "\u001b[0;32m<ipython-input-114-ab965d29f3cc>\u001b[0m in \u001b[0;36m<module>\u001b[0;34m\u001b[0m\n\u001b[0;32m----> 1\u001b[0;31m \u001b[0mw\u001b[0m \u001b[0;34m*\u001b[0m \u001b[0mb\u001b[0m\u001b[0;34m\u001b[0m\u001b[0;34m\u001b[0m\u001b[0m\n\u001b[0m",
      "\u001b[0;31mValueError\u001b[0m: operands could not be broadcast together with shapes (3,) (4,) "
     ]
    }
   ],
   "source": [
    "w * b"
   ]
  },
  {
   "cell_type": "code",
   "execution_count": null,
   "id": "dfb99d0a",
   "metadata": {},
   "outputs": [],
   "source": []
  }
 ],
 "metadata": {
  "kernelspec": {
   "display_name": "Python 3",
   "language": "python",
   "name": "python3"
  },
  "language_info": {
   "codemirror_mode": {
    "name": "ipython",
    "version": 3
   },
   "file_extension": ".py",
   "mimetype": "text/x-python",
   "name": "python",
   "nbconvert_exporter": "python",
   "pygments_lexer": "ipython3",
   "version": "3.9.7"
  }
 },
 "nbformat": 4,
 "nbformat_minor": 5
}
