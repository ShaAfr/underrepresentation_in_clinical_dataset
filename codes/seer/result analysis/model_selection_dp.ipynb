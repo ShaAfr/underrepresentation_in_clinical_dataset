{
 "cells": [
  {
   "cell_type": "code",
   "execution_count": null,
   "id": "0b8ea57a",
   "metadata": {},
   "outputs": [],
   "source": [
    "import numpy as np\n",
    "import pandas as pd"
   ]
  },
  {
   "cell_type": "code",
   "execution_count": null,
   "id": "afa3dcd2",
   "metadata": {},
   "outputs": [],
   "source": [
    "from evaluate import calibrate_results, generate_everything_all_epochs"
   ]
  },
  {
   "cell_type": "code",
   "execution_count": null,
   "id": "a8cc498f",
   "metadata": {},
   "outputs": [],
   "source": []
  },
  {
   "cell_type": "code",
   "execution_count": null,
   "id": "2d92174f",
   "metadata": {},
   "outputs": [],
   "source": [
    "############################################\n",
    "# select best model/epoch based on a specific group performance\n",
    "#\n",
    "# for dp\n",
    "############################################\n",
    "\n",
    "def select_model(exp_folder_name, epochs, group_name):\n",
    "    \"\"\"\n",
    "    select model based on bal_acc and pr c1\n",
    "    \n",
    "    exp_folder_name: the output directory for the experiment\n",
    "    there should be one file containing the model prediction \n",
    "    on the validation set and one file containing prediction \n",
    "    on the test set for each epoch/model\n",
    "    \n",
    "    cancer: type of cancer. bcs and lcs have different minority class\n",
    "    \"\"\"\n",
    "    all_epochs = []\n",
    "    \n",
    "    for e in range(1, epochs+1):\n",
    "        # select based on validation set, whole group threshold\n",
    "        df = pd.read_csv(exp_folder_name + '/epo ' + str(e) + '/valid_subgroup_threshold_summary.csv')\n",
    "        # base on subgroup\n",
    "        all_epochs.append(df.loc[df['Unnamed: 0'] == group_name].values[0])\n",
    "        \n",
    "    cols = ['Group', 'Rec_C1', 'Prec_C1', 'PR_C1', 'F1_C1', 'Rec_C0', 'Prec_C0', 'PR_C0', 'F1_C0', 'Acc', 'Bal_Acc', 'ROC', 'threshold']\n",
    "    df_all_epochs = pd.DataFrame(data=all_epochs, index=range(1, epochs+1), columns=cols)\n",
    "    df_all_epochs.to_csv(exp_folder_name + '/all_epoch_metrics.csv')\n",
    "    \n",
    "    df_top_3 = df_all_epochs.nlargest(3, 'Bal_Acc')\n",
    "    df_best = df_top_3.nlargest(1, 'PR_C1')\n",
    "    best_index = df_best.index.tolist()[0]\n",
    "    output = open(exp_folder_name + '/best_epoch_number_' + group_name + '.txt', 'w')\n",
    "    output.write(str(best_index))\n",
    "    output.close()"
   ]
  },
  {
   "cell_type": "code",
   "execution_count": null,
   "id": "98255d27",
   "metadata": {},
   "outputs": [],
   "source": [
    "def select_model_whole_group(exp_folder_name, epochs, group_name):\n",
    "    \"\"\"\n",
    "    select model based on bal_acc and pr c1\n",
    "    \n",
    "    exp_folder_name: the output directory for the experiment\n",
    "    there should be one file containing the model prediction \n",
    "    on the validation set and one file containing prediction \n",
    "    on the test set for each epoch/model\n",
    "    \n",
    "    cancer: type of cancer. bcs and lcs have different minority class\n",
    "    \"\"\"\n",
    "    all_epochs = []\n",
    "    \n",
    "    for e in range(1, epochs+1):\n",
    "        # select based on validation set, whole group threshold\n",
    "        df = pd.read_csv(exp_folder_name + '/epo ' + str(e) + '/valid_whole_group_threshold_summary.csv')\n",
    "        # base on subgroup\n",
    "        all_epochs.append(df.loc[df['Unnamed: 0'] == group_name].values[0])\n",
    "        \n",
    "    cols = ['Group', 'Rec_C1', 'Prec_C1', 'PR_C1', 'F1_C1', 'Rec_C0', 'Prec_C0', 'PR_C0', 'F1_C0', 'Acc', 'Bal_Acc', 'ROC', 'threshold']\n",
    "    df_all_epochs = pd.DataFrame(data=all_epochs, index=range(1, epochs+1), columns=cols)\n",
    "    df_all_epochs.to_csv(exp_folder_name + '/all_epoch_metrics_whole_group_thre.csv')\n",
    "    \n",
    "    df_top_3 = df_all_epochs.nlargest(3, 'Bal_Acc')\n",
    "    df_best = df_top_3.nlargest(1, 'PR_C1')\n",
    "    best_index = df_best.index.tolist()[0]\n",
    "    output = open(exp_folder_name + '/best_epoch_number_whole_group_thre_' + group_name + '.txt', 'w')\n",
    "    output.write(str(best_index))\n",
    "    output.close()"
   ]
  },
  {
   "cell_type": "code",
   "execution_count": null,
   "id": "80c07c62",
   "metadata": {},
   "outputs": [],
   "source": [
    "def eval_all_units(folder_name, cancer, group_name):\n",
    "    units = ['2u', '3u', '4u', '5u', '6u', '7u', '8u', '9u', '10u', '12u', '14u', '16u', '18u', '20u']\n",
    "    \n",
    "    for u in units:\n",
    "        folder = folder_name + '/' + folder_name.split('/')[-1][:-2] + '-' + u\n",
    "        \n",
    "        calibrate_results(folder, 25)\n",
    "        generate_everything_all_epochs(folder, 25, cancer)\n",
    "        select_model(folder, 25, group_name)"
   ]
  },
  {
   "cell_type": "code",
   "execution_count": null,
   "id": "ed1c66da",
   "metadata": {},
   "outputs": [],
   "source": [
    "def eval_all_units_whole_group(folder_name, cancer, group_name):\n",
    "    units = ['2u', '3u', '4u', '5u', '6u', '7u', '8u', '9u', '10u', '12u', '14u', '16u', '18u', '20u']\n",
    "    \n",
    "    for u in units:\n",
    "        folder = folder_name + '/' + folder_name.split('/')[-1][:-2] + '-' + u\n",
    "        \n",
    "        calibrate_results(folder, 25)\n",
    "        generate_everything_all_epochs(folder, 25, cancer)\n",
    "        select_model_whole_group(folder, 25, group_name)"
   ]
  },
  {
   "cell_type": "code",
   "execution_count": null,
   "id": "34293132",
   "metadata": {},
   "outputs": [],
   "source": [
    "def select_dp_unit_subgroup_threshold(dp_folder_name, original_folder_name, group_name):\n",
    "    \"\"\"\n",
    "    select the best unit (from 1 to 20) of dp\n",
    "    original model is the model containing 1 unit of minority samples\n",
    "    dp_folder_name: the folder containing dp 2-20 units\n",
    "    original_folder_name: the folder containing the original model (1 unit)\n",
    "    group_name: the subgroup name dp is applied to\n",
    "    \"\"\"\n",
    "    all_units = []\n",
    "    all_units_test = []\n",
    "    \n",
    "    # read the best epoch of each unit model\n",
    "    # and extract perfomance metrics\n",
    "    df_orig = pd.read_csv(original_folder_name + '/valid_subgroup_threshold_summary_mean.csv')\n",
    "    df_orig_test = pd.read_csv(original_folder_name + '/test_subgroup_threshold_summary_mean.csv')\n",
    "    all_units.append(df_orig.loc[df_orig['Unnamed: 0'] == group_name].values[0]) # subgroup performance\n",
    "    all_units_test.append(df_orig_test.loc[df_orig_test['Unnamed: 0'] == group_name].values[0])\n",
    "    \n",
    "    units = ['2u', '3u', '4u', '5u', '6u', '7u', '8u', '9u', '10u', '12u', '14u', '16u', '18u', '20u']\n",
    "    \n",
    "    for u in units:\n",
    "        unit_prefix = dp_folder_name + '/' + dp_folder_name.split('/')[-1][:-2] + '-' + u\n",
    "        file = open(unit_prefix + '/best_epoch_number_' + group_name + '.txt', 'r')\n",
    "        best_epo = file.read()\n",
    "        df = pd.read_csv(unit_prefix + '/epo ' + best_epo + '/valid_subgroup_threshold_summary.csv')\n",
    "        df_test = pd.read_csv(unit_prefix + '/epo ' + best_epo + '/test_subgroup_threshold_summary.csv')\n",
    "        all_units.append(df.loc[df['Unnamed: 0'] == group_name].values[0]) # subgroup performance\n",
    "        all_units_test.append(df_test.loc[df_test['Unnamed: 0'] == group_name].values[0])\n",
    "    \n",
    "    # picking top 3 bal_acc and then the best pr c1\n",
    "    cols = ['Group', 'Rec_C1', 'Prec_C1', 'PR_C1', 'F1_C1', 'Rec_C0', 'Prec_C0', 'PR_C0', 'F1_C0', 'Acc', 'Bal_Acc', 'ROC', 'threshold']\n",
    "    rows = ['1 unit', '2 units', '3 units', '4 units', '5 units', '6 units', '7 units', '8 units', '9 units', \\\n",
    "            '10 units', '12 units', '14 units', '16 units', '18 units', '20 units']\n",
    "    df_all_units = pd.DataFrame(data=all_units, index=rows, columns=cols)\n",
    "    df_all_units.to_csv(dp_folder_name + '/all_units_subgroup_threshold_valid.csv')\n",
    "    df_all_units_test = pd.DataFrame(data=all_units_test, index=rows, columns=cols)\n",
    "    df_all_units_test.to_csv(dp_folder_name + '/all_units_subgroup_threshold_test.csv')\n",
    "    \n",
    "    df_best = df_all_units.nlargest(3, 'Bal_Acc').nlargest(1, 'PR_C1')\n",
    "    \n",
    "    # save the unit number\n",
    "    best_index = df_best.index.tolist()[0]\n",
    "    output = open(dp_folder_name + '/best_dp_unit_number_subgroup_threshold.txt', 'w')\n",
    "    output.write(str(best_index))\n",
    "    output.close()"
   ]
  },
  {
   "cell_type": "code",
   "execution_count": null,
   "id": "975b05a2",
   "metadata": {},
   "outputs": [],
   "source": [
    "def select_dp_unit_whole_group_threshold(dp_folder_name, original_folder_name, group_name):\n",
    "    \"\"\"\n",
    "    select the best unit (from 1 to 20) of dp\n",
    "    original model is the model containing 1 unit of minority samples\n",
    "    dp_folder_name: the folder containing dp 2-20 units\n",
    "    original_folder_name: the folder containing the original model (1 unit)\n",
    "    group_name: the subgroup name dp is applied to\n",
    "    \"\"\"\n",
    "    all_units = []\n",
    "    all_units_test = []\n",
    "    \n",
    "    # read the best epoch of each unit model\n",
    "    # and extract perfomance metrics\n",
    "    \n",
    "    # whole group threshold, subgroup performance\n",
    "    df_orig = pd.read_csv(original_folder_name + '/valid_whole_group_threshold_summary_mean.csv')\n",
    "    df_orig_test = pd.read_csv(original_folder_name + '/test_whole_group_threshold_summary_mean.csv')\n",
    "    all_units.append(df_orig.loc[df_orig['Unnamed: 0'] == group_name].values[0]) # subgroup performance\n",
    "    all_units_test.append(df_orig_test.loc[df_orig_test['Unnamed: 0'] == group_name].values[0])\n",
    "    \n",
    "    units = ['2u', '3u', '4u', '5u', '6u', '7u', '8u', '9u', '10u', '12u', '14u', '16u', '18u', '20u']\n",
    "    group_name2 = dp_folder_name.split(' ')[-1] # last word in folder name is the group name\n",
    "    \n",
    "    for u in units:\n",
    "        unit_prefix = dp_folder_name + '/' + dp_folder_name.split('/')[-1][:-2] + '-' + u\n",
    "        file = open(unit_prefix + '/best_epoch_number_whole_group_thre_' + group_name + '.txt', 'r')\n",
    "        best_epo = file.read()\n",
    "        df = pd.read_csv(unit_prefix + '/epo ' + best_epo + '/valid_whole_group_threshold_summary.csv')\n",
    "        df_test = pd.read_csv(unit_prefix + '/epo ' + best_epo + '/test_whole_group_threshold_summary.csv')\n",
    "        all_units.append(df.loc[df['Unnamed: 0'] == group_name].values[0]) # subgroup performance\n",
    "        all_units_test.append(df_test.loc[df_test['Unnamed: 0'] == group_name].values[0])\n",
    "    \n",
    "    # picking top 3 bal_acc and then the best pr c1\n",
    "    cols = ['Group', 'Rec_C1', 'Prec_C1', 'PR_C1', 'F1_C1', 'Rec_C0', 'Prec_C0', 'PR_C0', 'F1_C0', 'Acc', 'Bal_Acc', 'ROC', 'threshold']\n",
    "    rows = ['1 unit', '2 units', '3 units', '4 units', '5 units', '6 units', '7 units', '8 units', '9 units', \\\n",
    "            '10 units', '12 units', '14 units', '16 units', '18 units', '20 units']\n",
    "    df_all_units = pd.DataFrame(data=all_units, index=rows, columns=cols)\n",
    "    df_all_units.to_csv(dp_folder_name + '/all_units_whole_group_threshold_valid.csv')\n",
    "    df_all_units_test = pd.DataFrame(data=all_units_test, index=rows, columns=cols)\n",
    "    df_all_units_test.to_csv(dp_folder_name + '/all_units_whole_group_threshold_test.csv')\n",
    "    \n",
    "    df_best = df_all_units.nlargest(3, 'Bal_Acc').nlargest(1, 'PR_C1')\n",
    "    \n",
    "    # save the unit number\n",
    "    best_index = df_best.index.tolist()[0]\n",
    "    output = open(dp_folder_name + '/best_dp_unit_number_whole_group_threshold.txt', 'w')\n",
    "    output.write(str(best_index))\n",
    "    output.close()"
   ]
  },
  {
   "cell_type": "code",
   "execution_count": null,
   "id": "f91b0537",
   "metadata": {},
   "outputs": [],
   "source": [
    "def average_5_runs_dp_subgroup_threshold(dp_folder_name, original_folder_name, group_name):\n",
    "    \n",
    "    valid_arr = []\n",
    "    test_arr = []\n",
    "    \n",
    "    for i in range(1, 6):\n",
    "        folder_each_run = dp_folder_name + '/' + dp_folder_name.split('/')[-1] + '-' + str(i)\n",
    "        \n",
    "        # open best unit\n",
    "        unit_file = open(folder_each_run + '/best_dp_unit_number_subgroup_threshold.txt', 'r')\n",
    "        best_unit = unit_file.read().split(' ')[0] # number only\n",
    "        \n",
    "        print(best_unit)\n",
    "        \n",
    "        # open best epoch\n",
    "        if best_unit == '1':\n",
    "            df = pd.read_csv(original_folder_name + '/valid_subgroup_threshold_summary_mean.csv')\n",
    "            df_test = pd.read_csv(original_folder_name + '/test_subgroup_threshold_summary_mean.csv')\n",
    "            \n",
    "        else:\n",
    "            best_unit_folder = folder_each_run + '/' + dp_folder_name.split('/')[-1] + '-' + best_unit + 'u'\n",
    "            epoch_file = open(best_unit_folder + '/best_epoch_number_' + group_name + '.txt', 'r')\n",
    "            best_epo = epoch_file.read()\n",
    "        \n",
    "            # read summary files\n",
    "            df = pd.read_csv(best_unit_folder + '/epo ' + best_epo + '/valid_subgroup_threshold_summary.csv')\n",
    "            df_test = pd.read_csv(best_unit_folder + '/epo ' + best_epo + '/test_subgroup_threshold_summary.csv')\n",
    "\n",
    "        df = df.drop(columns=['Unnamed: 0'])\n",
    "        df_test = df_test.drop(columns=['Unnamed: 0'])\n",
    "        \n",
    "        valid_arr.append(df.values.flatten())\n",
    "        test_arr.append(df_test.values.flatten())\n",
    "        \n",
    "    valid_mean = np.mean(valid_arr, axis=0)\n",
    "    valid_std = np.std(valid_arr, axis=0)\n",
    "\n",
    "    valid_mean = valid_mean.reshape(15, 12)\n",
    "    valid_std = valid_std.reshape(15, 12)\n",
    "    \n",
    "    test_mean = np.mean(test_arr, axis=0)\n",
    "    test_std = np.std(test_arr, axis=0)\n",
    "\n",
    "    test_mean = test_mean.reshape(15, 12)\n",
    "    test_std = test_std.reshape(15, 12)\n",
    "\n",
    "    cols = ['Rec_C1', 'Prec_C1', 'PR_C1', 'F1_C1', 'Rec_C0', 'Prec_C0', 'PR_C0', 'F1_C0', 'Acc', 'Bal_Acc', 'ROC', 'threshold']\n",
    "    rows = ['Whole', 'Gender_Male', 'Gender_Female', 'Ethnicity_White', 'Ethnicity_Black',\\\n",
    "             'Ethnicity_Hispanic', 'Ethnicity_Asian',\\\n",
    "             'Age<30', '30<=Age<40', '40<=Age<50',\\\n",
    "             '50<=Age<60', '60<=Age<70',\\\n",
    "             '70<=Age<80', '80<=Age<90', 'Age>=90']\n",
    "\n",
    "    df_valid_mean = pd.DataFrame(data=valid_mean, index=rows, columns=cols)\n",
    "    df_valid_std = pd.DataFrame(data=valid_std, index=rows, columns=cols)\n",
    "    df_test_mean = pd.DataFrame(data=test_mean, index=rows, columns=cols)\n",
    "    df_test_std = pd.DataFrame(data=test_std, index=rows, columns=cols)\n",
    "\n",
    "    df_valid_mean.to_csv(dp_folder_name + '/valid_subgroup_threshold_summary_mean.csv')\n",
    "    df_valid_std.to_csv(dp_folder_name + '/valid_subgroup_threshold_summary_std.csv')\n",
    "    df_test_mean.to_csv(dp_folder_name + '/test_subgroup_threshold_summary_mean.csv')\n",
    "    df_test_std.to_csv(dp_folder_name + '/test_subgroup_threshold_summary_std.csv')"
   ]
  },
  {
   "cell_type": "code",
   "execution_count": null,
   "id": "14f1c693",
   "metadata": {},
   "outputs": [],
   "source": [
    "def average_5_runs_dp_whole_group_threshold(dp_folder_name, original_folder_name, group_name):\n",
    "    \n",
    "    valid_arr = []\n",
    "    test_arr = []\n",
    "    \n",
    "    for i in range(1, 6):\n",
    "        folder_each_run = dp_folder_name + '/' + dp_folder_name.split('/')[-1] + '-' + str(i)\n",
    "        \n",
    "        # open best unit\n",
    "        unit_file = open(folder_each_run + '/best_dp_unit_number_whole_group_threshold.txt', 'r')\n",
    "        best_unit = unit_file.read().split(' ')[0] # number only\n",
    "        \n",
    "        print(best_unit)\n",
    "        \n",
    "        # open best epoch\n",
    "        if best_unit == '1':\n",
    "            df = pd.read_csv(original_folder_name + '/valid_whole_group_threshold_summary_mean.csv')\n",
    "            df_test = pd.read_csv(original_folder_name + '/test_whole_group_threshold_summary_mean.csv')\n",
    "            \n",
    "        else:\n",
    "            best_unit_folder = folder_each_run + '/' + dp_folder_name.split('/')[-1] + '-' + best_unit + 'u'\n",
    "            epoch_file = open(best_unit_folder + '/best_epoch_number_whole_group_thre_' + group_name + '.txt', 'r')\n",
    "            best_epo = epoch_file.read()\n",
    "        \n",
    "            # read summary files\n",
    "            df = pd.read_csv(best_unit_folder + '/epo ' + best_epo + '/valid_whole_group_threshold_summary.csv')\n",
    "            df_test = pd.read_csv(best_unit_folder + '/epo ' + best_epo + '/test_whole_group_threshold_summary.csv')\n",
    "\n",
    "        df = df.drop(columns=['Unnamed: 0'])\n",
    "        df_test = df_test.drop(columns=['Unnamed: 0'])\n",
    "        \n",
    "        valid_arr.append(df.values.flatten())\n",
    "        test_arr.append(df_test.values.flatten())\n",
    "        \n",
    "    valid_mean = np.mean(valid_arr, axis=0)\n",
    "    valid_std = np.std(valid_arr, axis=0)\n",
    "\n",
    "    valid_mean = valid_mean.reshape(15, 12)\n",
    "    valid_std = valid_std.reshape(15, 12)\n",
    "    \n",
    "    test_mean = np.mean(test_arr, axis=0)\n",
    "    test_std = np.std(test_arr, axis=0)\n",
    "\n",
    "    test_mean = test_mean.reshape(15, 12)\n",
    "    test_std = test_std.reshape(15, 12)\n",
    "\n",
    "    cols = ['Rec_C1', 'Prec_C1', 'PR_C1', 'F1_C1', 'Rec_C0', 'Prec_C0', 'PR_C0', 'F1_C0', 'Acc', 'Bal_Acc', 'ROC', 'threshold']\n",
    "    rows = ['Whole', 'Gender_Male', 'Gender_Female', 'Ethnicity_White', 'Ethnicity_Black',\\\n",
    "             'Ethnicity_Hispanic', 'Ethnicity_Asian',\\\n",
    "             'Age<30', '30<=Age<40', '40<=Age<50',\\\n",
    "             '50<=Age<60', '60<=Age<70',\\\n",
    "             '70<=Age<80', '80<=Age<90', 'Age>=90']\n",
    "\n",
    "    df_valid_mean = pd.DataFrame(data=valid_mean, index=rows, columns=cols)\n",
    "    df_valid_std = pd.DataFrame(data=valid_std, index=rows, columns=cols)\n",
    "    df_test_mean = pd.DataFrame(data=test_mean, index=rows, columns=cols)\n",
    "    df_test_std = pd.DataFrame(data=test_std, index=rows, columns=cols)\n",
    "\n",
    "    df_valid_mean.to_csv(dp_folder_name + '/valid_whole_group_threshold_summary_mean.csv')\n",
    "    df_valid_std.to_csv(dp_folder_name + '/valid_whole_group_threshold_summary_std.csv')\n",
    "    df_test_mean.to_csv(dp_folder_name + '/test_whole_group_threshold_summary_mean.csv')\n",
    "    df_test_std.to_csv(dp_folder_name + '/test_whole_group_threshold_summary_std.csv')"
   ]
  },
  {
   "cell_type": "code",
   "execution_count": null,
   "id": "c908f966",
   "metadata": {},
   "outputs": [],
   "source": [
    "def output_5_runs(dp_folder_name, original_folder_name, group_name):\n",
    "    \"\"\"\n",
    "    put results of each individual runs into 1 file\n",
    "    folder_name: the folder containing the files for each of the 5 runs\n",
    "    \"\"\"\n",
    "    valid_arr = []\n",
    "    test_arr = []\n",
    "    \n",
    "    for i in range(1, 6):\n",
    "        folder_each_run = dp_folder_name + '/' + dp_folder_name.split('/')[-1] + '-' + str(i)\n",
    "        \n",
    "        # open best unit\n",
    "        unit_file = open(folder_each_run + '/best_dp_unit_number_whole_group_threshold.txt', 'r')\n",
    "        best_unit = unit_file.read().split(' ')[0] # number only\n",
    "        unit_file.close()\n",
    "        \n",
    "         # open best epoch\n",
    "        if best_unit == '1':\n",
    "            with open(original_folder_name + '/valid_whole_group_threshold_summary_mean.csv', 'r') as v:\n",
    "                valid_arr.append(v.read())\n",
    "            with open(original_folder_name + '/test_whole_group_threshold_summary_mean.csv', 'r') as t:\n",
    "                test_arr.append(t.read())\n",
    "                \n",
    "        else:\n",
    "            best_unit_folder = folder_each_run + '/' + dp_folder_name.split('/')[-1] + '-' + best_unit + 'u'\n",
    "            epoch_file = open(best_unit_folder + '/best_epoch_number_whole_group_thre_' + group_name + '.txt', 'r')\n",
    "            best_epo = epoch_file.read()\n",
    "        \n",
    "            # read summary files\n",
    "            with open(best_unit_folder + '/epo ' + best_epo + '/valid_whole_group_threshold_summary.csv') as v:\n",
    "                valid_arr.append(v.read())\n",
    "            with open(best_unit_folder + '/epo ' + best_epo + '/test_whole_group_threshold_summary.csv') as t:\n",
    "                test_arr.append(t.read())\n",
    "\n",
    "        \n",
    "    with open(dp_folder_name + '/valid_5_run_results.csv', 'w') as vout:\n",
    "        vout.write('\\n\\n'.join(valid_arr))\n",
    "        \n",
    "    with open(dp_folder_name + '/test_5_run_results.csv', 'w') as tout:\n",
    "        tout.write('\\n\\n'.join(test_arr))"
   ]
  },
  {
   "cell_type": "code",
   "execution_count": null,
   "id": "52c79d10",
   "metadata": {},
   "outputs": [],
   "source": []
  },
  {
   "cell_type": "code",
   "execution_count": null,
   "id": "393ebc64",
   "metadata": {},
   "outputs": [],
   "source": [
    "########\n",
    "# whole group threshold, subgroup performance"
   ]
  },
  {
   "cell_type": "code",
   "execution_count": null,
   "id": "da1960b5",
   "metadata": {},
   "outputs": [],
   "source": [
    "output_5_runs('../experiments/bcs-dp-asian', '../experiments/bcs-original', 'Ethnicity_Asian')"
   ]
  },
  {
   "cell_type": "code",
   "execution_count": null,
   "id": "3936fdce",
   "metadata": {},
   "outputs": [],
   "source": [
    "output_5_runs('../experiments/bcs-dp-hispanic', '../experiments/bcs-original', 'Ethnicity_Hispanic')"
   ]
  },
  {
   "cell_type": "code",
   "execution_count": null,
   "id": "48e8acb8",
   "metadata": {},
   "outputs": [],
   "source": [
    "output_5_runs('../experiments/bcs-dp-age30', '../experiments/bcs-original', 'Age<30')\n",
    "output_5_runs('../experiments/bcs-dp-4050', '../experiments/bcs-original', '40<=Age<50')"
   ]
  },
  {
   "cell_type": "code",
   "execution_count": null,
   "id": "941f3448",
   "metadata": {},
   "outputs": [],
   "source": [
    "output_5_runs('../experiments/bcs-dpreweight-4050', '../experiments/bcs-original', '40<=Age<50')\n",
    "output_5_runs('../experiments/bcs-dpreweight-asian', '../experiments/bcs-original', 'Ethnicity_Asian')"
   ]
  },
  {
   "cell_type": "code",
   "execution_count": null,
   "id": "68a6f7f1",
   "metadata": {},
   "outputs": [],
   "source": [
    "output_5_runs('../experiments/bcs-dp-age90', '../experiments/bcs-original', 'Age>=90')\n",
    "output_5_runs('../experiments/bcs-dp-black', '../experiments/bcs-original', 'Ethnicity_Black')"
   ]
  },
  {
   "cell_type": "code",
   "execution_count": null,
   "id": "a3c3e9dc",
   "metadata": {},
   "outputs": [],
   "source": [
    "output_5_runs('../experiments/lcs-dp-asian', '../experiments/lcs-original', 'Ethnicity_Asian')\n",
    "output_5_runs('../experiments/lcs-dp-hispanic', '../experiments/lcs-original', 'Ethnicity_Hispanic')\n",
    "output_5_runs('../experiments/lcs-dp-age90', '../experiments/lcs-original', 'Age>=90')\n",
    "output_5_runs('../experiments/lcs-dp-8090', '../experiments/lcs-original', '80<=Age<90')\n",
    "output_5_runs('../experiments/lcs-dp-3040', '../experiments/lcs-original', '30<=Age<40')\n",
    "output_5_runs('../experiments/lcs-dp-black', '../experiments/lcs-original', 'Ethnicity_Black')"
   ]
  },
  {
   "cell_type": "code",
   "execution_count": null,
   "id": "622c12ab",
   "metadata": {},
   "outputs": [],
   "source": []
  },
  {
   "cell_type": "code",
   "execution_count": null,
   "id": "56c90be0",
   "metadata": {},
   "outputs": [],
   "source": []
  },
  {
   "cell_type": "code",
   "execution_count": null,
   "id": "84389106",
   "metadata": {},
   "outputs": [],
   "source": [
    "for i in range(1, 6):\n",
    "    eval_all_units_whole_group('../experiments/bcs-dp-asian/bcs-dp-asian-' + str(i), 'breast', 'Ethnicity_Asian')\n",
    "    select_dp_unit_whole_group_threshold('../experiments/bcs-dp-asian/bcs-dp-asian-' + str(i), '../experiments/bcs-original', 'Ethnicity_Asian')\n",
    "average_5_runs_dp_whole_group_threshold('../experiments/bcs-dp-asian', '../experiments/bcs-original', 'Ethnicity_Asian')"
   ]
  },
  {
   "cell_type": "code",
   "execution_count": null,
   "id": "7f7d3c95",
   "metadata": {},
   "outputs": [],
   "source": [
    "for i in range(1, 6):\n",
    "    eval_all_units_whole_group('../experiments/bcs-dp-black/bcs-dp-black-' + str(i), 'breast', 'Ethnicity_Black')\n",
    "    select_dp_unit_whole_group_threshold('../experiments/bcs-dp-black/bcs-dp-black-' + str(i), '../experiments/bcs-original', 'Ethnicity_Black')\n",
    "average_5_runs_dp_whole_group_threshold('../experiments/bcs-dp-black', '../experiments/bcs-original', 'Ethnicity_Black')"
   ]
  },
  {
   "cell_type": "code",
   "execution_count": null,
   "id": "e0be3c63",
   "metadata": {},
   "outputs": [],
   "source": [
    "for i in range(1, 6):\n",
    "    eval_all_units_whole_group('../experiments/bcs-dp-hispanic/bcs-dp-hispanic-' + str(i), 'breast', 'Ethnicity_Hispanic')\n",
    "    select_dp_unit_whole_group_threshold('../experiments/bcs-dp-hispanic/bcs-dp-hispanic-' + str(i), '../experiments/bcs-original', 'Ethnicity_Hispanic')\n",
    "average_5_runs_dp_whole_group_threshold('../experiments/bcs-dp-hispanic', '../experiments/bcs-original', 'Ethnicity_Hispanic')"
   ]
  },
  {
   "cell_type": "code",
   "execution_count": null,
   "id": "243825f3",
   "metadata": {},
   "outputs": [],
   "source": [
    "for i in range(1, 6):\n",
    "    eval_all_units_whole_group('../experiments/bcs-dp-age30/bcs-dp-age30-' + str(i), 'breast', 'Age<30')\n",
    "    select_dp_unit_whole_group_threshold('../experiments/bcs-dp-age30/bcs-dp-age30-' + str(i), '../experiments/bcs-original', 'Age<30')\n",
    "average_5_runs_dp_whole_group_threshold('../experiments/bcs-dp-age30', '../experiments/bcs-original', 'Age<30')"
   ]
  },
  {
   "cell_type": "code",
   "execution_count": null,
   "id": "d7a45d9e",
   "metadata": {},
   "outputs": [],
   "source": [
    "for i in range(1, 6):\n",
    "    eval_all_units_whole_group('../experiments/bcs-dp-4050/bcs-dp-4050-' + str(i), 'breast', '40<=Age<50')\n",
    "    select_dp_unit_whole_group_threshold('../experiments/bcs-dp-4050/bcs-dp-4050-' + str(i), '../experiments/bcs-original', '40<=Age<50')\n",
    "average_5_runs_dp_whole_group_threshold('../experiments/bcs-dp-4050', '../experiments/bcs-original', '40<=Age<50')"
   ]
  },
  {
   "cell_type": "code",
   "execution_count": null,
   "id": "3b9db02d",
   "metadata": {},
   "outputs": [],
   "source": [
    "for i in range(1, 6):\n",
    "    eval_all_units_whole_group('../experiments/bcs-dp-age90/bcs-dp-age90-' + str(i), 'breast', 'Age>=90')\n",
    "    select_dp_unit_whole_group_threshold('../experiments/bcs-dp-age90/bcs-dp-age90-' + str(i), '../experiments/bcs-original', 'Age>=90')\n",
    "average_5_runs_dp_whole_group_threshold('../experiments/bcs-dp-age90', '../experiments/bcs-original', 'Age>=90')"
   ]
  },
  {
   "cell_type": "code",
   "execution_count": null,
   "id": "9994526e",
   "metadata": {},
   "outputs": [],
   "source": [
    "for i in range(1, 6):\n",
    "    eval_all_units_whole_group('../experiments/lcs-dp-black/lcs-dp-black-' + str(i), 'lung', 'Ethnicity_Black')\n",
    "    select_dp_unit_whole_group_threshold('../experiments/lcs-dp-black/lcs-dp-black-' + str(i), '../experiments/lcs-original', 'Ethnicity_Black')\n",
    "average_5_runs_dp_whole_group_threshold('../experiments/lcs-dp-black', '../experiments/lcs-original', 'Ethnicity_Black')"
   ]
  },
  {
   "cell_type": "code",
   "execution_count": null,
   "id": "a6181d25",
   "metadata": {},
   "outputs": [],
   "source": [
    "for i in range(1, 6):\n",
    "    eval_all_units_whole_group('../experiments/lcs-dp-asian/lcs-dp-asian-' + str(i), 'lung', 'Ethnicity_Asian')\n",
    "    select_dp_unit_whole_group_threshold('../experiments/lcs-dp-asian/lcs-dp-asian-' + str(i), '../experiments/lcs-original', 'Ethnicity_Asian')\n",
    "average_5_runs_dp_whole_group_threshold('../experiments/lcs-dp-asian', '../experiments/lcs-original', 'Ethnicity_Asian')"
   ]
  },
  {
   "cell_type": "code",
   "execution_count": null,
   "id": "b76bfb65",
   "metadata": {},
   "outputs": [],
   "source": [
    "for i in range(1, 6):\n",
    "    eval_all_units_whole_group('../experiments/lcs-dp-hispanic/lcs-dp-hispanic-' + str(i), 'lung', 'Ethnicity_Hispanic')\n",
    "    select_dp_unit_whole_group_threshold('../experiments/lcs-dp-hispanic/lcs-dp-hispanic-' + str(i), '../experiments/lcs-original', 'Ethnicity_Hispanic')\n",
    "average_5_runs_dp_whole_group_threshold('../experiments/lcs-dp-hispanic', '../experiments/lcs-original', 'Ethnicity_Hispanic')"
   ]
  },
  {
   "cell_type": "code",
   "execution_count": null,
   "id": "de7bf623",
   "metadata": {},
   "outputs": [],
   "source": [
    "for i in range(1, 6):\n",
    "    eval_all_units_whole_group('../experiments/lcs-dp-age90/lcs-dp-age90-' + str(i), 'lung', 'Age>=90')\n",
    "    select_dp_unit_whole_group_threshold('../experiments/lcs-dp-age90/lcs-dp-age90-' + str(i), '../experiments/lcs-original', 'Age>=90')\n",
    "average_5_runs_dp_whole_group_threshold('../experiments/lcs-dp-age90', '../experiments/lcs-original', 'Age>=90')"
   ]
  },
  {
   "cell_type": "code",
   "execution_count": null,
   "id": "c8070af6",
   "metadata": {},
   "outputs": [],
   "source": [
    "for i in range(1, 6):\n",
    "    eval_all_units_whole_group('../experiments/lcs-dp-3040/lcs-dp-3040-' + str(i), 'lung', '30<=Age<40')\n",
    "    select_dp_unit_whole_group_threshold('../experiments/lcs-dp-3040/lcs-dp-3040-' + str(i), '../experiments/lcs-original', '30<=Age<40')\n",
    "average_5_runs_dp_whole_group_threshold('../experiments/lcs-dp-3040', '../experiments/lcs-original', '30<=Age<40')"
   ]
  },
  {
   "cell_type": "code",
   "execution_count": null,
   "id": "1f8298e9",
   "metadata": {},
   "outputs": [],
   "source": [
    "for i in range(1, 6):\n",
    "    eval_all_units_whole_group('../experiments/lcs-dp-8090/lcs-dp-8090-' + str(i), 'lung', '80<=Age<90')\n",
    "    select_dp_unit_whole_group_threshold('../experiments/lcs-dp-8090/lcs-dp-8090-' + str(i), '../experiments/lcs-original', '80<=Age<90')\n",
    "average_5_runs_dp_whole_group_threshold('../experiments/lcs-dp-8090', '../experiments/lcs-original', '80<=Age<90')"
   ]
  },
  {
   "cell_type": "code",
   "execution_count": null,
   "id": "d5413f02",
   "metadata": {},
   "outputs": [],
   "source": []
  },
  {
   "cell_type": "code",
   "execution_count": null,
   "id": "465b6976",
   "metadata": {},
   "outputs": [],
   "source": []
  },
  {
   "cell_type": "code",
   "execution_count": null,
   "id": "be1c8815",
   "metadata": {},
   "outputs": [],
   "source": [
    "eval_all_units_whole_group('../experiments/bcs-dpreweight-asian/bcs-dpreweight-asian-1', 'breast', 'Ethnicity_Asian')\n",
    "select_dp_unit_whole_group_threshold('../experiments/bcs-dpreweight-asian/bcs-dpreweight-asian-1', '../experiments/bcs-original', 'Ethnicity_Asian')"
   ]
  },
  {
   "cell_type": "code",
   "execution_count": null,
   "id": "23332bc9",
   "metadata": {},
   "outputs": [],
   "source": [
    "eval_all_units_whole_group('../experiments/bcs-dpreweight-4050/bcs-dpreweight-4050-1', 'breast', '40<=Age<50')\n",
    "select_dp_unit_whole_group_threshold('../experiments/bcs-dpreweight-4050/bcs-dpreweight-4050-1', '../experiments/bcs-original', '40<=Age<50')"
   ]
  },
  {
   "cell_type": "code",
   "execution_count": null,
   "id": "2b38021d",
   "metadata": {},
   "outputs": [],
   "source": [
    "for i in range(2,6):\n",
    "    eval_all_units_whole_group('../experiments/bcs-dpreweight-asian/bcs-dpreweight-asian-' + str(i), 'breast', 'Ethnicity_Asian')\n",
    "    select_dp_unit_whole_group_threshold('../experiments/bcs-dpreweight-asian/bcs-dpreweight-asian-' + str(i), '../experiments/bcs-original', 'Ethnicity_Asian')\n",
    "\n",
    "    eval_all_units_whole_group('../experiments/bcs-dpreweight-4050/bcs-dpreweight-4050-' + str(i), 'breast', '40<=Age<50')\n",
    "    select_dp_unit_whole_group_threshold('../experiments/bcs-dpreweight-4050/bcs-dpreweight-4050-' + str(i), '../experiments/bcs-original', '40<=Age<50')"
   ]
  },
  {
   "cell_type": "code",
   "execution_count": null,
   "id": "ab9c830d",
   "metadata": {},
   "outputs": [],
   "source": [
    "average_5_runs_dp_whole_group_threshold('../experiments/bcs-dpreweight-asian', '../experiments/bcs-original', 'Ethnicity_Asian')\n",
    "average_5_runs_dp_whole_group_threshold('../experiments/bcs-dpreweight-4050', '../experiments/bcs-original', '40<=Age<50')"
   ]
  },
  {
   "cell_type": "code",
   "execution_count": null,
   "id": "18a02f57",
   "metadata": {},
   "outputs": [],
   "source": [
    "import tensorflow as tf\n",
    "tf.__version__"
   ]
  },
  {
   "cell_type": "code",
   "execution_count": null,
   "id": "9955cc06",
   "metadata": {},
   "outputs": [],
   "source": [
    "tf.test.gpu_device_name()"
   ]
  },
  {
   "cell_type": "code",
   "execution_count": null,
   "id": "f03534f9",
   "metadata": {},
   "outputs": [],
   "source": [
    "import shap\n",
    "shap.__version__"
   ]
  },
  {
   "cell_type": "code",
   "execution_count": null,
   "id": "35fe8643",
   "metadata": {},
   "outputs": [],
   "source": []
  },
  {
   "cell_type": "code",
   "execution_count": null,
   "id": "afcf1939",
   "metadata": {},
   "outputs": [],
   "source": [
    "################################\n",
    "# old subgroup threshold setting"
   ]
  },
  {
   "cell_type": "code",
   "execution_count": null,
   "id": "588b16b1",
   "metadata": {},
   "outputs": [],
   "source": [
    "############################\n",
    "## debug and run\n",
    "############################\n",
    "eval_all_units('../experiments/bcs-dp-black/bcs-dp-black-2', 'breast', 'Ethnicity_Black')"
   ]
  },
  {
   "cell_type": "code",
   "execution_count": null,
   "id": "da7b2fd9",
   "metadata": {},
   "outputs": [],
   "source": [
    "units = ['9u', '10u', '12u', '14u', '16u', '18u', '20u']\n",
    "folder_name = '../experiments/bcs-dp-black/bcs-dp-black-2'\n",
    "cancer = 'breast'\n",
    "group_name = 'Ethnicity_Black'\n",
    "    \n",
    "for u in units:\n",
    "    folder = folder_name + '/' + folder_name.split('/')[-1][:-2] + '-' + u\n",
    "\n",
    "    calibrate_results(folder, 25)\n",
    "    generate_everything_all_epochs(folder, 25, cancer)\n",
    "    select_model(folder, 25, group_name)"
   ]
  },
  {
   "cell_type": "code",
   "execution_count": null,
   "id": "13337edf",
   "metadata": {},
   "outputs": [],
   "source": [
    "eval_all_units('../experiments/bcs-dp-black/bcs-dp-black-3', 'breast', 'Ethnicity_Black')"
   ]
  },
  {
   "cell_type": "code",
   "execution_count": null,
   "id": "7a7d06e3",
   "metadata": {},
   "outputs": [],
   "source": [
    "eval_all_units('../experiments/bcs-dp-black/bcs-dp-black-4', 'breast', 'Ethnicity_Black')"
   ]
  },
  {
   "cell_type": "code",
   "execution_count": null,
   "id": "7e9fc797",
   "metadata": {},
   "outputs": [],
   "source": [
    "select_dp_unit_subgroup_threshold('../experiments/bcs-dp-black/bcs-dp-black-2', 'Ethnicity_Black')"
   ]
  },
  {
   "cell_type": "code",
   "execution_count": null,
   "id": "3d31b40e",
   "metadata": {},
   "outputs": [],
   "source": [
    "eval_all_units('../experiments/bcs-dp-asian/bcs-dp-asian-2', 'breast', 'Ethnicity_Asian')"
   ]
  },
  {
   "cell_type": "code",
   "execution_count": null,
   "id": "0c15e539",
   "metadata": {},
   "outputs": [],
   "source": [
    "eval_all_units('../experiments/bcs-dp-hispanic/bcs-dp-hispanic-2', 'breast', 'Ethnicity_Hispanic')"
   ]
  },
  {
   "cell_type": "code",
   "execution_count": null,
   "id": "fa81c16b",
   "metadata": {},
   "outputs": [],
   "source": [
    "eval_all_units('../experiments/bcs-dp-age30/bcs-dp-age30-1', 'breast', 'Age<30')"
   ]
  },
  {
   "cell_type": "code",
   "execution_count": null,
   "id": "241e3df7",
   "metadata": {},
   "outputs": [],
   "source": [
    "eval_all_units('../experiments/bcs-dp-age90/bcs-dp-age90-1', 'breast', 'Age>=90')"
   ]
  },
  {
   "cell_type": "code",
   "execution_count": null,
   "id": "c81872f0",
   "metadata": {},
   "outputs": [],
   "source": [
    "select_dp_unit_subgroup_threshold('../experiments/bcs-dp-asian/bcs-dp-asian-2', '../experiments/bcs-original', 'Ethnicity_Asian')"
   ]
  },
  {
   "cell_type": "code",
   "execution_count": null,
   "id": "d5c699f6",
   "metadata": {},
   "outputs": [],
   "source": [
    "select_dp_unit_subgroup_threshold('../experiments/bcs-dp-hispanic/bcs-dp-hispanic-2', '../experiments/bcs-original', 'Ethnicity_Hispanic')"
   ]
  },
  {
   "cell_type": "code",
   "execution_count": null,
   "id": "7e24d255",
   "metadata": {},
   "outputs": [],
   "source": [
    "select_dp_unit_subgroup_threshold('../experiments/bcs-dp-age30/bcs-dp-age30-1', '../experiments/bcs-original', 'Age<30')"
   ]
  },
  {
   "cell_type": "code",
   "execution_count": null,
   "id": "f9c7ba2c",
   "metadata": {},
   "outputs": [],
   "source": [
    "select_dp_unit_subgroup_threshold('../experiments/bcs-dp-age90/bcs-dp-age90-1', '../experiments/bcs-original', 'Age>=90')"
   ]
  },
  {
   "cell_type": "code",
   "execution_count": null,
   "id": "08120875",
   "metadata": {},
   "outputs": [],
   "source": []
  },
  {
   "cell_type": "code",
   "execution_count": null,
   "id": "bf1867cb",
   "metadata": {},
   "outputs": [],
   "source": [
    "eval_all_units('../experiments/bcs-dp-asian/bcs-dp-asian-3', 'breast', 'Ethnicity_Asian')\n",
    "eval_all_units('../experiments/bcs-dp-asian/bcs-dp-asian-4', 'breast', 'Ethnicity_Asian')\n",
    "eval_all_units('../experiments/bcs-dp-asian/bcs-dp-asian-5', 'breast', 'Ethnicity_Asian')"
   ]
  },
  {
   "cell_type": "code",
   "execution_count": null,
   "id": "199c3b7d",
   "metadata": {},
   "outputs": [],
   "source": [
    "eval_all_units('../experiments/bcs-dp-black/bcs-dp-black-3', 'breast', 'Ethnicity_Black')\n",
    "eval_all_units('../experiments/bcs-dp-black/bcs-dp-black-4', 'breast', 'Ethnicity_Black')\n",
    "eval_all_units('../experiments/bcs-dp-black/bcs-dp-black-5', 'breast', 'Ethnicity_Black')"
   ]
  },
  {
   "cell_type": "code",
   "execution_count": null,
   "id": "355b33fd",
   "metadata": {},
   "outputs": [],
   "source": [
    "eval_all_units('../experiments/bcs-dp-age90/bcs-dp-age90-2', 'breast', 'Age>=90')\n",
    "eval_all_units('../experiments/bcs-dp-age90/bcs-dp-age90-3', 'breast', 'Age>=90')\n",
    "eval_all_units('../experiments/bcs-dp-age90/bcs-dp-age90-4', 'breast', 'Age>=90')\n",
    "eval_all_units('../experiments/bcs-dp-age90/bcs-dp-age90-5', 'breast', 'Age>=90')"
   ]
  },
  {
   "cell_type": "code",
   "execution_count": null,
   "id": "ef4fa136",
   "metadata": {},
   "outputs": [],
   "source": [
    "eval_all_units('../experiments/bcs-dp-age30/bcs-dp-age30-2', 'breast', 'Age<30')\n",
    "eval_all_units('../experiments/bcs-dp-age30/bcs-dp-age30-3', 'breast', 'Age<30')\n",
    "eval_all_units('../experiments/bcs-dp-age30/bcs-dp-age30-4', 'breast', 'Age<30')\n",
    "eval_all_units('../experiments/bcs-dp-age30/bcs-dp-age30-5', 'breast', 'Age<30')"
   ]
  },
  {
   "cell_type": "code",
   "execution_count": null,
   "id": "7731e836",
   "metadata": {},
   "outputs": [],
   "source": [
    "eval_all_units('../experiments/bcs-dp-asian/bcs-dp-asian-1', 'breast', 'Ethnicity_Asian')\n",
    "eval_all_units('../experiments/bcs-dp-black/bcs-dp-black-1', 'breast', 'Ethnicity_Black')"
   ]
  },
  {
   "cell_type": "code",
   "execution_count": null,
   "id": "98e602db",
   "metadata": {},
   "outputs": [],
   "source": [
    "select_dp_unit_subgroup_threshold('../experiments/bcs-dp-black/bcs-dp-black-1', '../experiments/bcs-original', 'Ethnicity_Black')"
   ]
  },
  {
   "cell_type": "code",
   "execution_count": null,
   "id": "fc41eaae",
   "metadata": {},
   "outputs": [],
   "source": [
    "select_dp_unit_subgroup_threshold('../experiments/bcs-dp-asian/bcs-dp-asian-1', '../experiments/bcs-original', 'Ethnicity_Asian')"
   ]
  },
  {
   "cell_type": "code",
   "execution_count": null,
   "id": "ffa4b21a",
   "metadata": {},
   "outputs": [],
   "source": [
    "for i in range(2, 6):\n",
    "    select_dp_unit_subgroup_threshold('../experiments/bcs-dp-black/bcs-dp-black-' + str(i), '../experiments/bcs-original', 'Ethnicity_Black')\n",
    "    select_dp_unit_subgroup_threshold('../experiments/bcs-dp-asian/bcs-dp-asian-' + str(i), '../experiments/bcs-original', 'Ethnicity_Asian')"
   ]
  },
  {
   "cell_type": "code",
   "execution_count": null,
   "id": "191eb370",
   "metadata": {},
   "outputs": [],
   "source": [
    "eval_all_units('../experiments/bcs-dp-black/bcs-dp-black-5', 'breast', 'Ethnicity_Black')"
   ]
  },
  {
   "cell_type": "code",
   "execution_count": null,
   "id": "c017493d",
   "metadata": {},
   "outputs": [],
   "source": []
  },
  {
   "cell_type": "code",
   "execution_count": null,
   "id": "9c925e72",
   "metadata": {},
   "outputs": [],
   "source": [
    "for i in range(1, 6):\n",
    "    eval_all_units('../experiments/lcs-dp-asian/lcs-dp-asian-' + str(i), 'lung', 'Ethnicity_Asian')\n",
    "    eval_all_units('../experiments/lcs-dp-black/lcs-dp-black-' + str(i), 'lung', 'Ethnicity_Black')"
   ]
  },
  {
   "cell_type": "code",
   "execution_count": null,
   "id": "43c408a2",
   "metadata": {},
   "outputs": [],
   "source": [
    "for i in range(1, 6):\n",
    "    eval_all_units('../experiments/bcs-dp-3040/bcs-dp-3040-' + str(i), 'breast', '30<=Age<40')\n",
    "    eval_all_units('../experiments/bcs-dp-4050/bcs-dp-4050-' + str(i), 'breast', '40<=Age<50')"
   ]
  },
  {
   "cell_type": "code",
   "execution_count": null,
   "id": "e9bd6224",
   "metadata": {},
   "outputs": [],
   "source": [
    "for i in range(1, 6):\n",
    "    select_dp_unit_subgroup_threshold('../experiments/bcs-dp-age30/bcs-dp-age30-' + str(i), '../experiments/bcs-original', 'Age<30')\n",
    "    select_dp_unit_subgroup_threshold('../experiments/bcs-dp-age90/bcs-dp-age90-' + str(i), '../experiments/bcs-original', 'Age>=90')"
   ]
  },
  {
   "cell_type": "code",
   "execution_count": null,
   "id": "078d74d4",
   "metadata": {},
   "outputs": [],
   "source": [
    "average_5_runs_dp_subgroup_threshold('../experiments/bcs-dp-asian', 'Ethnicity_Asian')\n",
    "average_5_runs_dp_subgroup_threshold('../experiments/bcs-dp-black', 'Ethnicity_Black')"
   ]
  },
  {
   "cell_type": "code",
   "execution_count": null,
   "id": "d42eec2f",
   "metadata": {},
   "outputs": [],
   "source": [
    "for i in range(1, 6):\n",
    "    select_dp_unit_subgroup_threshold('../experiments/bcs-dp-hispanic/bcs-dp-hispanic-' + str(i), '../experiments/bcs-original', 'Ethnicity_Hispanic')"
   ]
  },
  {
   "cell_type": "code",
   "execution_count": null,
   "id": "9b770508",
   "metadata": {},
   "outputs": [],
   "source": [
    "average_5_runs_dp_subgroup_threshold('../experiments/bcs-dp-hispanic', '../experiments/bcs-original', 'Ethnicity_Hispanic')"
   ]
  },
  {
   "cell_type": "code",
   "execution_count": null,
   "id": "76e12457",
   "metadata": {},
   "outputs": [],
   "source": [
    "average_5_runs_dp_subgroup_threshold('../experiments/bcs-dp-age30', '../experiments/bcs-original', 'Age<30')\n",
    "average_5_runs_dp_subgroup_threshold('../experiments/bcs-dp-age90', '../experiments/bcs-original', 'Age>=90')"
   ]
  },
  {
   "cell_type": "code",
   "execution_count": null,
   "id": "066e61b2",
   "metadata": {},
   "outputs": [],
   "source": [
    "for i in range(1, 6):\n",
    "    select_dp_unit_subgroup_threshold('../experiments/lcs-dp-black/lcs-dp-black-' + str(i), '../experiments/lcs-original', 'Ethnicity_Black')\n",
    "    select_dp_unit_subgroup_threshold('../experiments/lcs-dp-asian/lcs-dp-asian-' + str(i), '../experiments/lcs-original', 'Ethnicity_Asian')"
   ]
  },
  {
   "cell_type": "code",
   "execution_count": null,
   "id": "29c67a72",
   "metadata": {},
   "outputs": [],
   "source": [
    "average_5_runs_dp_subgroup_threshold('../experiments/lcs-dp-asian', '../experiments/lcs-original', 'Ethnicity_Asian')\n",
    "average_5_runs_dp_subgroup_threshold('../experiments/lcs-dp-black', '../experiments/lcs-original', 'Ethnicity_Black')"
   ]
  },
  {
   "cell_type": "code",
   "execution_count": null,
   "id": "4d0e53f6",
   "metadata": {},
   "outputs": [],
   "source": [
    "eval_all_units('../experiments/bcs-dp-hispanic/bcs-dp-hispanic-1', 'breast', 'Ethnicity_Hispanic')"
   ]
  },
  {
   "cell_type": "code",
   "execution_count": null,
   "id": "733ea5d2",
   "metadata": {},
   "outputs": [],
   "source": [
    "eval_all_units('../experiments/bcs-dp-hispanic/bcs-dp-hispanic-3', 'breast', 'Ethnicity_Hispanic')\n",
    "eval_all_units('../experiments/bcs-dp-hispanic/bcs-dp-hispanic-4', 'breast', 'Ethnicity_Hispanic')\n",
    "eval_all_units('../experiments/bcs-dp-hispanic/bcs-dp-hispanic-5', 'breast', 'Ethnicity_Hispanic')"
   ]
  },
  {
   "cell_type": "code",
   "execution_count": null,
   "id": "16c60961",
   "metadata": {},
   "outputs": [],
   "source": [
    "for i in range(1, 6):\n",
    "    eval_all_units('../experiments/lcs-dp-hispanic/lcs-dp-hispanic-' + str(i), 'lung', 'Ethnicity_Hispanic')\n",
    "    eval_all_units('../experiments/lcs-dp-age90/lcs-dp-age90-' + str(i), 'lung', 'Age>=90')"
   ]
  },
  {
   "cell_type": "code",
   "execution_count": null,
   "id": "d930ca7b",
   "metadata": {
    "scrolled": true
   },
   "outputs": [],
   "source": [
    "for i in range(1, 6):\n",
    "    select_dp_unit_subgroup_threshold('../experiments/lcs-dp-hispanic/lcs-dp-hispanic-' + str(i), '../experiments/lcs-original', 'Ethnicity_Hispanic')\n",
    "    select_dp_unit_subgroup_threshold('../experiments/lcs-dp-age90/lcs-dp-age90-' + str(i), '../experiments/lcs-original', 'Age>=90')"
   ]
  },
  {
   "cell_type": "code",
   "execution_count": null,
   "id": "10856be1",
   "metadata": {},
   "outputs": [],
   "source": [
    "average_5_runs_dp_subgroup_threshold('../experiments/lcs-dp-hispanic', '../experiments/lcs-original', 'Ethnicity_Hispanic')\n",
    "average_5_runs_dp_subgroup_threshold('../experiments/lcs-dp-age90', '../experiments/lcs-original', 'Age>=90')"
   ]
  },
  {
   "cell_type": "code",
   "execution_count": null,
   "id": "56b58a05",
   "metadata": {
    "scrolled": false
   },
   "outputs": [],
   "source": [
    "for i in range(1, 6):\n",
    "    eval_all_units('../experiments/lcs-dp-8090/lcs-dp-8090-' + str(i), 'lung', '80<=Age<90')\n",
    "    eval_all_units('../experiments/lcs-dp-3040/lcs-dp-3040-' + str(i), 'lung', '30<=Age<40')"
   ]
  },
  {
   "cell_type": "code",
   "execution_count": null,
   "id": "be0824a4",
   "metadata": {},
   "outputs": [],
   "source": [
    "for i in range(1, 6):  \n",
    "    select_dp_unit_subgroup_threshold('../experiments/lcs-dp-8090/lcs-dp-8090-' + str(i), '../experiments/lcs-original', '80<=Age<90')\n",
    "average_5_runs_dp_subgroup_threshold('../experiments/lcs-dp-8090', '../experiments/lcs-original', '80<=Age<90')"
   ]
  },
  {
   "cell_type": "code",
   "execution_count": null,
   "id": "f9cb420c",
   "metadata": {
    "scrolled": true
   },
   "outputs": [],
   "source": [
    "for i in range(1, 6):  \n",
    "    select_dp_unit_subgroup_threshold('../experiments/lcs-dp-3040/lcs-dp-3040-' + str(i), '../experiments/lcs-original', '30<=Age<40')\n",
    "average_5_runs_dp_subgroup_threshold('../experiments/lcs-dp-3040', '../experiments/lcs-original', '30<=Age<40')"
   ]
  },
  {
   "cell_type": "code",
   "execution_count": null,
   "id": "618248e8",
   "metadata": {},
   "outputs": [],
   "source": [
    "for i in range(1, 6):  \n",
    "    select_dp_unit_subgroup_threshold('../experiments/bcs-dp-3040/bcs-dp-3040-' + str(i), '../experiments/bcs-original', '30<=Age<40')\n",
    "average_5_runs_dp_subgroup_threshold('../experiments/bcs-dp-3040', '../experiments/bcs-original', '30<=Age<40')"
   ]
  },
  {
   "cell_type": "code",
   "execution_count": null,
   "id": "de3696ee",
   "metadata": {},
   "outputs": [],
   "source": [
    "for i in range(1, 6):  \n",
    "    select_dp_unit_subgroup_threshold('../experiments/bcs-dp-4050/bcs-dp-4050-' + str(i), '../experiments/bcs-original', '40<=Age<50')\n",
    "average_5_runs_dp_subgroup_threshold('../experiments/bcs-dp-4050', '../experiments/bcs-original', '40<=Age<50')"
   ]
  },
  {
   "cell_type": "code",
   "execution_count": null,
   "id": "29cfc5c9",
   "metadata": {},
   "outputs": [],
   "source": []
  },
  {
   "cell_type": "code",
   "execution_count": null,
   "id": "c9297e6b",
   "metadata": {},
   "outputs": [],
   "source": [
    "\n",
    "((0.01212) ** 2 / 5 + (0.01947) ** 2 / 5) ** (1/2)"
   ]
  },
  {
   "cell_type": "code",
   "execution_count": null,
   "id": "a6af5dfd",
   "metadata": {},
   "outputs": [],
   "source": [
    "((0.01212) ** 2 + (0.01947) ** 2) ** (1/2)"
   ]
  },
  {
   "cell_type": "code",
   "execution_count": null,
   "id": "a10474af",
   "metadata": {},
   "outputs": [],
   "source": []
  },
  {
   "cell_type": "code",
   "execution_count": null,
   "id": "dd5d0639",
   "metadata": {},
   "outputs": [],
   "source": []
  },
  {
   "cell_type": "code",
   "execution_count": null,
   "id": "d8e780bf",
   "metadata": {},
   "outputs": [],
   "source": []
  }
 ],
 "metadata": {
  "kernelspec": {
   "display_name": "Python 3",
   "language": "python",
   "name": "python3"
  },
  "language_info": {
   "codemirror_mode": {
    "name": "ipython",
    "version": 3
   },
   "file_extension": ".py",
   "mimetype": "text/x-python",
   "name": "python",
   "nbconvert_exporter": "python",
   "pygments_lexer": "ipython3",
   "version": "3.8.5"
  }
 },
 "nbformat": 4,
 "nbformat_minor": 5
}
